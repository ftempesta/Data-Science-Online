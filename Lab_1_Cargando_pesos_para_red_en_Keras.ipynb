{
  "nbformat": 4,
  "nbformat_minor": 0,
  "metadata": {
    "colab": {
      "name": "Lab_1: Cargando pesos para red en Keras",
      "provenance": [],
      "collapsed_sections": [
        "n7IXq8KdyqB9",
        "rJ1-1vQO8Olq",
        "jI_uKzRd9xhV",
        "BeFT2hyYUS5h",
        "ScmWvBEjckPf",
        "HmqbZXDth3ry"
      ],
      "include_colab_link": true
    },
    "kernelspec": {
      "name": "python3",
      "display_name": "Python 3"
    },
    "accelerator": "GPU"
  },
  "cells": [
    {
      "cell_type": "markdown",
      "metadata": {
        "id": "view-in-github",
        "colab_type": "text"
      },
      "source": [
        "<a href=\"https://colab.research.google.com/github/ftempesta/Data-Science-Online/blob/master/Lab_1_Cargando_pesos_para_red_en_Keras.ipynb\" target=\"_parent\"><img src=\"https://colab.research.google.com/assets/colab-badge.svg\" alt=\"Open In Colab\"/></a>"
      ]
    },
    {
      "cell_type": "markdown",
      "metadata": {
        "id": "Zu0VgDj7lW_D"
      },
      "source": [
        "# Redes Feed Forward en Keras"
      ]
    },
    {
      "cell_type": "code",
      "metadata": {
        "id": "P4DSrq_3aech"
      },
      "source": [
        "from tensorflow import keras"
      ],
      "execution_count": null,
      "outputs": []
    },
    {
      "cell_type": "code",
      "metadata": {
        "id": "ZuHWCb6beXNO"
      },
      "source": [
        "# Una red feed forward en keras se puede crear con keras.Sequential\n",
        "\n",
        "red_de_prueba = keras.Sequential()\n",
        "\n",
        "# Por ahora nuestra red está vacía"
      ],
      "execution_count": null,
      "outputs": []
    },
    {
      "cell_type": "code",
      "metadata": {
        "id": "nVFAZZ43eh8K"
      },
      "source": [
        "# Se pueden agregar capas con el método .add\n",
        "# Por ahora usaremos capas densas, que se crean con keras.layers.Dense\n",
        "# Una capa dense está definida por la cantidad de neuronas y la\n",
        "# función de activación. También se le puede asignar un nombre.\n",
        "#\n",
        "# El siguiente código agrega dos capas:\n",
        "# - una primera capa con 30 neuronas y activación sigmoid\n",
        "# - una segunnda capa con 20 neuronas y activación relu\n",
        "#\n",
        "# Nota que a la primera capa debes decirle el tamaño de la entrada\n",
        "# Estamos suponiendo que la entrada es de tamaño 40.\n",
        "\n",
        "red_de_prueba = keras.Sequential()\n",
        "\n",
        "red_de_prueba.add(\n",
        "    keras.layers.Dense(30, input_dim=40, activation='sigmoid', \n",
        "                       name='primera_capa')\n",
        ")\n",
        "\n",
        "red_de_prueba.add(\n",
        "    keras.layers.Dense(20, activation='relu', name='segunda_capa')\n",
        ")\n",
        "\n",
        "# Se puede ver un resumen de la red hasta ahora con .summary \n",
        "\n",
        "red_de_prueba.summary()"
      ],
      "execution_count": null,
      "outputs": []
    },
    {
      "cell_type": "code",
      "metadata": {
        "id": "AglNosCMf2gR"
      },
      "source": [
        "# Podemos agregar otra capa sobre las anteriores\n",
        "# La capa también se puede crear en una variable y luego usarla\n",
        "\n",
        "red_de_prueba.add(keras.layers.Dense(1, activation='sigmoid', name='ultima'))\n",
        "\n",
        "# Nuestra red debiera tener ahora 3 capas\n",
        "red_de_prueba.summary()"
      ],
      "execution_count": null,
      "outputs": []
    },
    {
      "cell_type": "markdown",
      "metadata": {
        "id": "hGtVFqKtiikW"
      },
      "source": [
        "## Ejercicio 1\n",
        "Crea una red de nombre `red` con 3 capas escondidas con las siguientes dimensiones  (el primer numero es el tamaño del input, el ultimo el tamaño del output):\n",
        "\n",
        "30 --> 20 --> 10 --> 20 --> 4\n",
        "\n",
        "y con activaciones `'relu'`, `'sigmoid'`, `'relu'`, `'softmax'`. Ponle nombres \"primera\", \"segunda\", \"tercera\" y \"final\" a las capas de tu red. Tu código debiera comenzar con  `red = keras.Sequential()`. \n",
        "\n",
        "Al terminar tu código y ejecutar `red.summary()` debieras ver un texto como el siguiente:\n",
        "\n",
        "```\n",
        "_________________________________________________________________\n",
        "Layer (type)                 Output Shape              Param #   \n",
        "=================================================================\n",
        "primera (Dense)              (None, 20)                620       \n",
        "_________________________________________________________________\n",
        "segunda (Dense)              (None, 10)                210       \n",
        "_________________________________________________________________\n",
        "tercera (Dense)              (None, 20)                220       \n",
        "_________________________________________________________________\n",
        "final (Dense)                (None, 4)                 84        \n",
        "=================================================================\n",
        "Total params: 1,134\n",
        "Trainable params: 1,134\n",
        "Non-trainable params: 0\n",
        "_________________________________________________________________\n",
        "```"
      ]
    },
    {
      "cell_type": "code",
      "metadata": {
        "id": "uPYncUn7hdzn"
      },
      "source": [
        "# Acá empieza tu código (~5 líneas)\n",
        "\n",
        "red = keras.Sequential()\n",
        "\n",
        "# Acá termina tu código\n",
        "\n",
        "red.summary()"
      ],
      "execution_count": null,
      "outputs": []
    },
    {
      "cell_type": "markdown",
      "metadata": {
        "id": "sh3O1Q19k3_z"
      },
      "source": [
        "## Ejercicio 2\n",
        "\n",
        "Una red sin pesos no puede hacer nada realmente. En este ejercicio agregaremos pesos al azar a cada capa de la red. Más adelante agregaremos pesos con sentido."
      ]
    },
    {
      "cell_type": "code",
      "metadata": {
        "id": "_ScPCs6wh9Pp"
      },
      "source": [
        "import numpy as np\n",
        "np.random.seed(30) # esto es para que el proceso sea repetible"
      ],
      "execution_count": null,
      "outputs": []
    },
    {
      "cell_type": "code",
      "metadata": {
        "id": "CoM6KeLXlQsA"
      },
      "source": [
        "# La primera capa es de dimensiones 30x20 con un bias de tamaño 20.\n",
        "# El sigueinte código crea matrices de pesos y bias para la primera\n",
        "# capa de nuestra red anterior\n",
        "\n",
        "W1 = np.random.randn(30,20).astype('float32')\n",
        "b1 = np.random.randn(20).astype('float32')"
      ],
      "execution_count": null,
      "outputs": []
    },
    {
      "cell_type": "code",
      "metadata": {
        "id": "yiXzRIPclQfZ"
      },
      "source": [
        "# Con este código podemos setear los pesos directamente en la primera capa\n",
        "\n",
        "red.get_layer('primera').set_weights((W1,b1))"
      ],
      "execution_count": null,
      "outputs": []
    },
    {
      "cell_type": "code",
      "metadata": {
        "id": "T-Rfe6OGlQT7"
      },
      "source": [
        "# podemos ver que los pesos sean efectivamente los mismos haciendo esto\n",
        "\n",
        "(W,b) = red.get_layer('primera').get_weights()\n",
        "print(W[10][10], W1[10][10])"
      ],
      "execution_count": null,
      "outputs": []
    },
    {
      "cell_type": "markdown",
      "metadata": {
        "id": "V42fmihJpKM0"
      },
      "source": [
        "Crea pesos y bias para todas las capas que restan (segunda, tercera, y final). Ponle los siguientes nombres a los pesos y bias: `W2`, `b2`, `W3`, `b3`, `U`,  y `c`.\n",
        "\n",
        "Al terminar tu código (si ejecutas todo bien desde el `np.random.seed(30)`), al ejecutar esta línea de código \n",
        "\n",
        "```\n",
        "print(red.get_layer('final').get_weights()[0][0,3])\n",
        "```\n",
        "\n",
        "debieras obtener el valor `0.689416`.\n",
        "\n"
      ]
    },
    {
      "cell_type": "code",
      "metadata": {
        "id": "gcrzK8RqlQGY"
      },
      "source": [
        "# Genera los nuevos pesos y bias\n",
        "# Acá empieza tu código (~6 líneas)\n",
        "\n",
        "\n",
        "# Acá termina tu código"
      ],
      "execution_count": null,
      "outputs": []
    },
    {
      "cell_type": "code",
      "metadata": {
        "id": "KDpnMrRRmwoy"
      },
      "source": [
        "# Ahora asigna los pesos a cada capa\n",
        "# Acá empieza tu código (~3 líneas)\n",
        "\n",
        "\n",
        "# Acá termina tu código\n",
        "\n",
        "# Pro-tip: puedes referirte a una capa por su índice\n",
        "# usando red.layers[i]."
      ],
      "execution_count": null,
      "outputs": []
    },
    {
      "cell_type": "code",
      "metadata": {
        "id": "iBExJxt9qmkX"
      },
      "source": [
        "# Si todo anduvo bien, el valor de la variable impresa abajo\n",
        "# debiera ser 0.689416 (no olvides ejecutar todo el código desde \n",
        "# que se asigna la semilla).\n",
        "\n",
        "print(red.get_layer('final').get_weights()[0][0,3])"
      ],
      "execution_count": null,
      "outputs": []
    },
    {
      "cell_type": "markdown",
      "metadata": {
        "id": "QBrHU8e7sBEK"
      },
      "source": [
        "## Ejercicio 3: Pasada hacia adelante por la red\n",
        "\n",
        "Una vez creada la red y los pesos, se puede usar la red completa para pasar un conjunto de datos completo por ella, también llamado \"predicción\". Para esto crearemos conjuntos de datos aleatorios."
      ]
    },
    {
      "cell_type": "code",
      "metadata": {
        "id": "S2d3iJ8lqmjY"
      },
      "source": [
        "# Primero creamos datos de entrada (también random).\n",
        "# Crearemos M=1000 casos\n",
        "\n",
        "np.random.seed(30)\n",
        "M = 1000\n",
        "X = np.random.randn(M,30)"
      ],
      "execution_count": null,
      "outputs": []
    },
    {
      "cell_type": "code",
      "metadata": {
        "id": "sZKLZZF9vVNY"
      },
      "source": [
        "# Para seleccionar los datos desde la posición i a la j hacemos X[i:j+1]\n",
        "# Lo siguiente muestra los ejemplos de las posiciones 30, 31 y 32\n",
        "\n",
        "print(X[30:33])"
      ],
      "execution_count": null,
      "outputs": []
    },
    {
      "cell_type": "code",
      "metadata": {
        "id": "C9StpXF1qmew"
      },
      "source": [
        "# Para predecir con la red, simplemente usamos red.predict() y le pasamos\n",
        "# todos los ejemplos para los que queremos que haga una predicción.\n",
        "# Lo siguiente genera la predicción para los ejemplos 30, 31 y 32.\n",
        "# Nota que el resultado es un arreglo/matriz de 3x4 (note el uso de shape)\n",
        "\n",
        "Pred = red.predict(X[30:33])\n",
        "print(Pred)\n",
        "print('tamaño:', Pred.shape)"
      ],
      "execution_count": null,
      "outputs": []
    },
    {
      "cell_type": "markdown",
      "metadata": {
        "id": "ld26YP8SweYS"
      },
      "source": [
        "Calcula la pasada hacia adelante (predicción) para los ejemplos desde el 890 al 903, ambos inclusive, y guardalos en la variable `Pred`.\n",
        "\n",
        "Luego imprime el valor `Pred[12,2]` y debiera darte el valor `0.9982584`"
      ]
    },
    {
      "cell_type": "code",
      "metadata": {
        "id": "zUXaqNR9qmZg"
      },
      "source": [
        "# Acá empieza tu código (~2 líneas)\n",
        "\n",
        "# Acá termina tu código"
      ],
      "execution_count": null,
      "outputs": []
    },
    {
      "cell_type": "markdown",
      "metadata": {
        "id": "n7IXq8KdyqB9"
      },
      "source": [
        "## Ejercicio 4: Predicciones como probabilidades\n",
        "\n",
        "Cuando la red se usa con `softmax` en la última activación genera probabilidades que indican la probabilidad de predicción en cada clase. Para determinar la predicción en cada caso, podemos usar `np.argmax`, que calcula el índice del valor máximo en la predicción."
      ]
    },
    {
      "cell_type": "code",
      "metadata": {
        "id": "coSL9RA9qmQs"
      },
      "source": [
        "# Calculemos primero la predicción para los inputs en el rango 0:5\n",
        "\n",
        "Pred = red.predict(X[0:5])\n",
        "print(Pred)\n",
        "print(Pred.shape)"
      ],
      "execution_count": null,
      "outputs": []
    },
    {
      "cell_type": "code",
      "metadata": {
        "id": "fYybT1OP2MDv"
      },
      "source": [
        "# np.argmax entrega el índice de la posición de mayor valor.\n",
        "# Con axis=1, le decimos que el máximo se debe calcular en cada \"fila\"\n",
        "\n",
        "clases = np.argmax(Pred, axis=1)\n",
        "print(clases)\n",
        "print(clases.shape)"
      ],
      "execution_count": null,
      "outputs": []
    },
    {
      "cell_type": "markdown",
      "metadata": {
        "id": "6edwFTJQ3YTN"
      },
      "source": [
        "Calcula la clase que la red predice para los ejemplos en los índices 199, 549, y 997. Tus resultados debieran ser 2, 0 y 1, respectivamente."
      ]
    },
    {
      "cell_type": "code",
      "metadata": {
        "id": "4MK9cTpl1nBd"
      },
      "source": [
        "# Acá empieza tu código (~5 líneas)\n",
        "\n",
        "# Acá termina tu código"
      ],
      "execution_count": null,
      "outputs": []
    },
    {
      "cell_type": "markdown",
      "metadata": {
        "id": "ITI4nuZZ4rLH"
      },
      "source": [
        "# Red para MNIST\n",
        "\n",
        "Ahora construiremos una red para un problema real de detección de números escritos a mano. No entrenaremos la red si no que cargaremos pesos directamente y la usaremos para hacer predicciónes. \n",
        "\n",
        "Vamos a partir cargando datos desde `keras.datasets.mnist`."
      ]
    },
    {
      "cell_type": "code",
      "metadata": {
        "id": "VCBig7YD5Fp-"
      },
      "source": [
        "# Carga datos de MNIST (solo cargaremos un conjunto de pruebas).\n",
        "# Nota el tamaño de los datos\n",
        "\n",
        "_, (imgs, labs) = keras.datasets.mnist.load_data()\n",
        "print(imgs.shape)\n",
        "print(labs.shape)"
      ],
      "execution_count": null,
      "outputs": []
    },
    {
      "cell_type": "code",
      "metadata": {
        "id": "YJG2M0EFqmDM"
      },
      "source": [
        "# Podemos visualizar una imagen cualquiera \n",
        "# (si ejecutas esta celda cambiando 'd' puedes ver una distinta)\n",
        "\n",
        "from matplotlib import pyplot as plt\n",
        "d = 80\n",
        "print('etiqueta:',labs[d])\n",
        "plt.imshow(imgs[d])"
      ],
      "execution_count": null,
      "outputs": []
    },
    {
      "cell_type": "markdown",
      "metadata": {
        "id": "acd4D9ug62wE"
      },
      "source": [
        "Lo primero que debes notar es que los inputs tienen forma de (10000, 28, 28) lo que será  un problema para cualquier red que hagamos. Por lo que cambiaremos su forma y lo dejaremos todo en una matriz de 10000 x (28*28), esto lo hacemos con el comando `reshape`."
      ]
    },
    {
      "cell_type": "code",
      "metadata": {
        "id": "Zwgirqpf6wSS"
      },
      "source": [
        "X = imgs.reshape(10000,28*28)\n",
        "print(X.shape)"
      ],
      "execution_count": null,
      "outputs": []
    },
    {
      "cell_type": "markdown",
      "metadata": {
        "id": "Rrn6QrOU7mSu"
      },
      "source": [
        "Lo siguiente que haremos será \"normalizar\" los valores de entrada, de manera tal que todos estén entre 0 y 1. Más adelante veremos que este paso resulta demasiado importante en el buen funcionamiento de las redes. Las imágenes son valores de intensidad de un pixel de entre 0 y 255. Para normalizarlos simplemente dividimos todos los datos por 255."
      ]
    },
    {
      "cell_type": "code",
      "metadata": {
        "id": "ahNA9N-w7xU9"
      },
      "source": [
        "# Dividimos por 255\n",
        "X = X / 255"
      ],
      "execution_count": null,
      "outputs": []
    },
    {
      "cell_type": "markdown",
      "metadata": {
        "id": "rJ1-1vQO8Olq"
      },
      "source": [
        "##  Descripción de la  red para MNIST\n",
        "\n",
        "\n",
        "En esta parte, usaremos pesos y bias preconstruidos para crear una red que predice (con alta certeza) la etiqueta de imágenes de números escritos a mano en imágenes de 28x28 pixeles. La red tiene esta arquitectura:\n",
        "\n",
        "784 --> 32 (relu) --> 16 (relu) --> 10 (softmax)\n",
        "\n",
        "Tu trabajo será crear la red con esa arquitectura usando `keras.Sequential` y `keras.layers.Dense`, usar las funciones de activación correspondientes, cargar los pesos y bias en cada una  de las capas, y luego probar la red haciendo predicciones para ciertos ejemplos.\n",
        "\n",
        "** Este ejercicio es considerablemente más largo que los anteriores **"
      ]
    },
    {
      "cell_type": "markdown",
      "metadata": {
        "id": "jI_uKzRd9xhV"
      },
      "source": [
        "## Paso 0: Construyendo las matrices de pesos\n",
        "\n",
        "Carga los pesos y bias  de la red. Los archivos son tales que `W1.txt` y `b1.txt`  corresponden al a primera capa, `W2.txt` y `b2.txt` a la segunda,  y `U` y `c` a la capa final."
      ]
    },
    {
      "cell_type": "code",
      "metadata": {
        "id": "_DPyvChpa2Yn"
      },
      "source": [
        "# Con el siguiente código puedes descargar los pesos\n",
        "# y descomprímelos en la carpeta mnist_weights.\n",
        "\n",
        "!wget -q dcc.uchile.cl/~jperez/cursos/cc66h/mnist_weights.tar.gz -o /dev/null\n",
        "!tar -zxvf mnist_weights.tar.gz"
      ],
      "execution_count": null,
      "outputs": []
    },
    {
      "cell_type": "code",
      "metadata": {
        "id": "-kJHIyTVBIw8"
      },
      "source": [
        "import numpy as np"
      ],
      "execution_count": null,
      "outputs": []
    },
    {
      "cell_type": "code",
      "metadata": {
        "id": "z34D60UvPNps"
      },
      "source": [
        "# Para cargar datos desde archivos en arreglos numpy\n",
        "# puedes usar np.loadtxt\n",
        "\n",
        "W1 = np.loadtxt('mnist_weights/W1.txt')\n",
        "b1 = np.loadtxt('mnist_weights/b1.txt')"
      ],
      "execution_count": null,
      "outputs": []
    },
    {
      "cell_type": "code",
      "metadata": {
        "id": "z58yk9kyPiyq"
      },
      "source": [
        "# Carga tu los datos en las variables W2, b2, U, y c\n",
        "\n",
        "# Acá empieza tu código (~4 lineas)\n",
        "\n",
        "\n",
        "# Acá termina tu código\n",
        "\n",
        "# Si todo funciona bien, lo siguiente debiera imprimir los valores\n",
        "# -0.14337286353111267\n",
        "# 0.06190946325659752\n",
        "# 0.10503328591585159\n",
        "# 0.12370651960372925\n",
        "\n",
        "print(W2[5][7])\n",
        "print(b2[10])\n",
        "print(U[6][8])\n",
        "print(c[5])"
      ],
      "execution_count": null,
      "outputs": []
    },
    {
      "cell_type": "markdown",
      "metadata": {
        "id": "p151G5LU9kBZ"
      },
      "source": [
        "## Paso 1: Creando la  red\n",
        "\n",
        "Crea la red. Llámale simplemente `red`.\n"
      ]
    },
    {
      "cell_type": "code",
      "metadata": {
        "id": "XwE2o5aW9jVR"
      },
      "source": [
        "# Acá empieza tu código (~5 líneas)\n",
        "\n",
        "\n",
        "# Acá termina tu código"
      ],
      "execution_count": null,
      "outputs": []
    },
    {
      "cell_type": "markdown",
      "metadata": {
        "id": "cqtnSS0yQhpp"
      },
      "source": [
        "## Paso 2: Carga los pesos\n",
        "\n",
        "Carga los pesos en cada una de las capas  (según lo que aprendiste antes)"
      ]
    },
    {
      "cell_type": "code",
      "metadata": {
        "id": "8HKdts_lQqpf"
      },
      "source": [
        "# Acá empieza tu código (~3 líneas)\n",
        "\n",
        "\n",
        "# Acá termina tu código"
      ],
      "execution_count": null,
      "outputs": []
    },
    {
      "cell_type": "code",
      "metadata": {
        "id": "XqS9-vraRc0g"
      },
      "source": [
        "# Si cargaste todo correctamente, lo siguiente debiera dar el valor 0.96696055\n",
        "\n",
        "test_in = np.ones((1,28*28)).astype('float32')\n",
        "test_out = red.predict(test_in)\n",
        "print(test_out[0][7])"
      ],
      "execution_count": null,
      "outputs": []
    },
    {
      "cell_type": "markdown",
      "metadata": {
        "id": "BeFT2hyYUS5h"
      },
      "source": [
        "## Paso 3: Probabiilidades de predicción\n",
        "\n",
        "Primero imprime la imágen en el índice 195, y luego,  con tu red cargada calcula las probabilidades para cada clase para la imagen en el índice 195. ¿Cuáles son las dos clases más probables para este ejemplo?"
      ]
    },
    {
      "cell_type": "code",
      "metadata": {
        "id": "6tS4YlSVbchu"
      },
      "source": [
        "# Primero imprimimos\n",
        "plt.imshow(imgs[195])"
      ],
      "execution_count": null,
      "outputs": []
    },
    {
      "cell_type": "code",
      "metadata": {
        "id": "I17mjitvbAAF"
      },
      "source": [
        "# Ahora calcula las probabilidades para cada clase. \n",
        "# Acá empieza tu código (~2 líneas)\n",
        "\n",
        "\n",
        "# Acá termina tu código\n",
        "# Cuáles son las más altas?"
      ],
      "execution_count": null,
      "outputs": []
    },
    {
      "cell_type": "markdown",
      "metadata": {
        "id": "ScmWvBEjckPf"
      },
      "source": [
        "## Paso 4: Prediciendo Clases\n",
        "\n",
        "Usa lo que has aprendido antes (en particular la función `np.argmax`) para hacer un trozo de código que, dada una variable que representa un índice entre 0 y 9999, muestre la imagen asociada a ese índice, la etiqueta real de la imagen, la etiqueta predicha por la red. La celda debería generar un output de la siguiente forma\n",
        "\n",
        "```\n",
        "etiqueta real: <valor1>\n",
        "predicción: <valor2>\n",
        "<imagen>\n",
        "```\n",
        "\n",
        "Opcional: si sabes un poco más de python, trata de hacer una función que reciba el índice como input y entregue lo pedido. "
      ]
    },
    {
      "cell_type": "code",
      "metadata": {
        "id": "ZAK8Kp7PcjsM"
      },
      "source": [
        "# Acá empieza tu código (~5 líneas)\n",
        "\n",
        "\n",
        "\n",
        "# Acá termina tu código"
      ],
      "execution_count": null,
      "outputs": []
    },
    {
      "cell_type": "markdown",
      "metadata": {
        "id": "HmqbZXDth3ry"
      },
      "source": [
        "## Paso 5: Opcional\n",
        "\n",
        "Haz un trozo de código que calcule cuántas predicciones de la red fueron correctas y cuántas fueron incorrectas, y use esos números para computar un porcentaje de acierto de la red. \n",
        "\n",
        "Opcional: si sabes algo de numpy, intenta hacer todo el proceso sin hacer iteraciones (de hecho, podrías tratar de hacerlo con y sin iteraciones y luego comprobar cuál es la ganancia en tiempo de hacerlo sin usar una iteración)."
      ]
    },
    {
      "cell_type": "code",
      "metadata": {
        "id": "RuVK_Je3h26V",
        "cellView": "both"
      },
      "source": [
        "# Acá empieza tu código (~5 líneas)\n",
        "\n",
        "\n",
        "\n",
        "# Acá termina tu código"
      ],
      "execution_count": null,
      "outputs": []
    }
  ]
}