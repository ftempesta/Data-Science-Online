{
  "nbformat": 4,
  "nbformat_minor": 0,
  "metadata": {
    "colab": {
      "name": "Laboratorio 1: Pre-procesamiento de datos.ipynb",
      "provenance": [],
      "toc_visible": true,
      "include_colab_link": true
    },
    "kernelspec": {
      "name": "python3",
      "display_name": "Python 3"
    },
    "language_info": {
      "name": "python"
    }
  },
  "cells": [
    {
      "cell_type": "markdown",
      "metadata": {
        "id": "view-in-github",
        "colab_type": "text"
      },
      "source": [
        "<a href=\"https://colab.research.google.com/github/ftempesta/Data-Science-Online/blob/master/Laboratorio_1_Pre_procesamiento_de_datos.ipynb\" target=\"_parent\"><img src=\"https://colab.research.google.com/assets/colab-badge.svg\" alt=\"Open In Colab\"/></a>"
      ]
    },
    {
      "cell_type": "markdown",
      "metadata": {
        "id": "SY5nKZLMHApM"
      },
      "source": [
        "# Instrucciones\n",
        "\n",
        "- Trabaja en grupos de dos a tres personas.\n",
        "- Haz una copia de este notebook en `File -> Save a copy in Drive`.\n",
        "- Recomiendo que uno de los integrantes transmita su pantalla con el notebook mientras conversan con los demás integrantes.\n",
        "- Al final de la sesión, descarga el notebook `File -> Download -> Download .ipynb` y súbelo en la sección Tareas de U-Cursos que se abrirá para esta sesión.\n"
      ]
    },
    {
      "cell_type": "markdown",
      "metadata": {
        "id": "EuUmr83XHEf0"
      },
      "source": [
        "# Laboratorio"
      ]
    },
    {
      "cell_type": "markdown",
      "metadata": {
        "id": "RyLFKDxJNtDS"
      },
      "source": [
        ""
      ]
    },
    {
      "cell_type": "code",
      "metadata": {
        "id": "t3R7cZ_qHB6X"
      },
      "source": [
        "import pandas as pd"
      ],
      "execution_count": null,
      "outputs": []
    },
    {
      "cell_type": "markdown",
      "metadata": {
        "id": "3emwqHKuNknE"
      },
      "source": [
        "## 1. Imputar datos faltantes\n",
        "\n",
        "El siguiente código carga un dataset que contiene datos sobre cáncer de mama."
      ]
    },
    {
      "cell_type": "code",
      "metadata": {
        "colab": {
          "base_uri": "https://localhost:8080/",
          "height": 238
        },
        "id": "MZxQyYNKHC7i",
        "outputId": "90be1c7c-07b0-4f47-ff85-8e2d344222e5"
      },
      "source": [
        "data = pd.read_csv('https://archive.ics.uci.edu/ml/machine-learning-databases/breast-cancer-wisconsin/breast-cancer-wisconsin.data', header=None)\n",
        "\n",
        "data.columns = ['Sample code', 'Clump Thickness', 'Uniformity of Cell Size', 'Uniformity of Cell Shape',\n",
        "                'Marginal Adhesion', 'Single Epithelial Cell Size', 'Bare Nuclei', 'Bland Chromatin',\n",
        "                'Normal Nucleoli', 'Mitoses','Class']\n",
        "\n",
        "# eliminamos columnas que no usaremos\n",
        "data = data.drop(columns=['Sample code', 'Class'], axis=1)\n",
        "\n",
        "print('Instancias = %d' % (data.shape[0]))\n",
        "print('Atributos = %d' % (data.shape[1]))\n",
        "\n",
        "# primeras filas del dataset\n",
        "data.head()"
      ],
      "execution_count": null,
      "outputs": [
        {
          "output_type": "stream",
          "text": [
            "Instancias = 699\n",
            "Atributos = 9\n"
          ],
          "name": "stdout"
        },
        {
          "output_type": "execute_result",
          "data": {
            "text/html": [
              "<div>\n",
              "<style scoped>\n",
              "    .dataframe tbody tr th:only-of-type {\n",
              "        vertical-align: middle;\n",
              "    }\n",
              "\n",
              "    .dataframe tbody tr th {\n",
              "        vertical-align: top;\n",
              "    }\n",
              "\n",
              "    .dataframe thead th {\n",
              "        text-align: right;\n",
              "    }\n",
              "</style>\n",
              "<table border=\"1\" class=\"dataframe\">\n",
              "  <thead>\n",
              "    <tr style=\"text-align: right;\">\n",
              "      <th></th>\n",
              "      <th>Clump Thickness</th>\n",
              "      <th>Uniformity of Cell Size</th>\n",
              "      <th>Uniformity of Cell Shape</th>\n",
              "      <th>Marginal Adhesion</th>\n",
              "      <th>Single Epithelial Cell Size</th>\n",
              "      <th>Bare Nuclei</th>\n",
              "      <th>Bland Chromatin</th>\n",
              "      <th>Normal Nucleoli</th>\n",
              "      <th>Mitoses</th>\n",
              "    </tr>\n",
              "  </thead>\n",
              "  <tbody>\n",
              "    <tr>\n",
              "      <th>0</th>\n",
              "      <td>5</td>\n",
              "      <td>1</td>\n",
              "      <td>1</td>\n",
              "      <td>1</td>\n",
              "      <td>2</td>\n",
              "      <td>1</td>\n",
              "      <td>3</td>\n",
              "      <td>1</td>\n",
              "      <td>1</td>\n",
              "    </tr>\n",
              "    <tr>\n",
              "      <th>1</th>\n",
              "      <td>5</td>\n",
              "      <td>4</td>\n",
              "      <td>4</td>\n",
              "      <td>5</td>\n",
              "      <td>7</td>\n",
              "      <td>10</td>\n",
              "      <td>3</td>\n",
              "      <td>2</td>\n",
              "      <td>1</td>\n",
              "    </tr>\n",
              "    <tr>\n",
              "      <th>2</th>\n",
              "      <td>3</td>\n",
              "      <td>1</td>\n",
              "      <td>1</td>\n",
              "      <td>1</td>\n",
              "      <td>2</td>\n",
              "      <td>2</td>\n",
              "      <td>3</td>\n",
              "      <td>1</td>\n",
              "      <td>1</td>\n",
              "    </tr>\n",
              "    <tr>\n",
              "      <th>3</th>\n",
              "      <td>6</td>\n",
              "      <td>8</td>\n",
              "      <td>8</td>\n",
              "      <td>1</td>\n",
              "      <td>3</td>\n",
              "      <td>4</td>\n",
              "      <td>3</td>\n",
              "      <td>7</td>\n",
              "      <td>1</td>\n",
              "    </tr>\n",
              "    <tr>\n",
              "      <th>4</th>\n",
              "      <td>4</td>\n",
              "      <td>1</td>\n",
              "      <td>1</td>\n",
              "      <td>3</td>\n",
              "      <td>2</td>\n",
              "      <td>1</td>\n",
              "      <td>3</td>\n",
              "      <td>1</td>\n",
              "      <td>1</td>\n",
              "    </tr>\n",
              "  </tbody>\n",
              "</table>\n",
              "</div>"
            ],
            "text/plain": [
              "   Clump Thickness  Uniformity of Cell Size  ...  Normal Nucleoli  Mitoses\n",
              "0                5                        1  ...                1        1\n",
              "1                5                        4  ...                2        1\n",
              "2                3                        1  ...                1        1\n",
              "3                6                        8  ...                7        1\n",
              "4                4                        1  ...                1        1\n",
              "\n",
              "[5 rows x 9 columns]"
            ]
          },
          "metadata": {
            "tags": []
          },
          "execution_count": 28
        }
      ]
    },
    {
      "cell_type": "markdown",
      "metadata": {
        "id": "e6O3afXpHofL"
      },
      "source": [
        "De acuerdo a la [descripción del dataset](https://archive.ics.uci.edu/ml/datasets/breast+cancer+wisconsin+(original)), éste tiene datos faltantes, y dice que fueron marcados como \"?\".\n",
        "\n",
        "Los datos faltantes está en la columna \"Bare Nuclei\"."
      ]
    },
    {
      "cell_type": "markdown",
      "metadata": {
        "id": "0qQu69VcI2Nt"
      },
      "source": [
        "**Pregunta 1**\n",
        "\n",
        "En el siguiente bloque escriba el código que filtra `data` de forma que entregue las filas que contienen datos faltantes."
      ]
    },
    {
      "cell_type": "code",
      "metadata": {
        "id": "0VBvMByAI1uO"
      },
      "source": [
        "#### modificar esta celda\n"
      ],
      "execution_count": null,
      "outputs": []
    },
    {
      "cell_type": "markdown",
      "metadata": {
        "id": "aLzZhAzhJOu-"
      },
      "source": [
        "---"
      ]
    },
    {
      "cell_type": "markdown",
      "metadata": {
        "id": "QjJrejC7JE3L"
      },
      "source": [
        "El siguiente código reporta cuáles otras filas contienen datos faltantes y cambia el valor \"?\" por `NaN`."
      ]
    },
    {
      "cell_type": "code",
      "metadata": {
        "colab": {
          "base_uri": "https://localhost:8080/"
        },
        "id": "0-1yik_tHNae",
        "outputId": "831bc727-6a9b-4383-f93c-df844c6835b4"
      },
      "source": [
        "import numpy as np\n",
        "\n",
        "data = data.replace('?', np.NaN)\n",
        "\n",
        "print('Instancias = %d' % (data.shape[0]))\n",
        "print('Atributos = %d' % (data.shape[1]))\n",
        "\n",
        "print('Datos faltantes:')\n",
        "for col in data.columns:\n",
        "    print('\\t%s: %d' % (col, data[col].isna().sum()))"
      ],
      "execution_count": null,
      "outputs": [
        {
          "output_type": "stream",
          "text": [
            "Instancias = 699\n",
            "Atributos = 9\n",
            "Datos faltantes:\n",
            "\tClump Thickness: 0\n",
            "\tUniformity of Cell Size: 0\n",
            "\tUniformity of Cell Shape: 0\n",
            "\tMarginal Adhesion: 0\n",
            "\tSingle Epithelial Cell Size: 0\n",
            "\tBare Nuclei: 16\n",
            "\tBland Chromatin: 0\n",
            "\tNormal Nucleoli: 0\n",
            "\tMitoses: 0\n"
          ],
          "name": "stdout"
        }
      ]
    },
    {
      "cell_type": "markdown",
      "metadata": {
        "id": "ZZUvFKEIJVy7"
      },
      "source": [
        "Ahora imputamos los datos faltantes con la mediana. El siguiente código muestra algunas filas de la columna \"Bare Nuclei\" antes y después del cambio."
      ]
    },
    {
      "cell_type": "code",
      "metadata": {
        "colab": {
          "base_uri": "https://localhost:8080/"
        },
        "id": "2Zodgt6_IZcO",
        "outputId": "07048b82-649b-4a81-c1af-36925bf20ee5"
      },
      "source": [
        "bare_nuclei = data['Bare Nuclei']\n",
        "\n",
        "print('Antes de imputar datos faltantes:')\n",
        "print(bare_nuclei.iloc[20:25])\n",
        "bare_nuclei = bare_nuclei.fillna(bare_nuclei.median())\n",
        "\n",
        "print('\\nDespués de imputar datos faltantes:')\n",
        "print(bare_nuclei.iloc[20:25])"
      ],
      "execution_count": null,
      "outputs": [
        {
          "output_type": "stream",
          "text": [
            "Antes de imputar datos faltantes:\n",
            "20    10.0\n",
            "21     7.0\n",
            "22     1.0\n",
            "23     NaN\n",
            "24     1.0\n",
            "Name: Bare Nuclei, dtype: float64\n",
            "\n",
            "Después de imputar datos faltantes:\n",
            "20    10.0\n",
            "21     7.0\n",
            "22     1.0\n",
            "23     1.0\n",
            "24     1.0\n",
            "Name: Bare Nuclei, dtype: float64\n"
          ],
          "name": "stdout"
        }
      ]
    },
    {
      "cell_type": "markdown",
      "metadata": {
        "id": "e0fk8v3dJ3OB"
      },
      "source": [
        "## 2. Outliers\n",
        "\n",
        "\n",
        "Vimos que los \"outliers\" son instancias cuyos atributos se salen de la norma, o que son considerablemente distintos que las otras instancias.\n",
        "\n",
        "En el siguiente código usaremos un Boxplot para identificar en qué columnas puede haber outliers.\n",
        "\n",
        "Como la columna \"Bare Nuclei\" tenía valores \"?\", la columna fue interpretada con datos de tipo string, mientras que las otras tienen datos de tipo numérico, por lo que debemos transformar la columna antes de proceder."
      ]
    },
    {
      "cell_type": "code",
      "metadata": {
        "colab": {
          "base_uri": "https://localhost:8080/",
          "height": 282
        },
        "id": "YLzISePFJa7Q",
        "outputId": "3aea550f-f7ae-4035-fcc0-1dbe23c84e7e"
      },
      "source": [
        "%matplotlib inline\n",
        "\n",
        "# nota que no hemos modificado la columna 'Bare Nuclei', por lo que todavía contiene celdas NaN\n",
        "data['Bare Nuclei'] = pd.to_numeric(data['Bare Nuclei'])\n",
        "data.boxplot(figsize=(20, 3))"
      ],
      "execution_count": null,
      "outputs": [
        {
          "output_type": "stream",
          "text": [
            "/usr/local/lib/python3.7/dist-packages/numpy/core/_asarray.py:83: VisibleDeprecationWarning: Creating an ndarray from ragged nested sequences (which is a list-or-tuple of lists-or-tuples-or ndarrays with different lengths or shapes) is deprecated. If you meant to do this, you must specify 'dtype=object' when creating the ndarray\n",
            "  return array(a, dtype, copy=False, order=order)\n"
          ],
          "name": "stderr"
        },
        {
          "output_type": "execute_result",
          "data": {
            "text/plain": [
              "<matplotlib.axes._subplots.AxesSubplot at 0x7f37c8312150>"
            ]
          },
          "metadata": {
            "tags": []
          },
          "execution_count": 31
        },
        {
          "output_type": "display_data",
          "data": {
            "image/png": "[encoded data removed]",
            "text/plain": [
              "<Figure size 1440x216 with 1 Axes>"
            ]
          },
          "metadata": {
            "tags": [],
            "needs_background": "light"
          }
        }
      ]
    },
    {
      "cell_type": "markdown",
      "metadata": {
        "id": "xgf8boH_K4_f"
      },
      "source": [
        "**Pregunta 2**\n",
        "\n",
        "¿Qué columnas sugiere el boxplot que contienen outliers? Modifica el bloque de texto a continuación."
      ]
    },
    {
      "cell_type": "markdown",
      "metadata": {
        "id": "E7ufvlkoLIF0"
      },
      "source": [
        ""
      ]
    },
    {
      "cell_type": "markdown",
      "metadata": {
        "id": "kNdtXimVLIOb"
      },
      "source": [
        "---"
      ]
    },
    {
      "cell_type": "markdown",
      "metadata": {
        "id": "JSae8jdiLLaK"
      },
      "source": [
        "El siguiente código *estandariza* los datos. Es decir, cada celda indicará *cuántas desviaciones estándar se está alejando del promedio de su columna*."
      ]
    },
    {
      "cell_type": "code",
      "metadata": {
        "colab": {
          "base_uri": "https://localhost:8080/",
          "height": 204
        },
        "id": "UFaGCidNKgOm",
        "outputId": "d68f1bc0-536b-4421-ae5f-8a323bf8ff95"
      },
      "source": [
        "Z = (data - data.mean()) / data.std()\n",
        "Z.iloc[20:25]"
      ],
      "execution_count": null,
      "outputs": [
        {
          "output_type": "execute_result",
          "data": {
            "text/html": [
              "<div>\n",
              "<style scoped>\n",
              "    .dataframe tbody tr th:only-of-type {\n",
              "        vertical-align: middle;\n",
              "    }\n",
              "\n",
              "    .dataframe tbody tr th {\n",
              "        vertical-align: top;\n",
              "    }\n",
              "\n",
              "    .dataframe thead th {\n",
              "        text-align: right;\n",
              "    }\n",
              "</style>\n",
              "<table border=\"1\" class=\"dataframe\">\n",
              "  <thead>\n",
              "    <tr style=\"text-align: right;\">\n",
              "      <th></th>\n",
              "      <th>Clump Thickness</th>\n",
              "      <th>Uniformity of Cell Size</th>\n",
              "      <th>Uniformity of Cell Shape</th>\n",
              "      <th>Marginal Adhesion</th>\n",
              "      <th>Single Epithelial Cell Size</th>\n",
              "      <th>Bare Nuclei</th>\n",
              "      <th>Bland Chromatin</th>\n",
              "      <th>Normal Nucleoli</th>\n",
              "      <th>Mitoses</th>\n",
              "    </tr>\n",
              "  </thead>\n",
              "  <tbody>\n",
              "    <tr>\n",
              "      <th>20</th>\n",
              "      <td>0.917080</td>\n",
              "      <td>-0.044070</td>\n",
              "      <td>-0.406284</td>\n",
              "      <td>2.519152</td>\n",
              "      <td>0.805662</td>\n",
              "      <td>1.771569</td>\n",
              "      <td>0.640688</td>\n",
              "      <td>0.371049</td>\n",
              "      <td>1.405526</td>\n",
              "    </tr>\n",
              "    <tr>\n",
              "      <th>21</th>\n",
              "      <td>1.982519</td>\n",
              "      <td>0.611354</td>\n",
              "      <td>0.603167</td>\n",
              "      <td>0.067638</td>\n",
              "      <td>1.257272</td>\n",
              "      <td>0.948266</td>\n",
              "      <td>1.460910</td>\n",
              "      <td>2.335921</td>\n",
              "      <td>-0.343666</td>\n",
              "    </tr>\n",
              "    <tr>\n",
              "      <th>22</th>\n",
              "      <td>-0.503505</td>\n",
              "      <td>-0.699494</td>\n",
              "      <td>-0.742767</td>\n",
              "      <td>-0.632794</td>\n",
              "      <td>-0.549168</td>\n",
              "      <td>-0.698341</td>\n",
              "      <td>-0.589645</td>\n",
              "      <td>-0.611387</td>\n",
              "      <td>-0.343666</td>\n",
              "    </tr>\n",
              "    <tr>\n",
              "      <th>23</th>\n",
              "      <td>1.272227</td>\n",
              "      <td>0.283642</td>\n",
              "      <td>0.603167</td>\n",
              "      <td>-0.632794</td>\n",
              "      <td>-0.549168</td>\n",
              "      <td>NaN</td>\n",
              "      <td>1.460910</td>\n",
              "      <td>0.043570</td>\n",
              "      <td>-0.343666</td>\n",
              "    </tr>\n",
              "    <tr>\n",
              "      <th>24</th>\n",
              "      <td>-1.213798</td>\n",
              "      <td>-0.699494</td>\n",
              "      <td>-0.742767</td>\n",
              "      <td>-0.632794</td>\n",
              "      <td>-0.549168</td>\n",
              "      <td>-0.698341</td>\n",
              "      <td>-0.179534</td>\n",
              "      <td>-0.611387</td>\n",
              "      <td>-0.343666</td>\n",
              "    </tr>\n",
              "  </tbody>\n",
              "</table>\n",
              "</div>"
            ],
            "text/plain": [
              "    Clump Thickness  Uniformity of Cell Size  ...  Normal Nucleoli   Mitoses\n",
              "20         0.917080                -0.044070  ...         0.371049  1.405526\n",
              "21         1.982519                 0.611354  ...         2.335921 -0.343666\n",
              "22        -0.503505                -0.699494  ...        -0.611387 -0.343666\n",
              "23         1.272227                 0.283642  ...         0.043570 -0.343666\n",
              "24        -1.213798                -0.699494  ...        -0.611387 -0.343666\n",
              "\n",
              "[5 rows x 9 columns]"
            ]
          },
          "metadata": {
            "tags": []
          },
          "execution_count": 34
        }
      ]
    },
    {
      "cell_type": "markdown",
      "metadata": {
        "id": "j4_FSBwcLrQq"
      },
      "source": [
        "**Pregunta 3**\n",
        "\n",
        "Reporta al menos 5 filas que consideres que pueden ser outliers.\n",
        "\n",
        "Para ello, puedes explorar distintos rangos de Z en el bloque anterior (ejemplo: `25:40`), o puedes filtrar Z sobre algunas columnas, etc.\n",
        "\n",
        "Describe brevemente cuál fue el criterio que usaron para elegir outliers y deja el código que usaste abajo."
      ]
    },
    {
      "cell_type": "code",
      "metadata": {
        "id": "FOWLlG2SMkxj"
      },
      "source": [
        "### modifica este bloque de código\n",
        "### puedes describir el criterio usando comentarios como este"
      ],
      "execution_count": null,
      "outputs": []
    },
    {
      "cell_type": "markdown",
      "metadata": {
        "id": "_L5UkW4DLrTg"
      },
      "source": [
        "---"
      ]
    },
    {
      "cell_type": "markdown",
      "metadata": {
        "id": "UX6mWxiHLruW"
      },
      "source": [
        "## 3. Muestreo\n",
        "\n"
      ]
    },
    {
      "cell_type": "markdown",
      "metadata": {
        "id": "qNsqRzaPOUaz"
      },
      "source": [
        "El siguiente código toma una muestra al azar de tres filas. Ejecuta el siguiente bloque un par de veces y observa los resultados."
      ]
    },
    {
      "cell_type": "code",
      "metadata": {
        "colab": {
          "base_uri": "https://localhost:8080/",
          "height": 142
        },
        "id": "OCErxvWkLjhr",
        "outputId": "338c849a-7f6d-4de0-ebd6-3b55537b4da4"
      },
      "source": [
        "muestra = data.sample(n=3)\n",
        "muestra"
      ],
      "execution_count": null,
      "outputs": [
        {
          "output_type": "execute_result",
          "data": {
            "text/html": [
              "<div>\n",
              "<style scoped>\n",
              "    .dataframe tbody tr th:only-of-type {\n",
              "        vertical-align: middle;\n",
              "    }\n",
              "\n",
              "    .dataframe tbody tr th {\n",
              "        vertical-align: top;\n",
              "    }\n",
              "\n",
              "    .dataframe thead th {\n",
              "        text-align: right;\n",
              "    }\n",
              "</style>\n",
              "<table border=\"1\" class=\"dataframe\">\n",
              "  <thead>\n",
              "    <tr style=\"text-align: right;\">\n",
              "      <th></th>\n",
              "      <th>Clump Thickness</th>\n",
              "      <th>Uniformity of Cell Size</th>\n",
              "      <th>Uniformity of Cell Shape</th>\n",
              "      <th>Marginal Adhesion</th>\n",
              "      <th>Single Epithelial Cell Size</th>\n",
              "      <th>Bare Nuclei</th>\n",
              "      <th>Bland Chromatin</th>\n",
              "      <th>Normal Nucleoli</th>\n",
              "      <th>Mitoses</th>\n",
              "    </tr>\n",
              "  </thead>\n",
              "  <tbody>\n",
              "    <tr>\n",
              "      <th>442</th>\n",
              "      <td>1</td>\n",
              "      <td>1</td>\n",
              "      <td>1</td>\n",
              "      <td>3</td>\n",
              "      <td>2</td>\n",
              "      <td>3.0</td>\n",
              "      <td>1</td>\n",
              "      <td>1</td>\n",
              "      <td>1</td>\n",
              "    </tr>\n",
              "    <tr>\n",
              "      <th>314</th>\n",
              "      <td>1</td>\n",
              "      <td>1</td>\n",
              "      <td>1</td>\n",
              "      <td>1</td>\n",
              "      <td>1</td>\n",
              "      <td>1.0</td>\n",
              "      <td>2</td>\n",
              "      <td>1</td>\n",
              "      <td>1</td>\n",
              "    </tr>\n",
              "    <tr>\n",
              "      <th>188</th>\n",
              "      <td>5</td>\n",
              "      <td>8</td>\n",
              "      <td>4</td>\n",
              "      <td>10</td>\n",
              "      <td>5</td>\n",
              "      <td>8.0</td>\n",
              "      <td>9</td>\n",
              "      <td>10</td>\n",
              "      <td>1</td>\n",
              "    </tr>\n",
              "  </tbody>\n",
              "</table>\n",
              "</div>"
            ],
            "text/plain": [
              "     Clump Thickness  Uniformity of Cell Size  ...  Normal Nucleoli  Mitoses\n",
              "442                1                        1  ...                1        1\n",
              "314                1                        1  ...                1        1\n",
              "188                5                        8  ...               10        1\n",
              "\n",
              "[3 rows x 9 columns]"
            ]
          },
          "metadata": {
            "tags": []
          },
          "execution_count": 47
        }
      ]
    },
    {
      "cell_type": "markdown",
      "metadata": {
        "id": "JlfNCZRzO2kO"
      },
      "source": [
        "El siguiente código elige al azar un 1% de los datos (sin reemplazo) y entrega la muestra seleccionada.\n",
        "\n",
        "Nota el parámetro `random_state`. Esto fija la semilla del generador de números aleatorios. Al usar el mismo valor, la muestra siempre será la misma.\n",
        "\n",
        "Ejecuta el siguiente bloque varias veces y observa los resultados."
      ]
    },
    {
      "cell_type": "code",
      "metadata": {
        "colab": {
          "base_uri": "https://localhost:8080/",
          "height": 266
        },
        "id": "oJvFK0WNNnCK",
        "outputId": "ba458760-4af2-48c3-c622-6936f5aea687"
      },
      "source": [
        "muestra = data.sample(frac=0.01, random_state=12)\n",
        "muestra"
      ],
      "execution_count": null,
      "outputs": [
        {
          "output_type": "execute_result",
          "data": {
            "text/html": [
              "<div>\n",
              "<style scoped>\n",
              "    .dataframe tbody tr th:only-of-type {\n",
              "        vertical-align: middle;\n",
              "    }\n",
              "\n",
              "    .dataframe tbody tr th {\n",
              "        vertical-align: top;\n",
              "    }\n",
              "\n",
              "    .dataframe thead th {\n",
              "        text-align: right;\n",
              "    }\n",
              "</style>\n",
              "<table border=\"1\" class=\"dataframe\">\n",
              "  <thead>\n",
              "    <tr style=\"text-align: right;\">\n",
              "      <th></th>\n",
              "      <th>Clump Thickness</th>\n",
              "      <th>Uniformity of Cell Size</th>\n",
              "      <th>Uniformity of Cell Shape</th>\n",
              "      <th>Marginal Adhesion</th>\n",
              "      <th>Single Epithelial Cell Size</th>\n",
              "      <th>Bare Nuclei</th>\n",
              "      <th>Bland Chromatin</th>\n",
              "      <th>Normal Nucleoli</th>\n",
              "      <th>Mitoses</th>\n",
              "    </tr>\n",
              "  </thead>\n",
              "  <tbody>\n",
              "    <tr>\n",
              "      <th>150</th>\n",
              "      <td>1</td>\n",
              "      <td>1</td>\n",
              "      <td>1</td>\n",
              "      <td>1</td>\n",
              "      <td>1</td>\n",
              "      <td>1.0</td>\n",
              "      <td>3</td>\n",
              "      <td>1</td>\n",
              "      <td>1</td>\n",
              "    </tr>\n",
              "    <tr>\n",
              "      <th>79</th>\n",
              "      <td>2</td>\n",
              "      <td>1</td>\n",
              "      <td>1</td>\n",
              "      <td>1</td>\n",
              "      <td>3</td>\n",
              "      <td>1.0</td>\n",
              "      <td>2</td>\n",
              "      <td>1</td>\n",
              "      <td>1</td>\n",
              "    </tr>\n",
              "    <tr>\n",
              "      <th>468</th>\n",
              "      <td>4</td>\n",
              "      <td>1</td>\n",
              "      <td>1</td>\n",
              "      <td>1</td>\n",
              "      <td>2</td>\n",
              "      <td>1.0</td>\n",
              "      <td>1</td>\n",
              "      <td>1</td>\n",
              "      <td>1</td>\n",
              "    </tr>\n",
              "    <tr>\n",
              "      <th>603</th>\n",
              "      <td>5</td>\n",
              "      <td>4</td>\n",
              "      <td>6</td>\n",
              "      <td>8</td>\n",
              "      <td>4</td>\n",
              "      <td>1.0</td>\n",
              "      <td>8</td>\n",
              "      <td>10</td>\n",
              "      <td>1</td>\n",
              "    </tr>\n",
              "    <tr>\n",
              "      <th>138</th>\n",
              "      <td>4</td>\n",
              "      <td>1</td>\n",
              "      <td>2</td>\n",
              "      <td>1</td>\n",
              "      <td>2</td>\n",
              "      <td>1.0</td>\n",
              "      <td>2</td>\n",
              "      <td>1</td>\n",
              "      <td>1</td>\n",
              "    </tr>\n",
              "    <tr>\n",
              "      <th>14</th>\n",
              "      <td>8</td>\n",
              "      <td>7</td>\n",
              "      <td>5</td>\n",
              "      <td>10</td>\n",
              "      <td>7</td>\n",
              "      <td>9.0</td>\n",
              "      <td>5</td>\n",
              "      <td>5</td>\n",
              "      <td>4</td>\n",
              "    </tr>\n",
              "    <tr>\n",
              "      <th>267</th>\n",
              "      <td>3</td>\n",
              "      <td>3</td>\n",
              "      <td>5</td>\n",
              "      <td>2</td>\n",
              "      <td>3</td>\n",
              "      <td>10.0</td>\n",
              "      <td>7</td>\n",
              "      <td>1</td>\n",
              "      <td>1</td>\n",
              "    </tr>\n",
              "  </tbody>\n",
              "</table>\n",
              "</div>"
            ],
            "text/plain": [
              "     Clump Thickness  Uniformity of Cell Size  ...  Normal Nucleoli  Mitoses\n",
              "150                1                        1  ...                1        1\n",
              "79                 2                        1  ...                1        1\n",
              "468                4                        1  ...                1        1\n",
              "603                5                        4  ...               10        1\n",
              "138                4                        1  ...                1        1\n",
              "14                 8                        7  ...                5        4\n",
              "267                3                        3  ...                1        1\n",
              "\n",
              "[7 rows x 9 columns]"
            ]
          },
          "metadata": {
            "tags": []
          },
          "execution_count": 53
        }
      ]
    },
    {
      "cell_type": "markdown",
      "metadata": {
        "id": "Vvuf-s92Pem8"
      },
      "source": [
        "## 4. Discretización"
      ]
    },
    {
      "cell_type": "markdown",
      "metadata": {
        "id": "bljRRlz_Ph1D"
      },
      "source": [
        "Discretizar se usa normalmente para convertir una variable cuantitativa en una categórica.\n",
        "\n",
        "Veamos por medio de un histograma de una de las columnas del dataset:"
      ]
    },
    {
      "cell_type": "code",
      "metadata": {
        "colab": {
          "base_uri": "https://localhost:8080/",
          "height": 282
        },
        "id": "TQFI7N76OboG",
        "outputId": "85ba7763-a820-4450-aa05-5e14fbbfc96b"
      },
      "source": [
        "data['Clump Thickness'].plot(kind='hist', bins=10)"
      ],
      "execution_count": null,
      "outputs": [
        {
          "output_type": "execute_result",
          "data": {
            "text/plain": [
              "<matplotlib.axes._subplots.AxesSubplot at 0x7f37c7c2f390>"
            ]
          },
          "metadata": {
            "tags": []
          },
          "execution_count": 55
        },
        {
          "output_type": "display_data",
          "data": {
            "image/png": "[encoded data removed]",
            "text/plain": [
              "<Figure size 432x288 with 1 Axes>"
            ]
          },
          "metadata": {
            "tags": [],
            "needs_background": "light"
          }
        }
      ]
    },
    {
      "cell_type": "code",
      "metadata": {
        "colab": {
          "base_uri": "https://localhost:8080/"
        },
        "id": "SWu2Ok5YPhD0",
        "outputId": "b38324d2-b45f-435f-a829-26eabd64dae0"
      },
      "source": [
        "## usando value_counts podemos ver cuántos valores distintos existen\n",
        "## en este caso, dice que \"1\" aparece 145 veces\n",
        "\n",
        "data['Clump Thickness'].value_counts()"
      ],
      "execution_count": null,
      "outputs": [
        {
          "output_type": "execute_result",
          "data": {
            "text/plain": [
              "1     145\n",
              "5     130\n",
              "3     108\n",
              "4      80\n",
              "10     69\n",
              "2      50\n",
              "8      46\n",
              "6      34\n",
              "7      23\n",
              "9      14\n",
              "Name: Clump Thickness, dtype: int64"
            ]
          },
          "metadata": {
            "tags": []
          },
          "execution_count": 56
        }
      ]
    },
    {
      "cell_type": "markdown",
      "metadata": {
        "id": "ghQ9n8I7QELB"
      },
      "source": [
        "En esta sección veremos dos métodos no supervisados para discretizar esta columna.\n",
        "\n",
        "El primero es el método `cut` que crea cuatro \"bins\" de rango similar."
      ]
    },
    {
      "cell_type": "code",
      "metadata": {
        "colab": {
          "base_uri": "https://localhost:8080/"
        },
        "id": "gjgb0YF3QOcR",
        "outputId": "4bac3778-dc3c-404f-d32b-1729d8c60ce7"
      },
      "source": [
        "bins = pd.cut(data['Clump Thickness'], 4)\n",
        "bins.value_counts()"
      ],
      "execution_count": null,
      "outputs": [
        {
          "output_type": "execute_result",
          "data": {
            "text/plain": [
              "(0.991, 3.25]    303\n",
              "(3.25, 5.5]      210\n",
              "(7.75, 10.0]     129\n",
              "(5.5, 7.75]       57\n",
              "Name: Clump Thickness, dtype: int64"
            ]
          },
          "metadata": {
            "tags": []
          },
          "execution_count": 57
        }
      ]
    },
    {
      "cell_type": "markdown",
      "metadata": {
        "id": "tuxB9mRuQENY"
      },
      "source": [
        "Observa que `bins` tiene 4 valores distintos, llamados `(0.991, 3.25]`, `(3.25, 5.5]`, `(7.75, 10.0]`, y `(5.5, 7.75]`."
      ]
    },
    {
      "cell_type": "markdown",
      "metadata": {
        "id": "kmK0BXAsQEPK"
      },
      "source": [
        "El otro método discretiza por igual frecuencia de los datos, llamado `qcut`.\n",
        "\n",
        "Vamos a particionar la columna en cuatro bins de forma que cada bin tenga la misma cantidad de instancias:"
      ]
    },
    {
      "cell_type": "code",
      "metadata": {
        "colab": {
          "base_uri": "https://localhost:8080/"
        },
        "id": "eDT8jg-5QBFF",
        "outputId": "56cc539b-7a44-4838-b796-3eeb4e23ed8f"
      },
      "source": [
        "bins = pd.qcut(data['Clump Thickness'], 4)\n",
        "bins.value_counts()"
      ],
      "execution_count": null,
      "outputs": [
        {
          "output_type": "execute_result",
          "data": {
            "text/plain": [
              "(0.999, 2.0]    195\n",
              "(2.0, 4.0]      188\n",
              "(4.0, 6.0]      164\n",
              "(6.0, 10.0]     152\n",
              "Name: Clump Thickness, dtype: int64"
            ]
          },
          "metadata": {
            "tags": []
          },
          "execution_count": 58
        }
      ]
    },
    {
      "cell_type": "markdown",
      "metadata": {
        "id": "0BsGeDcCSFHR"
      },
      "source": [
        "**Pregunta 4**\n",
        "\n",
        "¿Cómo afecta el muestreo aleatorio a las dos formas de discretización vistas arriba? \n",
        "\n",
        "Discute con tu compañero al respecto e indica abajo, para cada forma de discretización, cómo afecta a los resultados de la discretización el realizar muestreo aleatorio.\n",
        "\n",
        "Puedes escribir código para experimentar con los datos."
      ]
    },
    {
      "cell_type": "code",
      "metadata": {
        "id": "ApJYzsYSSfmz"
      },
      "source": [
        "### puedes escribir código acá"
      ],
      "execution_count": null,
      "outputs": []
    },
    {
      "cell_type": "markdown",
      "metadata": {
        "id": "saS3JBF8SFM3"
      },
      "source": [
        ""
      ]
    },
    {
      "cell_type": "markdown",
      "metadata": {
        "id": "HwMRRFlTSFjO"
      },
      "source": [
        "---\n",
        "fin"
      ]
    },
    {
      "cell_type": "code",
      "metadata": {
        "id": "JnRxetFJSjnf"
      },
      "source": [
        ""
      ],
      "execution_count": null,
      "outputs": []
    }
  ]
}