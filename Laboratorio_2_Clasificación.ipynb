{
  "nbformat": 4,
  "nbformat_minor": 0,
  "metadata": {
    "colab": {
      "name": "Laboratorio 2 - Clasificación",
      "provenance": [],
      "toc_visible": true,
      "include_colab_link": true
    },
    "kernelspec": {
      "name": "python3",
      "display_name": "Python 3"
    },
    "language_info": {
      "name": "python"
    }
  },
  "cells": [
    {
      "cell_type": "markdown",
      "metadata": {
        "id": "view-in-github",
        "colab_type": "text"
      },
      "source": [
        "<a href=\"https://colab.research.google.com/github/ftempesta/Data-Science-Online/blob/master/Laboratorio_2_Clasificaci%C3%B3n.ipynb\" target=\"_parent\"><img src=\"https://colab.research.google.com/assets/colab-badge.svg\" alt=\"Open In Colab\"/></a>"
      ]
    },
    {
      "cell_type": "markdown",
      "metadata": {
        "id": "6UaCJJfIoCXF"
      },
      "source": [
        "# Indicaciones\n",
        "\n",
        "- Trabaja en grupos de 2 o 3 personas.\n",
        "- Haz una copia del notebook en `File -> Save a copy in Drive`.\n",
        "- Para hacer la entrega, descarga el notebook en `File -> Download -> Download .ipynb`"
      ]
    },
    {
      "cell_type": "markdown",
      "metadata": {
        "id": "OHL1IBqnoTae"
      },
      "source": [
        "## 1. Árbol de decisión"
      ]
    },
    {
      "cell_type": "markdown",
      "metadata": {
        "id": "_OTYheetoXGN"
      },
      "source": [
        "Descargamos el dataset de animales:"
      ]
    },
    {
      "cell_type": "code",
      "metadata": {
        "id": "3bX66SI2m4Fx"
      },
      "source": [
        "import pandas as pd\n",
        "\n",
        "df = pd.read_csv('http://www.cse.msu.edu/~ptan/dmbook/tutorials/tutorial6/vertebrate.csv')\n",
        "df"
      ],
      "execution_count": null,
      "outputs": []
    },
    {
      "cell_type": "markdown",
      "metadata": {
        "id": "Oi-AtWZ7ocKW"
      },
      "source": [
        "Como son muy pocos datos (N=14) y varias clases, convertiremos este problema (clasificación \"multi-clase\") en una tarea de clasificación binaria (sólo dos clases). En este caso, lo haremos transformando las etiquetas de la clase de forma de tener sólo dos instancias: mamíferos y no-mamíferos."
      ]
    },
    {
      "cell_type": "code",
      "metadata": {
        "id": "5VHQTUNvm5fs"
      },
      "source": [
        "df['Class'] = df['Class'].replace(['fishes','birds','amphibians','reptiles'],'non-mammals')\n",
        "df"
      ],
      "execution_count": null,
      "outputs": []
    },
    {
      "cell_type": "markdown",
      "metadata": {
        "id": "eurP4z-FougE"
      },
      "source": [
        "Con `crosstab` podemos examinar la relación entre los atributos `Warm-blooded` y `Gives birth` con respecto a la clase (equivalente a `table` de R)."
      ]
    },
    {
      "cell_type": "code",
      "metadata": {
        "id": "aFT7GTJznEHV"
      },
      "source": [
        "pd.crosstab([df['Warm-blooded'], df['Gives Birth']], df['Class'])"
      ],
      "execution_count": null,
      "outputs": []
    },
    {
      "cell_type": "markdown",
      "metadata": {
        "id": "yTpWEAwJpOWY"
      },
      "source": [
        "Ahora entrenaremos un árbol de decisión y lo graficaremos:"
      ]
    },
    {
      "cell_type": "code",
      "metadata": {
        "id": "EPSVrTB_nHsd"
      },
      "source": [
        "from sklearn import tree\n",
        "\n",
        "Y = df['Class']\n",
        "X = df.drop(['Name','Class'], axis=1)\n",
        "\n",
        "clf = tree.DecisionTreeClassifier(criterion='entropy', max_depth=3)\n",
        "clf = clf.fit(X, Y)"
      ],
      "execution_count": null,
      "outputs": []
    },
    {
      "cell_type": "code",
      "metadata": {
        "id": "k5Z84JeXnN2T"
      },
      "source": [
        "import pydotplus \n",
        "from IPython.display import Image\n",
        "\n",
        "dot_data = tree.export_graphviz(clf, \n",
        "                                feature_names=X.columns, \n",
        "                                class_names=['mammals','non-mammals'], \n",
        "                                filled=True, \n",
        "                                out_file=None) \n",
        "graph = pydotplus.graph_from_dot_data(dot_data) \n",
        "Image(graph.create_png())"
      ],
      "execution_count": null,
      "outputs": []
    },
    {
      "cell_type": "markdown",
      "metadata": {
        "id": "Pf3tQ70CpUKW"
      },
      "source": [
        "Probaremos el clasificador con datos fabricados por nosotros:"
      ]
    },
    {
      "cell_type": "code",
      "metadata": {
        "colab": {
          "base_uri": "https://localhost:8080/",
          "height": 168
        },
        "id": "Zg3ptw4PnR7t",
        "outputId": "2c108afc-b122-4858-f102-15d39d74ff24"
      },
      "source": [
        "testData = [['gila monster',0,0,0,0,1,1,'non-mammals'],\n",
        "           ['platypus',1,0,0,0,1,1,'mammals'],\n",
        "           ['owl',1,0,0,1,1,0,'non-mammals'],\n",
        "           ['dolphin',1,1,1,0,0,0,'mammals']]\n",
        "\n",
        "testData = pd.DataFrame(testData, columns=df.columns)\n",
        "testData"
      ],
      "execution_count": null,
      "outputs": [
        {
          "output_type": "execute_result",
          "data": {
            "text/html": [
              "<div>\n",
              "<style scoped>\n",
              "    .dataframe tbody tr th:only-of-type {\n",
              "        vertical-align: middle;\n",
              "    }\n",
              "\n",
              "    .dataframe tbody tr th {\n",
              "        vertical-align: top;\n",
              "    }\n",
              "\n",
              "    .dataframe thead th {\n",
              "        text-align: right;\n",
              "    }\n",
              "</style>\n",
              "<table border=\"1\" class=\"dataframe\">\n",
              "  <thead>\n",
              "    <tr style=\"text-align: right;\">\n",
              "      <th></th>\n",
              "      <th>Name</th>\n",
              "      <th>Warm-blooded</th>\n",
              "      <th>Gives Birth</th>\n",
              "      <th>Aquatic Creature</th>\n",
              "      <th>Aerial Creature</th>\n",
              "      <th>Has Legs</th>\n",
              "      <th>Hibernates</th>\n",
              "      <th>Class</th>\n",
              "    </tr>\n",
              "  </thead>\n",
              "  <tbody>\n",
              "    <tr>\n",
              "      <th>0</th>\n",
              "      <td>gila monster</td>\n",
              "      <td>0</td>\n",
              "      <td>0</td>\n",
              "      <td>0</td>\n",
              "      <td>0</td>\n",
              "      <td>1</td>\n",
              "      <td>1</td>\n",
              "      <td>non-mammals</td>\n",
              "    </tr>\n",
              "    <tr>\n",
              "      <th>1</th>\n",
              "      <td>platypus</td>\n",
              "      <td>1</td>\n",
              "      <td>0</td>\n",
              "      <td>0</td>\n",
              "      <td>0</td>\n",
              "      <td>1</td>\n",
              "      <td>1</td>\n",
              "      <td>mammals</td>\n",
              "    </tr>\n",
              "    <tr>\n",
              "      <th>2</th>\n",
              "      <td>owl</td>\n",
              "      <td>1</td>\n",
              "      <td>0</td>\n",
              "      <td>0</td>\n",
              "      <td>1</td>\n",
              "      <td>1</td>\n",
              "      <td>0</td>\n",
              "      <td>non-mammals</td>\n",
              "    </tr>\n",
              "    <tr>\n",
              "      <th>3</th>\n",
              "      <td>dolphin</td>\n",
              "      <td>1</td>\n",
              "      <td>1</td>\n",
              "      <td>1</td>\n",
              "      <td>0</td>\n",
              "      <td>0</td>\n",
              "      <td>0</td>\n",
              "      <td>mammals</td>\n",
              "    </tr>\n",
              "  </tbody>\n",
              "</table>\n",
              "</div>"
            ],
            "text/plain": [
              "           Name  Warm-blooded  Gives Birth  ...  Has Legs  Hibernates        Class\n",
              "0  gila monster             0            0  ...         1           1  non-mammals\n",
              "1      platypus             1            0  ...         1           1      mammals\n",
              "2           owl             1            0  ...         1           0  non-mammals\n",
              "3       dolphin             1            1  ...         0           0      mammals\n",
              "\n",
              "[4 rows x 8 columns]"
            ]
          },
          "metadata": {
            "tags": []
          },
          "execution_count": 9
        }
      ]
    },
    {
      "cell_type": "code",
      "metadata": {
        "colab": {
          "base_uri": "https://localhost:8080/",
          "height": 168
        },
        "id": "Z_Vq04H0nTzn",
        "outputId": "61e7f4a6-2807-41e7-f534-c81db6509cc7"
      },
      "source": [
        "X_test = testData.drop(['Name', 'Class'], axis=1)\n",
        "y_test = testData['Class']\n",
        "\n",
        "y_pred = clf.predict(X_test)\n",
        "predictions = pd.concat([testData['Name'], pd.Series(y_pred, name='Predicted Class')], axis=1)\n",
        "predictions\n"
      ],
      "execution_count": null,
      "outputs": [
        {
          "output_type": "execute_result",
          "data": {
            "text/html": [
              "<div>\n",
              "<style scoped>\n",
              "    .dataframe tbody tr th:only-of-type {\n",
              "        vertical-align: middle;\n",
              "    }\n",
              "\n",
              "    .dataframe tbody tr th {\n",
              "        vertical-align: top;\n",
              "    }\n",
              "\n",
              "    .dataframe thead th {\n",
              "        text-align: right;\n",
              "    }\n",
              "</style>\n",
              "<table border=\"1\" class=\"dataframe\">\n",
              "  <thead>\n",
              "    <tr style=\"text-align: right;\">\n",
              "      <th></th>\n",
              "      <th>Name</th>\n",
              "      <th>Predicted Class</th>\n",
              "    </tr>\n",
              "  </thead>\n",
              "  <tbody>\n",
              "    <tr>\n",
              "      <th>0</th>\n",
              "      <td>gila monster</td>\n",
              "      <td>non-mammals</td>\n",
              "    </tr>\n",
              "    <tr>\n",
              "      <th>1</th>\n",
              "      <td>platypus</td>\n",
              "      <td>non-mammals</td>\n",
              "    </tr>\n",
              "    <tr>\n",
              "      <th>2</th>\n",
              "      <td>owl</td>\n",
              "      <td>non-mammals</td>\n",
              "    </tr>\n",
              "    <tr>\n",
              "      <th>3</th>\n",
              "      <td>dolphin</td>\n",
              "      <td>mammals</td>\n",
              "    </tr>\n",
              "  </tbody>\n",
              "</table>\n",
              "</div>"
            ],
            "text/plain": [
              "           Name Predicted Class\n",
              "0  gila monster     non-mammals\n",
              "1      platypus     non-mammals\n",
              "2           owl     non-mammals\n",
              "3       dolphin         mammals"
            ]
          },
          "metadata": {
            "tags": []
          },
          "execution_count": 11
        }
      ]
    },
    {
      "cell_type": "code",
      "metadata": {
        "id": "34LZy2z4nZLs"
      },
      "source": [
        "from sklearn.metrics import classification_report\n",
        "\n",
        "print(classification_report(y_test, y_pred))"
      ],
      "execution_count": null,
      "outputs": []
    },
    {
      "cell_type": "markdown",
      "metadata": {
        "id": "5tLEPV_ItmwT"
      },
      "source": [
        "**Pregunta 1**\n",
        "\n",
        "¿En qué instancia(s) se equivocó el clasificador en los datos de prueba que le pasamos?"
      ]
    },
    {
      "cell_type": "markdown",
      "metadata": {
        "id": "y6FKWbvytzEG"
      },
      "source": [
        ""
      ]
    },
    {
      "cell_type": "code",
      "metadata": {
        "id": "lmYN4ZEztzXf"
      },
      "source": [
        ""
      ],
      "execution_count": null,
      "outputs": []
    },
    {
      "cell_type": "markdown",
      "metadata": {
        "id": "FAtTEnXdt0CS"
      },
      "source": [
        "---"
      ]
    },
    {
      "cell_type": "markdown",
      "metadata": {
        "id": "PVGnvwdIpYWJ"
      },
      "source": [
        "## 2. Overfitting"
      ]
    },
    {
      "cell_type": "markdown",
      "metadata": {
        "id": "YVnnMG9SpfJ4"
      },
      "source": [
        "El código de abajo genera N=1500 puntos en dos dimensiones, con dos clases del mismo tamaño:\n",
        "\n",
        "- La clase 1 es generada con una mezcla de tres distribuciones normales en dos dimensiones (mezcla de Gaussianas), centradas en las coordenadas $(6,14), (10,6)$ y $(14, 14)$.\n",
        "- La clase 0 es generada con una distribución uniforme en el cuadrado de lado 20 con una esquina en el origen.\n",
        "\n",
        "El código genera un gráfico donde se pueden ver las instancias. Los puntos de la clase 1 está en rojo mientras que los de la clase 0 en negro."
      ]
    },
    {
      "cell_type": "code",
      "metadata": {
        "id": "qOHCaAiwnsB7"
      },
      "source": [
        "import numpy as np\n",
        "import matplotlib.pyplot as plt\n",
        "from numpy.random import random\n",
        "\n",
        "%matplotlib inline\n",
        "\n",
        "N = 1500\n",
        "\n",
        "mean1 = [6, 14]\n",
        "mean2 = [10, 6]\n",
        "mean3 = [14, 14]\n",
        "cov = [[3.5, 0], [0, 3.5]]  # covarianza\n",
        "\n",
        "np.random.seed(50)\n",
        "X = np.random.multivariate_normal(mean1, cov, int(N/6))\n",
        "X = np.concatenate((X, np.random.multivariate_normal(mean2, cov, int(N/6))))\n",
        "X = np.concatenate((X, np.random.multivariate_normal(mean3, cov, int(N/6))))\n",
        "X = np.concatenate((X, 20*np.random.rand(int(N/2),2)))\n",
        "Y = np.concatenate((np.ones(int(N/2)),np.zeros(int(N/2))))\n",
        "\n",
        "plt.plot(X[:int(N/2),0],X[:int(N/2),1],'r+',X[int(N/2):,0],X[int(N/2):,1],'k.',ms=4)"
      ],
      "execution_count": null,
      "outputs": []
    },
    {
      "cell_type": "markdown",
      "metadata": {
        "id": "PgNc8KTqqKl5"
      },
      "source": [
        "En el siguiente código hacemos holdout del 20% para test.\n",
        "Graficamos el accuracy de distintos árboles de decisión, variando el parámetro `max_depth`, que dice qué tan profundo puede ser el árbol (cuántos niveles puede tener como mucho)."
      ]
    },
    {
      "cell_type": "code",
      "metadata": {
        "id": "JBbl6oGBn1Ak"
      },
      "source": [
        "#########################################\n",
        "# Training and Test set creation\n",
        "#########################################\n",
        "\n",
        "from sklearn.model_selection import train_test_split\n",
        "X_train, X_test, Y_train, Y_test = train_test_split(X, Y, test_size=0.8, random_state=1)\n",
        "\n",
        "from sklearn import tree\n",
        "from sklearn.metrics import accuracy_score\n",
        "\n",
        "#########################################\n",
        "# Model fitting and evaluation\n",
        "#########################################\n",
        "\n",
        "maxdepths = [2,3,4,5,6,7,8,9,10,15,20,25,30,35,40,45,50]\n",
        "\n",
        "trainAcc = np.zeros(len(maxdepths))\n",
        "testAcc = np.zeros(len(maxdepths))\n",
        "\n",
        "index = 0\n",
        "for depth in maxdepths:\n",
        "    clf = tree.DecisionTreeClassifier(max_depth=depth)\n",
        "    clf = clf.fit(X_train, Y_train)\n",
        "    Y_predTrain = clf.predict(X_train)\n",
        "    Y_predTest = clf.predict(X_test)\n",
        "    trainAcc[index] = accuracy_score(Y_train, Y_predTrain)\n",
        "    testAcc[index] = accuracy_score(Y_test, Y_predTest)\n",
        "    index += 1\n",
        "    \n",
        "#########################################\n",
        "# Plot of training and test accuracies\n",
        "#########################################\n",
        "    \n",
        "plt.plot(maxdepths,trainAcc,'ro-',maxdepths,testAcc,'bv--')\n",
        "plt.legend(['Accuracy en training set','Accuracy en test set'])\n",
        "plt.xlabel('Parámetro max_depth')\n",
        "plt.ylabel('Accuracy')"
      ],
      "execution_count": null,
      "outputs": []
    },
    {
      "cell_type": "markdown",
      "metadata": {
        "id": "RKkYkOyGt5hU"
      },
      "source": [
        "**Pregunta 2**\n",
        "\n",
        "Describa el gráfico resultante. ¿Cuál consideraría que es un buen valor para el parámetro `max_depth`? ¿Por qué?"
      ]
    },
    {
      "cell_type": "markdown",
      "metadata": {
        "id": "VHVe7aYUuDGL"
      },
      "source": [
        ""
      ]
    },
    {
      "cell_type": "markdown",
      "metadata": {
        "id": "TmYLXzzquEHM"
      },
      "source": [
        "---"
      ]
    },
    {
      "cell_type": "markdown",
      "metadata": {
        "id": "5tRVCladqndf"
      },
      "source": [
        "## 3. KNN"
      ]
    },
    {
      "cell_type": "markdown",
      "metadata": {
        "id": "EerZE0ynqpCp"
      },
      "source": [
        "En este clasificador, la etiqueta (clase) de una instancia se predice basado en las $k$ instancias más cercanas en el dataset de entrenamiento. En este caso, $k$ es un hiperparámetro que debe ser dado por el usuario junto con la métrica de distancia.\n",
        "\n",
        "El siguiente código aplica el clasificador KNN con distintos valores de $k$ sobre los datos generados en el punto anterior:"
      ]
    },
    {
      "cell_type": "code",
      "metadata": {
        "id": "iNQpSz5sn3dT"
      },
      "source": [
        "from sklearn.neighbors import KNeighborsClassifier\n",
        "import matplotlib.pyplot as plt\n",
        "%matplotlib inline\n",
        "\n",
        "numNeighbors = [1, 5, 10, 15, 20, 25, 30]\n",
        "trainAcc = []\n",
        "testAcc = []\n",
        "\n",
        "for k in numNeighbors:\n",
        "    clf = KNeighborsClassifier(n_neighbors=k, metric='euclidean')\n",
        "    clf.fit(X_train, Y_train)\n",
        "    Y_predTrain = clf.predict(X_train)\n",
        "    Y_predTest = clf.predict(X_test)\n",
        "    trainAcc.append(accuracy_score(Y_train, Y_predTrain))\n",
        "    testAcc.append(accuracy_score(Y_test, Y_predTest))\n",
        "\n",
        "plt.plot(numNeighbors, trainAcc, 'ro-', numNeighbors, testAcc,'bv--')\n",
        "plt.legend(['Accuracy en training set','Accuracy en test set'])\n",
        "plt.xlabel('Número de vecinos k')\n",
        "plt.ylabel('Accuracy')"
      ],
      "execution_count": null,
      "outputs": []
    },
    {
      "cell_type": "markdown",
      "metadata": {
        "id": "CuDpm8cWuNN8"
      },
      "source": [
        "**Pregunta 3**\n",
        "\n",
        "Compare el gráfico de KNN con el de Árboles de Decisión.\n",
        "\n",
        "¿Cuál clasificador (algoritmo de aprendizaje) considera que es mejor para estos datos? ¿Por qué funciona mejor ese clasificador en este caso?"
      ]
    },
    {
      "cell_type": "markdown",
      "metadata": {
        "id": "sxHbnnuYummO"
      },
      "source": [
        ""
      ]
    },
    {
      "cell_type": "markdown",
      "metadata": {
        "id": "GHkBaE-fumrV"
      },
      "source": [
        "---"
      ]
    },
    {
      "cell_type": "markdown",
      "metadata": {
        "id": "_TgXigtyrQpd"
      },
      "source": [
        "## 4. Support Vector Machine Classifier (SVC)"
      ]
    },
    {
      "cell_type": "markdown",
      "metadata": {
        "id": "p8FVF5mwraPm"
      },
      "source": [
        "Entrenaremos un SVM sobre los mismos datos.\n",
        "\n",
        "Vimos rápidamente en clase que SVC tiene un parámetro de *regularización* que regula cuánto puede \"equivocarse\" el modelo al separar los datos con un hiperplano (una recta o un plano son tipos de hiperplanos) en dos clases. Esto le permite tolerar puntos mal clasificados, y poder buscar un hiperplano que separe las dos clases lo mejor posible.\n",
        "\n",
        "El siguiente código entrena un SVM cambiando el parámetro $C$."
      ]
    },
    {
      "cell_type": "code",
      "metadata": {
        "id": "GVFKqdegrmkY"
      },
      "source": [
        "from sklearn.svm import SVC\n",
        "\n",
        "C = [0.01, 0.1, 0.2, 0.5, 0.8, 1, 5, 10, 20, 50]\n",
        "SVMtrainAcc = []\n",
        "SVMtestAcc = []\n",
        "\n",
        "for param in C:\n",
        "    clf = SVC(C=param, kernel='linear')\n",
        "    clf.fit(X_train, Y_train)\n",
        "    Y_predTrain = clf.predict(X_train)\n",
        "    Y_predTest = clf.predict(X_test)\n",
        "    SVMtrainAcc.append(accuracy_score(Y_train, Y_predTrain))\n",
        "    SVMtestAcc.append(accuracy_score(Y_test, Y_predTest))\n",
        "\n",
        "plt.plot(C, SVMtrainAcc, 'ro-', C, SVMtestAcc, 'bv--')\n",
        "plt.legend(['Accuracy en training set','Accuracy en test set'])\n",
        "plt.xlabel('C')\n",
        "plt.xscale('log')\n",
        "plt.ylabel('Accuracy')\n"
      ],
      "execution_count": null,
      "outputs": []
    },
    {
      "cell_type": "markdown",
      "metadata": {
        "id": "ZbicVlY3uwf6"
      },
      "source": [
        "**Pregunta 4**\n",
        "\n",
        "¿Por qué SVM tiene tan mal rendimiento, comparado con Árboles de Decisión y KNN?"
      ]
    },
    {
      "cell_type": "markdown",
      "metadata": {
        "id": "qRHmRuczu4Vl"
      },
      "source": [
        ""
      ]
    },
    {
      "cell_type": "markdown",
      "metadata": {
        "id": "DFJ5bIYju4Xi"
      },
      "source": [
        "---"
      ]
    },
    {
      "cell_type": "markdown",
      "metadata": {
        "id": "D7atgcB6sR5B"
      },
      "source": [
        "Ahora, haremos lo mismo, pero usaremos un kernel no lineal. Esto puede interpretarse como si aplicáramos una transformación a los datos para que sean linealmente separables:"
      ]
    },
    {
      "cell_type": "code",
      "metadata": {
        "id": "hHmp4ue5n7Ab"
      },
      "source": [
        "from sklearn.svm import SVC\n",
        "\n",
        "C = [0.01, 0.1, 0.2, 0.5, 0.8, 1, 5, 10, 20, 50]\n",
        "SVMtrainAcc = []\n",
        "SVMtestAcc = []\n",
        "\n",
        "for param in C:\n",
        "    clf = SVC(C=param,kernel='rbf',gamma='auto')\n",
        "    clf.fit(X_train, Y_train)\n",
        "    Y_predTrain = clf.predict(X_train)\n",
        "    Y_predTest = clf.predict(X_test)\n",
        "    SVMtrainAcc.append(accuracy_score(Y_train, Y_predTrain))\n",
        "    SVMtestAcc.append(accuracy_score(Y_test, Y_predTest))\n",
        "\n",
        "plt.plot(C, SVMtrainAcc, 'ro-', C, SVMtestAcc,'bv--')\n",
        "plt.legend(['Accuracy en training set','Accuracy en test set'])\n",
        "plt.xlabel('C')\n",
        "plt.xscale('log')\n",
        "plt.ylabel('Accuracy')"
      ],
      "execution_count": null,
      "outputs": []
    },
    {
      "cell_type": "markdown",
      "metadata": {
        "id": "lOtgqQckscHK"
      },
      "source": [
        "## 5. Ensemble Classifiers (Random Forests)"
      ]
    },
    {
      "cell_type": "markdown",
      "metadata": {
        "id": "eqYfz8TYsehc"
      },
      "source": [
        "Random Forest corresponde a una categoría de modelos llamada \"ensemble classifiers\", donde se \"ensamblan\" distintos clasificadores y se usan en conjunto para tomar una decisión. Existen otros modelos o métodos, como Bagging (Bootstrap aggregating) o AdaBoost.\n",
        "\n",
        "En términos simples, estos métodos entrenan muchos árboles de decisión, cada uno con una muestra distinta de datos de entrenamiento, y a la hora de clasificar, \"somete a votación\" los resultados de cada uno de los árboles.\n",
        "\n",
        "El siguiente código entrena tres modelos de ensamblaje, donde cada modelo usa como base un Árbol de Decisión con `max_depth=10`. \n",
        "\n",
        "Cada modelo usa 500 árboles.\n",
        "\n",
        "El gráfico resultante muestra el accuracy en el conjunto de entrenamiento (izquierda) y en el conjunto de testing (derecha)."
      ]
    },
    {
      "cell_type": "code",
      "metadata": {
        "id": "W5GSRsBnn9vr"
      },
      "source": [
        "from sklearn import ensemble\n",
        "from sklearn.tree import DecisionTreeClassifier\n",
        "\n",
        "numBaseClassifiers = 500\n",
        "maxdepth = 10\n",
        "\n",
        "\n",
        "trainAcc = []\n",
        "testAcc = []\n",
        "\n",
        "clf = ensemble.RandomForestClassifier(n_estimators=numBaseClassifiers)\n",
        "clf.fit(X_train, Y_train)\n",
        "Y_predTrain = clf.predict(X_train)\n",
        "Y_predTest = clf.predict(X_test)\n",
        "trainAcc.append(accuracy_score(Y_train, Y_predTrain))\n",
        "testAcc.append(accuracy_score(Y_test, Y_predTest))\n",
        "\n",
        "clf = ensemble.BaggingClassifier(DecisionTreeClassifier(max_depth=maxdepth),n_estimators=numBaseClassifiers)\n",
        "clf.fit(X_train, Y_train)\n",
        "Y_predTrain = clf.predict(X_train)\n",
        "Y_predTest = clf.predict(X_test)\n",
        "trainAcc.append(accuracy_score(Y_train, Y_predTrain))\n",
        "testAcc.append(accuracy_score(Y_test, Y_predTest))\n",
        "\n",
        "clf = ensemble.AdaBoostClassifier(DecisionTreeClassifier(max_depth=maxdepth),n_estimators=numBaseClassifiers)\n",
        "clf.fit(X_train, Y_train)\n",
        "Y_predTrain = clf.predict(X_train)\n",
        "Y_predTest = clf.predict(X_test)\n",
        "trainAcc.append(accuracy_score(Y_train, Y_predTrain))\n",
        "testAcc.append(accuracy_score(Y_test, Y_predTest))\n",
        "\n",
        "methods = ['Random Forest', 'Bagging', 'AdaBoost']\n",
        "fig, (ax1, ax2) = plt.subplots(1, 2, figsize=(12,6))\n",
        "ax1.bar([1.5,2.5,3.5], trainAcc)\n",
        "ax1.set_xticks([1.5,2.5,3.5])\n",
        "ax1.set_xticklabels(methods)\n",
        "\n",
        "ax2.bar([1.5,2.5,3.5], testAcc)\n",
        "ax2.set_xticks([1.5,2.5,3.5])\n",
        "ax2.set_xticklabels(methods)"
      ],
      "execution_count": null,
      "outputs": []
    },
    {
      "cell_type": "markdown",
      "metadata": {
        "id": "bTk0OhnJvpjp"
      },
      "source": [
        "**Pregunta 5**\n",
        "\n",
        "¿Cómo se compara el resultado de estos clasificadores con los árboles de decisión vistos más arriba?\n",
        "\n",
        "Discuta con sus compañer@s: ¿por qué cree que \"promediar\" el resultado de muchos árboles de decisión sea mejor que basarse en los resultados de uno solo?"
      ]
    },
    {
      "cell_type": "markdown",
      "metadata": {
        "id": "2BsRKxqhvpl2"
      },
      "source": [
        ""
      ]
    },
    {
      "cell_type": "markdown",
      "metadata": {
        "id": "B6MsLAvTvpoS"
      },
      "source": [
        "---\n",
        "\n",
        "fin"
      ]
    }
  ]
}