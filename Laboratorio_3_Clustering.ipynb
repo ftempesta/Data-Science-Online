{
  "nbformat": 4,
  "nbformat_minor": 0,
  "metadata": {
    "colab": {
      "name": "Laboratorio 3 - Clustering",
      "provenance": [],
      "toc_visible": true,
      "include_colab_link": true
    },
    "kernelspec": {
      "name": "python3",
      "display_name": "Python 3"
    },
    "language_info": {
      "name": "python"
    }
  },
  "cells": [
    {
      "cell_type": "markdown",
      "metadata": {
        "id": "view-in-github",
        "colab_type": "text"
      },
      "source": [
        "<a href=\"https://colab.research.google.com/github/ftempesta/Data-Science-Online/blob/master/Laboratorio_3_Clustering.ipynb\" target=\"_parent\"><img src=\"https://colab.research.google.com/assets/colab-badge.svg\" alt=\"Open In Colab\"/></a>"
      ]
    },
    {
      "cell_type": "markdown",
      "metadata": {
        "id": "8lN3HNDvYp5v"
      },
      "source": [
        "# Indicaciones\n",
        "\n",
        "- Trabaja en grupos de 2 o 3 personas.\n",
        "- Haz una copia del notebook en `File -> Save a copy in Drive`.\n",
        "- Para hacer la entrega, descarga el notebook en `File -> Download -> Download .ipynb`\n",
        "- Indica los nombres de los integrantes en la entrega en U-Cursos o bien en este notebook"
      ]
    },
    {
      "cell_type": "code",
      "metadata": {
        "id": "p2TKTuTIBmBX"
      },
      "source": [
        "import pandas as pd\n",
        "from sklearn import cluster\n",
        "from scipy.cluster import hierarchy\n",
        "\n",
        "import matplotlib.pyplot as plt\n",
        "%matplotlib inline"
      ],
      "execution_count": 2,
      "outputs": []
    },
    {
      "cell_type": "markdown",
      "metadata": {
        "id": "45-JKal1YsxH"
      },
      "source": [
        "# 1. K-means"
      ]
    },
    {
      "cell_type": "markdown",
      "metadata": {
        "id": "jkDExgw6YvMk"
      },
      "source": [
        "Cargamos los datos.\n",
        "\n",
        "Este dataset tiene quince atributos (dimensiones) y alrededor de diez mil filas."
      ]
    },
    {
      "cell_type": "code",
      "metadata": {
        "id": "5BWNC7weQO3u",
        "outputId": "1a0a1e4b-0eb7-4881-e6eb-9bdf60d8972b",
        "colab": {
          "base_uri": "https://localhost:8080/",
          "height": 204
        }
      },
      "source": [
        "X_1 = pd.read_table(\n",
        "    'https://users.dcc.uchile.cl/~mquezada/diplomado-2018/dim15.txt', \n",
        "    delim_whitespace=True, \n",
        "    names=[f\"col_{i}\" for i in range(15)], \n",
        "    header=0)\n",
        "\n",
        "X_1.head()"
      ],
      "execution_count": 3,
      "outputs": [
        {
          "output_type": "execute_result",
          "data": {
            "text/html": [
              "<div>\n",
              "<style scoped>\n",
              "    .dataframe tbody tr th:only-of-type {\n",
              "        vertical-align: middle;\n",
              "    }\n",
              "\n",
              "    .dataframe tbody tr th {\n",
              "        vertical-align: top;\n",
              "    }\n",
              "\n",
              "    .dataframe thead th {\n",
              "        text-align: right;\n",
              "    }\n",
              "</style>\n",
              "<table border=\"1\" class=\"dataframe\">\n",
              "  <thead>\n",
              "    <tr style=\"text-align: right;\">\n",
              "      <th></th>\n",
              "      <th>col_0</th>\n",
              "      <th>col_1</th>\n",
              "      <th>col_2</th>\n",
              "      <th>col_3</th>\n",
              "      <th>col_4</th>\n",
              "      <th>col_5</th>\n",
              "      <th>col_6</th>\n",
              "      <th>col_7</th>\n",
              "      <th>col_8</th>\n",
              "      <th>col_9</th>\n",
              "      <th>col_10</th>\n",
              "      <th>col_11</th>\n",
              "      <th>col_12</th>\n",
              "      <th>col_13</th>\n",
              "      <th>col_14</th>\n",
              "    </tr>\n",
              "  </thead>\n",
              "  <tbody>\n",
              "    <tr>\n",
              "      <th>0</th>\n",
              "      <td>29020</td>\n",
              "      <td>860619</td>\n",
              "      <td>658827</td>\n",
              "      <td>854383</td>\n",
              "      <td>199909</td>\n",
              "      <td>71042</td>\n",
              "      <td>181528</td>\n",
              "      <td>450820</td>\n",
              "      <td>43739</td>\n",
              "      <td>345940</td>\n",
              "      <td>789286</td>\n",
              "      <td>362103</td>\n",
              "      <td>620337</td>\n",
              "      <td>310595</td>\n",
              "      <td>461270</td>\n",
              "    </tr>\n",
              "    <tr>\n",
              "      <th>1</th>\n",
              "      <td>32683</td>\n",
              "      <td>862625</td>\n",
              "      <td>671429</td>\n",
              "      <td>818015</td>\n",
              "      <td>192524</td>\n",
              "      <td>52264</td>\n",
              "      <td>146394</td>\n",
              "      <td>447133</td>\n",
              "      <td>36171</td>\n",
              "      <td>378042</td>\n",
              "      <td>784684</td>\n",
              "      <td>356856</td>\n",
              "      <td>594499</td>\n",
              "      <td>319498</td>\n",
              "      <td>478757</td>\n",
              "    </tr>\n",
              "    <tr>\n",
              "      <th>2</th>\n",
              "      <td>34519</td>\n",
              "      <td>859181</td>\n",
              "      <td>678552</td>\n",
              "      <td>824984</td>\n",
              "      <td>194710</td>\n",
              "      <td>50986</td>\n",
              "      <td>164282</td>\n",
              "      <td>448693</td>\n",
              "      <td>14559</td>\n",
              "      <td>369041</td>\n",
              "      <td>776997</td>\n",
              "      <td>367400</td>\n",
              "      <td>615245</td>\n",
              "      <td>281741</td>\n",
              "      <td>445673</td>\n",
              "    </tr>\n",
              "    <tr>\n",
              "      <th>3</th>\n",
              "      <td>35250</td>\n",
              "      <td>847859</td>\n",
              "      <td>652480</td>\n",
              "      <td>828636</td>\n",
              "      <td>196389</td>\n",
              "      <td>63096</td>\n",
              "      <td>166515</td>\n",
              "      <td>429911</td>\n",
              "      <td>54324</td>\n",
              "      <td>368559</td>\n",
              "      <td>765723</td>\n",
              "      <td>361038</td>\n",
              "      <td>623793</td>\n",
              "      <td>299209</td>\n",
              "      <td>443797</td>\n",
              "    </tr>\n",
              "    <tr>\n",
              "      <th>4</th>\n",
              "      <td>35920</td>\n",
              "      <td>860543</td>\n",
              "      <td>651526</td>\n",
              "      <td>796781</td>\n",
              "      <td>222808</td>\n",
              "      <td>64757</td>\n",
              "      <td>171196</td>\n",
              "      <td>446089</td>\n",
              "      <td>40085</td>\n",
              "      <td>366475</td>\n",
              "      <td>782777</td>\n",
              "      <td>386218</td>\n",
              "      <td>605180</td>\n",
              "      <td>312034</td>\n",
              "      <td>478862</td>\n",
              "    </tr>\n",
              "  </tbody>\n",
              "</table>\n",
              "</div>"
            ],
            "text/plain": [
              "   col_0   col_1   col_2   col_3  ...  col_11  col_12  col_13  col_14\n",
              "0  29020  860619  658827  854383  ...  362103  620337  310595  461270\n",
              "1  32683  862625  671429  818015  ...  356856  594499  319498  478757\n",
              "2  34519  859181  678552  824984  ...  367400  615245  281741  445673\n",
              "3  35250  847859  652480  828636  ...  361038  623793  299209  443797\n",
              "4  35920  860543  651526  796781  ...  386218  605180  312034  478862\n",
              "\n",
              "[5 rows x 15 columns]"
            ]
          },
          "metadata": {
            "tags": []
          },
          "execution_count": 3
        }
      ]
    },
    {
      "cell_type": "code",
      "metadata": {
        "id": "M-gGtFMIQWta"
      },
      "source": [
        "X_1.describe()"
      ],
      "execution_count": null,
      "outputs": []
    },
    {
      "cell_type": "markdown",
      "metadata": {
        "id": "-iLkrq1jY_3Q"
      },
      "source": [
        "**Pregunta 1** \n",
        "\n",
        "Ejecute el código abajo.\n",
        "\n",
        "\n",
        "El primer bloque ejecuta `k-means` para `k` clusters, con `k` variando de 1 a 19 clusters. Cada ejecución de `k-means` elige los centroides iniciales al azar. Puede variar el parámetro `n_init` que indica cuántas veces se ejecutará k-means sobre los datos y entregará el clustering con el menor SSE. También puede variar `max_iter`, que indica cuántas veces iterará una ejecución de k-means.\n",
        "\n",
        "Usando el método del codo, ¿cuántos clusters considera que hay en los datos?\n",
        "\n",
        "¿Qué puede decir del efecto de los parámetros `n_init` y `max_iter`? (tuvo que usar valores muy altos, muy bajos, etc...)"
      ]
    },
    {
      "cell_type": "markdown",
      "metadata": {
        "id": "DCQLPzkyaVTn"
      },
      "source": [
        ""
      ]
    },
    {
      "cell_type": "code",
      "metadata": {
        "id": "_rtzp4SHBuQA"
      },
      "source": [
        "numClusters = range(1, 20) # [1, 2, 3, ..., 19]\n",
        "SSE = []\n",
        "for k in numClusters:\n",
        "    k_means = cluster.KMeans(n_clusters=k, n_init=1, max_iter=3, init='random')\n",
        "    k_means.fit(X_1)\n",
        "    SSE.append(k_means.inertia_)"
      ],
      "execution_count": null,
      "outputs": []
    },
    {
      "cell_type": "code",
      "metadata": {
        "id": "1fooFwNvRqGG"
      },
      "source": [
        "plt.plot(numClusters, SSE)\n",
        "plt.xticks(numClusters)\n",
        "plt.xlabel('Number of Clusters')\n",
        "plt.ylabel('SSE')\n",
        "\n",
        "## puedes descomentar la siguiente línea para mostrar el gráfico en escala \n",
        "## logarítmica en el eje y.\n",
        "## Son los mismos datos, sólo que las pequeñas diferencias se muestran más grandes.\n",
        "\n",
        "#plt.yscale('log')\n",
        "plt.show()"
      ],
      "execution_count": null,
      "outputs": []
    },
    {
      "cell_type": "markdown",
      "metadata": {
        "id": "s0VqqxOYa7Vj"
      },
      "source": [
        "---"
      ]
    },
    {
      "cell_type": "markdown",
      "metadata": {
        "id": "5ga3GBnfbBea"
      },
      "source": [
        "Cargamos estos nuevos datos."
      ]
    },
    {
      "cell_type": "code",
      "metadata": {
        "colab": {
          "base_uri": "https://localhost:8080/",
          "height": 223
        },
        "id": "NghvPzbkRz4Y",
        "outputId": "aa773fe6-83c9-4cb4-91cf-4310f162f828"
      },
      "source": [
        "X_2 = pd.read_table(\n",
        "    'http://cs.joensuu.fi/sipu/datasets/dim032.txt', \n",
        "    delim_whitespace=True, \n",
        "    names=[f\"col_{i}\" for i in range(32)], \n",
        "    header=0)\n",
        "\n",
        "X_2.head()"
      ],
      "execution_count": null,
      "outputs": [
        {
          "output_type": "execute_result",
          "data": {
            "text/html": [
              "<div>\n",
              "<style scoped>\n",
              "    .dataframe tbody tr th:only-of-type {\n",
              "        vertical-align: middle;\n",
              "    }\n",
              "\n",
              "    .dataframe tbody tr th {\n",
              "        vertical-align: top;\n",
              "    }\n",
              "\n",
              "    .dataframe thead th {\n",
              "        text-align: right;\n",
              "    }\n",
              "</style>\n",
              "<table border=\"1\" class=\"dataframe\">\n",
              "  <thead>\n",
              "    <tr style=\"text-align: right;\">\n",
              "      <th></th>\n",
              "      <th>col_0</th>\n",
              "      <th>col_1</th>\n",
              "      <th>col_2</th>\n",
              "      <th>col_3</th>\n",
              "      <th>col_4</th>\n",
              "      <th>col_5</th>\n",
              "      <th>col_6</th>\n",
              "      <th>col_7</th>\n",
              "      <th>col_8</th>\n",
              "      <th>col_9</th>\n",
              "      <th>col_10</th>\n",
              "      <th>col_11</th>\n",
              "      <th>col_12</th>\n",
              "      <th>col_13</th>\n",
              "      <th>col_14</th>\n",
              "      <th>col_15</th>\n",
              "      <th>col_16</th>\n",
              "      <th>col_17</th>\n",
              "      <th>col_18</th>\n",
              "      <th>col_19</th>\n",
              "      <th>col_20</th>\n",
              "      <th>col_21</th>\n",
              "      <th>col_22</th>\n",
              "      <th>col_23</th>\n",
              "      <th>col_24</th>\n",
              "      <th>col_25</th>\n",
              "      <th>col_26</th>\n",
              "      <th>col_27</th>\n",
              "      <th>col_28</th>\n",
              "      <th>col_29</th>\n",
              "      <th>col_30</th>\n",
              "      <th>col_31</th>\n",
              "    </tr>\n",
              "  </thead>\n",
              "  <tbody>\n",
              "    <tr>\n",
              "      <th>0</th>\n",
              "      <td>86</td>\n",
              "      <td>149</td>\n",
              "      <td>101</td>\n",
              "      <td>56</td>\n",
              "      <td>93</td>\n",
              "      <td>181</td>\n",
              "      <td>171</td>\n",
              "      <td>116</td>\n",
              "      <td>37</td>\n",
              "      <td>192</td>\n",
              "      <td>141</td>\n",
              "      <td>195</td>\n",
              "      <td>100</td>\n",
              "      <td>106</td>\n",
              "      <td>85</td>\n",
              "      <td>113</td>\n",
              "      <td>50</td>\n",
              "      <td>188</td>\n",
              "      <td>83</td>\n",
              "      <td>145</td>\n",
              "      <td>154</td>\n",
              "      <td>75</td>\n",
              "      <td>191</td>\n",
              "      <td>79</td>\n",
              "      <td>215</td>\n",
              "      <td>116</td>\n",
              "      <td>76</td>\n",
              "      <td>60</td>\n",
              "      <td>130</td>\n",
              "      <td>71</td>\n",
              "      <td>151</td>\n",
              "      <td>181</td>\n",
              "    </tr>\n",
              "    <tr>\n",
              "      <th>1</th>\n",
              "      <td>83</td>\n",
              "      <td>149</td>\n",
              "      <td>99</td>\n",
              "      <td>51</td>\n",
              "      <td>96</td>\n",
              "      <td>187</td>\n",
              "      <td>169</td>\n",
              "      <td>108</td>\n",
              "      <td>34</td>\n",
              "      <td>191</td>\n",
              "      <td>142</td>\n",
              "      <td>198</td>\n",
              "      <td>102</td>\n",
              "      <td>102</td>\n",
              "      <td>91</td>\n",
              "      <td>114</td>\n",
              "      <td>55</td>\n",
              "      <td>184</td>\n",
              "      <td>81</td>\n",
              "      <td>149</td>\n",
              "      <td>153</td>\n",
              "      <td>68</td>\n",
              "      <td>190</td>\n",
              "      <td>65</td>\n",
              "      <td>213</td>\n",
              "      <td>118</td>\n",
              "      <td>73</td>\n",
              "      <td>55</td>\n",
              "      <td>125</td>\n",
              "      <td>63</td>\n",
              "      <td>155</td>\n",
              "      <td>178</td>\n",
              "    </tr>\n",
              "    <tr>\n",
              "      <th>2</th>\n",
              "      <td>86</td>\n",
              "      <td>142</td>\n",
              "      <td>101</td>\n",
              "      <td>64</td>\n",
              "      <td>105</td>\n",
              "      <td>183</td>\n",
              "      <td>172</td>\n",
              "      <td>116</td>\n",
              "      <td>49</td>\n",
              "      <td>180</td>\n",
              "      <td>147</td>\n",
              "      <td>196</td>\n",
              "      <td>90</td>\n",
              "      <td>91</td>\n",
              "      <td>90</td>\n",
              "      <td>122</td>\n",
              "      <td>64</td>\n",
              "      <td>176</td>\n",
              "      <td>75</td>\n",
              "      <td>153</td>\n",
              "      <td>153</td>\n",
              "      <td>72</td>\n",
              "      <td>186</td>\n",
              "      <td>69</td>\n",
              "      <td>209</td>\n",
              "      <td>120</td>\n",
              "      <td>68</td>\n",
              "      <td>56</td>\n",
              "      <td>123</td>\n",
              "      <td>67</td>\n",
              "      <td>144</td>\n",
              "      <td>181</td>\n",
              "    </tr>\n",
              "    <tr>\n",
              "      <th>3</th>\n",
              "      <td>89</td>\n",
              "      <td>145</td>\n",
              "      <td>108</td>\n",
              "      <td>54</td>\n",
              "      <td>91</td>\n",
              "      <td>180</td>\n",
              "      <td>175</td>\n",
              "      <td>107</td>\n",
              "      <td>35</td>\n",
              "      <td>192</td>\n",
              "      <td>142</td>\n",
              "      <td>207</td>\n",
              "      <td>99</td>\n",
              "      <td>100</td>\n",
              "      <td>95</td>\n",
              "      <td>110</td>\n",
              "      <td>47</td>\n",
              "      <td>183</td>\n",
              "      <td>80</td>\n",
              "      <td>149</td>\n",
              "      <td>155</td>\n",
              "      <td>75</td>\n",
              "      <td>188</td>\n",
              "      <td>67</td>\n",
              "      <td>212</td>\n",
              "      <td>118</td>\n",
              "      <td>91</td>\n",
              "      <td>50</td>\n",
              "      <td>135</td>\n",
              "      <td>58</td>\n",
              "      <td>147</td>\n",
              "      <td>165</td>\n",
              "    </tr>\n",
              "    <tr>\n",
              "      <th>4</th>\n",
              "      <td>84</td>\n",
              "      <td>152</td>\n",
              "      <td>100</td>\n",
              "      <td>52</td>\n",
              "      <td>96</td>\n",
              "      <td>187</td>\n",
              "      <td>171</td>\n",
              "      <td>109</td>\n",
              "      <td>38</td>\n",
              "      <td>187</td>\n",
              "      <td>140</td>\n",
              "      <td>198</td>\n",
              "      <td>99</td>\n",
              "      <td>104</td>\n",
              "      <td>88</td>\n",
              "      <td>113</td>\n",
              "      <td>54</td>\n",
              "      <td>186</td>\n",
              "      <td>76</td>\n",
              "      <td>153</td>\n",
              "      <td>155</td>\n",
              "      <td>70</td>\n",
              "      <td>190</td>\n",
              "      <td>64</td>\n",
              "      <td>216</td>\n",
              "      <td>114</td>\n",
              "      <td>76</td>\n",
              "      <td>54</td>\n",
              "      <td>124</td>\n",
              "      <td>64</td>\n",
              "      <td>153</td>\n",
              "      <td>176</td>\n",
              "    </tr>\n",
              "  </tbody>\n",
              "</table>\n",
              "</div>"
            ],
            "text/plain": [
              "   col_0  col_1  col_2  col_3  col_4  ...  col_27  col_28  col_29  col_30  col_31\n",
              "0     86    149    101     56     93  ...      60     130      71     151     181\n",
              "1     83    149     99     51     96  ...      55     125      63     155     178\n",
              "2     86    142    101     64    105  ...      56     123      67     144     181\n",
              "3     89    145    108     54     91  ...      50     135      58     147     165\n",
              "4     84    152    100     52     96  ...      54     124      64     153     176\n",
              "\n",
              "[5 rows x 32 columns]"
            ]
          },
          "metadata": {
            "tags": []
          },
          "execution_count": 38
        }
      ]
    },
    {
      "cell_type": "markdown",
      "metadata": {
        "id": "YbagjTrabT_6"
      },
      "source": [
        "**Pregunta 2**\n",
        "\n",
        "Sabemos en este caso que existen 16 grupos o clusters.\n",
        "\n",
        "Modifique los valores de `n_init` y `max_iter` hasta poder identificar 16 clusters con el método del codo.\n",
        "\n",
        "Comparando con la pregunta anterior, ¿cuáles son las diferencias que podrían explicar usar valores distintos en `n_init`?"
      ]
    },
    {
      "cell_type": "markdown",
      "metadata": {
        "id": "YBSyRXVMb12N"
      },
      "source": [
        ""
      ]
    },
    {
      "cell_type": "code",
      "metadata": {
        "id": "K0VYwjklSJKo"
      },
      "source": [
        "numClusters = range(1, 20) # [1, 2, 3, ..., 19]\n",
        "SSE = []\n",
        "for k in numClusters:\n",
        "    k_means = cluster.KMeans(n_clusters=k, n_init=10, max_iter=5, init='random', random_state=1)\n",
        "    k_means.fit(X_2)\n",
        "    SSE.append(k_means.inertia_)"
      ],
      "execution_count": null,
      "outputs": []
    },
    {
      "cell_type": "code",
      "metadata": {
        "id": "lHsti-iMbQqE"
      },
      "source": [
        "plt.plot(numClusters, SSE)\n",
        "plt.xticks(numClusters)\n",
        "plt.xlabel('Number of Clusters')\n",
        "plt.ylabel('SSE')\n",
        "#plt.yscale('log')\n",
        "plt.show()"
      ],
      "execution_count": null,
      "outputs": []
    },
    {
      "cell_type": "markdown",
      "metadata": {
        "id": "-k6VPZDPcJCS"
      },
      "source": [
        "---"
      ]
    },
    {
      "cell_type": "markdown",
      "metadata": {
        "id": "TOoz7BPecKUp"
      },
      "source": [
        "**K-means++**"
      ]
    },
    {
      "cell_type": "markdown",
      "metadata": {
        "id": "gcgl3yk0b1Fw"
      },
      "source": [
        "La implementación de k-means de sklearn usa por defecto una estrategia de inicialización de centroides llamada `k-means++`, que elige los centros tal que estén generalmente lejos unos de otros, lo cual afirma que es probablemente mejor que elegirlos puramente al azar:"
      ]
    },
    {
      "cell_type": "code",
      "metadata": {
        "id": "1oKyXuQ4b2sD"
      },
      "source": [
        "numClusters = range(1, 20) # [1, 2, 3, ..., 19]\n",
        "SSE = []\n",
        "for k in numClusters:\n",
        "    k_means = cluster.KMeans(n_clusters=k, n_init=1, max_iter=3, init='k-means++')\n",
        "    k_means.fit(X_1)\n",
        "    SSE.append(k_means.inertia_)\n",
        "\n",
        "plt.plot(numClusters, SSE)\n",
        "plt.xticks(numClusters)\n",
        "plt.xlabel('Number of Clusters')\n",
        "plt.ylabel('SSE')\n",
        "\n",
        "## puedes descomentar la siguiente línea para mostrar el gráfico en escala \n",
        "## logarítmica en el eje y.\n",
        "## Son los mismos datos, sólo que las pequeñas diferencias se muestran más grandes.\n",
        "\n",
        "#plt.yscale('log')\n",
        "plt.show()"
      ],
      "execution_count": null,
      "outputs": []
    },
    {
      "cell_type": "code",
      "metadata": {
        "id": "vT47u1Y_cAEx"
      },
      "source": [
        "numClusters = range(1, 20) # [1, 2, 3, ..., 19]\n",
        "SSE = []\n",
        "for k in numClusters:\n",
        "    k_means = cluster.KMeans(n_clusters=k, n_init=10, max_iter=5, init='k-means++', random_state=1)\n",
        "    k_means.fit(X_2)\n",
        "    SSE.append(k_means.inertia_)\n",
        "\n",
        "plt.plot(numClusters, SSE)\n",
        "plt.xticks(numClusters)\n",
        "plt.xlabel('Number of Clusters')\n",
        "plt.ylabel('SSE')\n",
        "#plt.yscale('log')\n",
        "plt.show()"
      ],
      "execution_count": null,
      "outputs": []
    },
    {
      "cell_type": "markdown",
      "metadata": {
        "id": "9etCYo3hcORh"
      },
      "source": [
        "# Clustering jerárquico"
      ]
    },
    {
      "cell_type": "markdown",
      "metadata": {
        "id": "cY_QhwxicQ2U"
      },
      "source": [
        "Cargamos los datos y los graficamos:"
      ]
    },
    {
      "cell_type": "code",
      "metadata": {
        "colab": {
          "base_uri": "https://localhost:8080/",
          "height": 203
        },
        "id": "bh4t1NjFSPkq",
        "outputId": "8ec99ba3-c3a0-4763-d95c-bf65ac7796d3"
      },
      "source": [
        "X_3 = pd.read_table(\n",
        "    \"http://cs.joensuu.fi/sipu/datasets/spiral.txt\", \n",
        "    delim_whitespace=True, \n",
        "    names=['x', 'y', 'c'],\n",
        "    header=0)\n",
        "\n",
        "X_3.head()"
      ],
      "execution_count": null,
      "outputs": [
        {
          "output_type": "execute_result",
          "data": {
            "text/html": [
              "<div>\n",
              "<style scoped>\n",
              "    .dataframe tbody tr th:only-of-type {\n",
              "        vertical-align: middle;\n",
              "    }\n",
              "\n",
              "    .dataframe tbody tr th {\n",
              "        vertical-align: top;\n",
              "    }\n",
              "\n",
              "    .dataframe thead th {\n",
              "        text-align: right;\n",
              "    }\n",
              "</style>\n",
              "<table border=\"1\" class=\"dataframe\">\n",
              "  <thead>\n",
              "    <tr style=\"text-align: right;\">\n",
              "      <th></th>\n",
              "      <th>x</th>\n",
              "      <th>y</th>\n",
              "      <th>c</th>\n",
              "    </tr>\n",
              "  </thead>\n",
              "  <tbody>\n",
              "    <tr>\n",
              "      <th>0</th>\n",
              "      <td>31.15</td>\n",
              "      <td>7.30</td>\n",
              "      <td>3</td>\n",
              "    </tr>\n",
              "    <tr>\n",
              "      <th>1</th>\n",
              "      <td>30.45</td>\n",
              "      <td>6.65</td>\n",
              "      <td>3</td>\n",
              "    </tr>\n",
              "    <tr>\n",
              "      <th>2</th>\n",
              "      <td>29.70</td>\n",
              "      <td>6.00</td>\n",
              "      <td>3</td>\n",
              "    </tr>\n",
              "    <tr>\n",
              "      <th>3</th>\n",
              "      <td>28.90</td>\n",
              "      <td>5.55</td>\n",
              "      <td>3</td>\n",
              "    </tr>\n",
              "    <tr>\n",
              "      <th>4</th>\n",
              "      <td>28.05</td>\n",
              "      <td>5.00</td>\n",
              "      <td>3</td>\n",
              "    </tr>\n",
              "  </tbody>\n",
              "</table>\n",
              "</div>"
            ],
            "text/plain": [
              "       x     y  c\n",
              "0  31.15  7.30  3\n",
              "1  30.45  6.65  3\n",
              "2  29.70  6.00  3\n",
              "3  28.90  5.55  3\n",
              "4  28.05  5.00  3"
            ]
          },
          "metadata": {
            "tags": []
          },
          "execution_count": 51
        }
      ]
    },
    {
      "cell_type": "code",
      "metadata": {
        "id": "VeqDU12SSr_h"
      },
      "source": [
        "X_3.plot(x='x', y='y', kind='scatter')"
      ],
      "execution_count": null,
      "outputs": []
    },
    {
      "cell_type": "markdown",
      "metadata": {
        "id": "IKawp6nJcTc1"
      },
      "source": [
        "**Pregunta 3**\n",
        "\n",
        "¿Cuántos clusters ve en el gráfico? ¿Cómo categorizaría estos clusters?\n",
        "\n",
        "¿Cree que k-means pueda capturar los distintos grupos que observa? ¿Cómo?\n",
        "\n",
        "Pruebe con distintos valores de `K` abajo para experimentar con k-means."
      ]
    },
    {
      "cell_type": "markdown",
      "metadata": {
        "id": "yiZESmMwclKA"
      },
      "source": [
        ""
      ]
    },
    {
      "cell_type": "code",
      "metadata": {
        "id": "34NunDlYSwHx"
      },
      "source": [
        "K = 1\n",
        "\n",
        "data = X_3.drop(columns=['c'])\n",
        "km = cluster.KMeans(n_clusters=K)\n",
        "km.fit(data)\n",
        "\n",
        "data['Cluster ID'] = km.labels_\n",
        "data.plot(x='x', y='y', kind='scatter', c='Cluster ID', colormap='jet')"
      ],
      "execution_count": null,
      "outputs": []
    },
    {
      "cell_type": "markdown",
      "metadata": {
        "id": "HmcIywwacmep"
      },
      "source": [
        "---"
      ]
    },
    {
      "cell_type": "markdown",
      "metadata": {
        "id": "C0zo831tcns1"
      },
      "source": [
        "**Pregunta 4**\n",
        "\n",
        "Usemos clustering jerárquico aglomerativo sobre estos datos.\n",
        "\n",
        "El código abajo extrae clusters a partir del dendograma en base a la distancia o similitud. Por ejemplo, al usar `criterion=distance`, podemos decirle a `fcluster` que \"corte\" el dendograma en el valor `t` y nos entregue los clusters resultantes. Estos clusters (etiquetas) se almacenarán en la variable `labels`.\n",
        "\n",
        "¿Cuál método de clustering podría identificar los clusters que esperamos? ¿Por qué ese método funciona y los otros no? Modifique la variable `METHOD` abajo."
      ]
    },
    {
      "cell_type": "markdown",
      "metadata": {
        "id": "WU4a2rjudI6a"
      },
      "source": [
        ""
      ]
    },
    {
      "cell_type": "code",
      "metadata": {
        "id": "FHvAT9QoUqhd"
      },
      "source": [
        "METHOD = 'complete'\n",
        "\n",
        "Z = hierarchy.linkage(X_3.values, METHOD)\n",
        "dn = hierarchy.dendrogram(Z, orientation='right')"
      ],
      "execution_count": null,
      "outputs": []
    },
    {
      "cell_type": "code",
      "metadata": {
        "id": "rqADILYrTIBT"
      },
      "source": [
        "labels = hierarchy.fcluster(Z, t=25, criterion='distance')\n",
        "labels"
      ],
      "execution_count": null,
      "outputs": []
    },
    {
      "cell_type": "code",
      "metadata": {
        "id": "zAG0pQ0wVDab"
      },
      "source": [
        "data['Cluster ID'] = labels\n",
        "\n",
        "colors = ['red', 'blue', 'green', 'yellow', 'cyan', 'black', 'brown', 'gray']\n",
        "data.plot(x='x', y='y', kind='scatter', c=data['Cluster ID'].apply(lambda x: colors[x]))"
      ],
      "execution_count": null,
      "outputs": []
    },
    {
      "cell_type": "markdown",
      "metadata": {
        "id": "EEH9lNFPd6UF"
      },
      "source": [
        "# DBScan"
      ]
    },
    {
      "cell_type": "markdown",
      "metadata": {
        "id": "VkcUo7qGd7q4"
      },
      "source": [
        "El siguiente código nos ayudará a determinar un valor de `eps` para el dataset con clusters basados en densidad que vimos en el tutorial."
      ]
    },
    {
      "cell_type": "code",
      "metadata": {
        "id": "FyDCUslceLsf"
      },
      "source": [
        "data = pd.read_csv('http://www.cse.msu.edu/~ptan/dmbook/tutorials/tutorial8/chameleon.data', \n",
        "                   delimiter=' ', \n",
        "                   names=['x', 'y'])\n",
        "\n",
        "data.plot(x='x', y='y', kind='scatter')"
      ],
      "execution_count": null,
      "outputs": []
    },
    {
      "cell_type": "markdown",
      "metadata": {
        "id": "uBBxfkpteOiZ"
      },
      "source": [
        "Para esto, vamos a fijar un valor de `minPts`, en este caso 5. Luego vamos a graficar la distancia de cada punto del dataset a su quinto vecino más cercano."
      ]
    },
    {
      "cell_type": "code",
      "metadata": {
        "id": "7ScPgrDxWHsE"
      },
      "source": [
        "from sklearn.neighbors import NearestNeighbors\n",
        "\n",
        "N = 5\n",
        "nbrs = NearestNeighbors(n_neighbors=N).fit(data)\n",
        "distances, indices = nbrs.kneighbors(data)\n",
        "distanceDec = sorted(distances[:, N-1])\n",
        "plt.plot(indices[:,0], distanceDec)\n",
        "plt.yticks(range(0, 50, 5))\n",
        "plt.xlabel('Puntos del dataset ordenados')\n",
        "plt.ylabel('Distancia al 5to vecino mas cercano')\n",
        "plt.grid()\n",
        "\n",
        "plt.show()"
      ],
      "execution_count": null,
      "outputs": []
    },
    {
      "cell_type": "markdown",
      "metadata": {
        "id": "IEmrw41Yezgc"
      },
      "source": [
        "**Pregunta 5**\n",
        "\n",
        "¿Cuál valor de `eps` que observa en el gráfico que deberíamos usar como parámetro de DBScan? ¿Cómo llegó a ese valor a partir del gráfico?\n",
        "\n",
        "¿Cómo cambia el resultado del clustering al usar distintos valores de `eps`? Modifique el valor de `eps` abajo y describa sus observaciones."
      ]
    },
    {
      "cell_type": "markdown",
      "metadata": {
        "id": "qAb3QuYxfRqz"
      },
      "source": [
        ""
      ]
    },
    {
      "cell_type": "code",
      "metadata": {
        "id": "eBiy2Z8pdyZ1"
      },
      "source": [
        "from sklearn.cluster import DBSCAN\n",
        "\n",
        "eps = 1\n",
        "minPts = N\n",
        "\n",
        "db = DBSCAN(eps=eps, min_samples=minPts).fit(data)\n",
        "data['Cluster ID'] = db.labels_\n",
        "data.plot(x='x', y='y', c='Cluster ID', colormap='jet', kind='scatter')"
      ],
      "execution_count": null,
      "outputs": []
    },
    {
      "cell_type": "code",
      "metadata": {
        "id": "Mf0OHizlfN_P"
      },
      "source": [
        ""
      ],
      "execution_count": null,
      "outputs": []
    },
    {
      "cell_type": "markdown",
      "metadata": {
        "id": "g08FwWRZfWqh"
      },
      "source": [
        "**Pregunta 6 (bonus)**\n",
        "\n",
        "¿Cómo cambia el resultado si ahora cambia el `N` (el valor de `minPts`)?\n",
        "\n",
        "Juegue con distintos valores de `N`, determine el `eps` correspondiente, y describa sus observaciones."
      ]
    },
    {
      "cell_type": "markdown",
      "metadata": {
        "id": "ZjGchtF3fmI0"
      },
      "source": [
        ""
      ]
    },
    {
      "cell_type": "code",
      "metadata": {
        "id": "VI0WJQHsfkl_"
      },
      "source": [
        ""
      ],
      "execution_count": null,
      "outputs": []
    },
    {
      "cell_type": "markdown",
      "metadata": {
        "id": "mzxK-NPkfnQ3"
      },
      "source": [
        "---\n",
        "\n",
        "fin"
      ]
    },
    {
      "cell_type": "code",
      "metadata": {
        "id": "XxRKIXeCfny4"
      },
      "source": [
        ""
      ],
      "execution_count": null,
      "outputs": []
    }
  ]
}