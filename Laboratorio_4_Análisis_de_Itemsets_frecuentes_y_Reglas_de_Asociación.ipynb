{
  "nbformat": 4,
  "nbformat_minor": 0,
  "metadata": {
    "colab": {
      "name": "Laboratorio 4 - Análisis de Itemsets frecuentes y Reglas de Asociación",
      "provenance": [],
      "toc_visible": true,
      "include_colab_link": true
    },
    "kernelspec": {
      "name": "python3",
      "display_name": "Python 3"
    },
    "language_info": {
      "name": "python"
    }
  },
  "cells": [
    {
      "cell_type": "markdown",
      "metadata": {
        "id": "view-in-github",
        "colab_type": "text"
      },
      "source": [
        "<a href=\"https://colab.research.google.com/github/ftempesta/Data-Science-Online/blob/master/Laboratorio_4_An%C3%A1lisis_de_Itemsets_frecuentes_y_Reglas_de_Asociaci%C3%B3n.ipynb\" target=\"_parent\"><img src=\"https://colab.research.google.com/assets/colab-badge.svg\" alt=\"Open In Colab\"/></a>"
      ]
    },
    {
      "cell_type": "markdown",
      "metadata": {
        "id": "uiZJKpnVf2Lk"
      },
      "source": [
        "# Tutorial"
      ]
    },
    {
      "cell_type": "markdown",
      "metadata": {
        "id": "nm7H2g5Wm9xT"
      },
      "source": [
        "## Preámbulo"
      ]
    },
    {
      "cell_type": "markdown",
      "metadata": {
        "id": "gPslPYAlf5vz"
      },
      "source": [
        "Usaremos la librería `mlxtend`, que contiene algunas herramientas adicionales que no se encuentran en `sklearn`."
      ]
    },
    {
      "cell_type": "code",
      "metadata": {
        "id": "o_9ok2nqMiu-"
      },
      "source": [
        "!pip install mlxtend"
      ],
      "execution_count": null,
      "outputs": []
    },
    {
      "cell_type": "markdown",
      "metadata": {
        "id": "PVtOqoiOgEqn"
      },
      "source": [
        "Primero creamos un dataset de transacciones. En este caso, cada transacción corresponde a las compras hechas en un almacén."
      ]
    },
    {
      "cell_type": "code",
      "metadata": {
        "id": "_zxEgU6JM6kl"
      },
      "source": [
        "dataset = [['Leche', 'Cebollas', 'Pisco', 'Porotos', 'Huevos', 'Yogurt'],\n",
        "           ['Eneldo', 'Cebollas', 'Pisco', 'Porotos', 'Huevos', 'Yogurt'],\n",
        "           ['Leche', 'Manzanas', 'Porotos', 'Huevos'],\n",
        "           ['Leche', 'Tomillo', 'Espinaca', 'Porotos', 'Yogurt'],\n",
        "           ['Espinaca', 'Cebollas', 'Cebollas', 'Porotos', 'Helado', 'Huevos']]"
      ],
      "execution_count": null,
      "outputs": []
    },
    {
      "cell_type": "markdown",
      "metadata": {
        "id": "x1CU2UEigpG0"
      },
      "source": [
        "Importamos el `TransactionEncoder` que convierte los datos en una matriz de ocurrencias: cada columna corresponde a alguno de los items, cada fila es la misma transacción, y cada celda es 0 o 1 dependiendo de si la transacción contiene al item.\n",
        "\n",
        "¿A qué se parece este encoder? ¿En qué se diferencia?"
      ]
    },
    {
      "cell_type": "code",
      "metadata": {
        "id": "BmqxV25ONP3B"
      },
      "source": [
        "import pandas as pd\n",
        "from mlxtend.preprocessing import TransactionEncoder\n",
        "\n",
        "te = TransactionEncoder()\n",
        "te_ary = te.fit(dataset).transform(dataset)\n",
        "\n",
        "df = pd.DataFrame(te_ary, columns=te.columns_)\n",
        "df"
      ],
      "execution_count": null,
      "outputs": []
    },
    {
      "cell_type": "markdown",
      "metadata": {
        "id": "6Xuu_s7vh7uS"
      },
      "source": [
        "## Itemsets frecuentes con Apriori\n",
        "\n",
        "Usamos el método `apriori` para generar itemsets frecuentes con un soporte mínimo:"
      ]
    },
    {
      "cell_type": "code",
      "metadata": {
        "id": "SegCfRpXNRLW"
      },
      "source": [
        "from mlxtend.frequent_patterns import apriori\n",
        "\n",
        "apriori(df, min_support=0.6)"
      ],
      "execution_count": null,
      "outputs": []
    },
    {
      "cell_type": "markdown",
      "metadata": {
        "id": "u5Yu5eTRiB-1"
      },
      "source": [
        "Con el parámetro `use_colnames` podemos recuperar los nombres de las columnas en cada itemset:"
      ]
    },
    {
      "cell_type": "code",
      "metadata": {
        "colab": {
          "base_uri": "https://localhost:8080/",
          "height": 390
        },
        "id": "GassuvBsNfQA",
        "outputId": "ab3164b3-8d43-49d4-da39-2f14789639e9"
      },
      "source": [
        "apriori(df, min_support=0.6, use_colnames=True)"
      ],
      "execution_count": null,
      "outputs": [
        {
          "output_type": "execute_result",
          "data": {
            "text/html": [
              "<div>\n",
              "<style scoped>\n",
              "    .dataframe tbody tr th:only-of-type {\n",
              "        vertical-align: middle;\n",
              "    }\n",
              "\n",
              "    .dataframe tbody tr th {\n",
              "        vertical-align: top;\n",
              "    }\n",
              "\n",
              "    .dataframe thead th {\n",
              "        text-align: right;\n",
              "    }\n",
              "</style>\n",
              "<table border=\"1\" class=\"dataframe\">\n",
              "  <thead>\n",
              "    <tr style=\"text-align: right;\">\n",
              "      <th></th>\n",
              "      <th>support</th>\n",
              "      <th>itemsets</th>\n",
              "    </tr>\n",
              "  </thead>\n",
              "  <tbody>\n",
              "    <tr>\n",
              "      <th>0</th>\n",
              "      <td>0.6</td>\n",
              "      <td>(Cebollas)</td>\n",
              "    </tr>\n",
              "    <tr>\n",
              "      <th>1</th>\n",
              "      <td>0.8</td>\n",
              "      <td>(Huevos)</td>\n",
              "    </tr>\n",
              "    <tr>\n",
              "      <th>2</th>\n",
              "      <td>0.6</td>\n",
              "      <td>(Leche)</td>\n",
              "    </tr>\n",
              "    <tr>\n",
              "      <th>3</th>\n",
              "      <td>1.0</td>\n",
              "      <td>(Porotos)</td>\n",
              "    </tr>\n",
              "    <tr>\n",
              "      <th>4</th>\n",
              "      <td>0.6</td>\n",
              "      <td>(Yogurt)</td>\n",
              "    </tr>\n",
              "    <tr>\n",
              "      <th>5</th>\n",
              "      <td>0.6</td>\n",
              "      <td>(Cebollas, Huevos)</td>\n",
              "    </tr>\n",
              "    <tr>\n",
              "      <th>6</th>\n",
              "      <td>0.6</td>\n",
              "      <td>(Cebollas, Porotos)</td>\n",
              "    </tr>\n",
              "    <tr>\n",
              "      <th>7</th>\n",
              "      <td>0.8</td>\n",
              "      <td>(Porotos, Huevos)</td>\n",
              "    </tr>\n",
              "    <tr>\n",
              "      <th>8</th>\n",
              "      <td>0.6</td>\n",
              "      <td>(Porotos, Leche)</td>\n",
              "    </tr>\n",
              "    <tr>\n",
              "      <th>9</th>\n",
              "      <td>0.6</td>\n",
              "      <td>(Porotos, Yogurt)</td>\n",
              "    </tr>\n",
              "    <tr>\n",
              "      <th>10</th>\n",
              "      <td>0.6</td>\n",
              "      <td>(Cebollas, Huevos, Porotos)</td>\n",
              "    </tr>\n",
              "  </tbody>\n",
              "</table>\n",
              "</div>"
            ],
            "text/plain": [
              "    support                     itemsets\n",
              "0       0.6                   (Cebollas)\n",
              "1       0.8                     (Huevos)\n",
              "2       0.6                      (Leche)\n",
              "3       1.0                    (Porotos)\n",
              "4       0.6                     (Yogurt)\n",
              "5       0.6           (Cebollas, Huevos)\n",
              "6       0.6          (Cebollas, Porotos)\n",
              "7       0.8            (Porotos, Huevos)\n",
              "8       0.6             (Porotos, Leche)\n",
              "9       0.6            (Porotos, Yogurt)\n",
              "10      0.6  (Cebollas, Huevos, Porotos)"
            ]
          },
          "metadata": {
            "tags": []
          },
          "execution_count": 104
        }
      ]
    },
    {
      "cell_type": "markdown",
      "metadata": {
        "id": "YVOl2YLAiJFH"
      },
      "source": [
        "El output de `apriori` es un DataFrame de pandas, por lo que podemos manipularlo igual que a un DataFrame cualquiera.\n",
        "\n",
        "Por ejemplo, vamos a ordenarlo por soporte y a agregar una nueva columna que indique el tamaño del itemset:"
      ]
    },
    {
      "cell_type": "code",
      "metadata": {
        "id": "mYb54C16Nh2Z"
      },
      "source": [
        "frequent_itemsets = apriori(df, min_support=0.6, use_colnames=True)\n",
        "frequent_itemsets['length'] = frequent_itemsets['itemsets'].apply(lambda x: len(x))\n",
        "frequent_itemsets.sort_values(by='support', ascending=False, inplace=True)\n",
        "\n",
        "frequent_itemsets"
      ],
      "execution_count": null,
      "outputs": []
    },
    {
      "cell_type": "markdown",
      "metadata": {
        "id": "3I4BSxkJikMb"
      },
      "source": [
        "Podemos hacer filtros más elaborados usando pandas. \n",
        "\n",
        "Por ejemplo: ¿cuáles itemsets de largo 2 tienen soporte mayor o igual a 80%?"
      ]
    },
    {
      "cell_type": "code",
      "metadata": {
        "id": "LYXq08JQV6Sy"
      },
      "source": [
        "frequent_itemsets.loc[\n",
        "  (frequent_itemsets['length'] == 2) &\n",
        "  (frequent_itemsets['support'] >= 0.8) \n",
        "]"
      ],
      "execution_count": null,
      "outputs": []
    },
    {
      "cell_type": "markdown",
      "metadata": {
        "id": "28BKystNiwtf"
      },
      "source": [
        "¿Cuáles itemsets corresponden a huevos y cebollas?"
      ]
    },
    {
      "cell_type": "code",
      "metadata": {
        "id": "66hICixYV8od"
      },
      "source": [
        "frequent_itemsets.loc[ frequent_itemsets['itemsets'] == {'Cebollas', 'Huevos'} ]\n",
        "\n",
        "## {a, b, c, ...} es un conjunto, por lo que el orden no importa:\n",
        "#frequent_itemsets.loc[ frequent_itemsets['itemsets'] == {'Huevos', 'Cebollas'} ]\n",
        "\n",
        "## y para consultar cuáles itemsets contienen al menos ciertos items:\n",
        "frequent_itemsets.loc[\n",
        "  frequent_itemsets['itemsets'].apply(lambda col: col.issuperset({'Huevos', 'Cebollas'}))\n",
        "]"
      ],
      "execution_count": null,
      "outputs": []
    },
    {
      "cell_type": "markdown",
      "metadata": {
        "id": "LJxi5VSYm5qt"
      },
      "source": [
        "## Reglas de Asociación"
      ]
    },
    {
      "cell_type": "markdown",
      "metadata": {
        "id": "JvQtWm65nB_W"
      },
      "source": [
        "La función `association_rules` permite generar reglas usando un umbral de support, confidence, u otras medidas de interés:"
      ]
    },
    {
      "cell_type": "code",
      "metadata": {
        "id": "bl8EGES1WChG"
      },
      "source": [
        "from mlxtend.frequent_patterns import association_rules\n",
        "\n",
        "association_rules(frequent_itemsets, metric=\"confidence\", min_threshold=0.7)"
      ],
      "execution_count": null,
      "outputs": []
    },
    {
      "cell_type": "markdown",
      "metadata": {
        "id": "zqgurYZGnOGg"
      },
      "source": [
        "El `antecedents` o `LHS` (\"left hand side\") es el lado izquierdo de la regla. `consequents` o `RHS` es el lado derecho.\n",
        "\n",
        "Por ejemplo, la primera regla es $\\{\\text{Porotos}\\} \\rightarrow \\{\\text{Huevos}\\}$\n",
        "\n",
        "\n",
        "Las medidas de interés que muestra la librería son las siguientes\n",
        "\n",
        "- $\\text{support}(X \\rightarrow Y) = \\text{support}(X \\cup Y)$\n",
        "\n",
        "- $\\text{confidence}(X \\rightarrow Y) = \\frac{\\text{support}(X \\rightarrow Y)}{\\text{support}(X)}$\n",
        "\n",
        "- $\\text{lift}(X \\rightarrow Y) = \\frac{\\text{confidence}(X \\rightarrow Y)}{\\text{support}(Y)} = \\frac{\\text{support}(X \\rightarrow Y)}{\\text{support}(X)  \\text{support}(Y)}$\n",
        "\n",
        "- $\\text{leverage}(X \\rightarrow Y) = \\text{support}(X \\rightarrow Y) - \\text{support}(X) \\times \\text{support}(Y)$\n",
        "\n",
        "- $\\text{conviction}(X \\rightarrow Y) = \\frac{1 - \\text{support}(Y)}{1 - \\text{confidence}(X \\rightarrow Y)}$\n",
        "\n",
        "Podemos cambiar la medida de interés y aplicar otro filtro para la generación de reglas. Si queremos aplicar más de un filtro, podemos hacerlo posterior a la generación de las reglas."
      ]
    },
    {
      "cell_type": "code",
      "metadata": {
        "id": "9GXnxiZ2Wpvx"
      },
      "source": [
        "rules = association_rules(frequent_itemsets, metric=\"lift\", min_threshold=1.2)\n",
        "rules"
      ],
      "execution_count": null,
      "outputs": []
    },
    {
      "cell_type": "markdown",
      "metadata": {
        "id": "wPHLjCLyoGHx"
      },
      "source": [
        "Para filtrar por el tamaño del LHS, del RHS, o ambos, podemos crear una columna nueva con el tamaño del conjunto y luego hacer el filtro correspondiente"
      ]
    },
    {
      "cell_type": "code",
      "metadata": {
        "id": "QZyEQP6MW3m6"
      },
      "source": [
        "rules[\"antecedent_len\"] = rules[\"antecedents\"].apply(lambda x: len(x))\n",
        "rules"
      ],
      "execution_count": null,
      "outputs": []
    },
    {
      "cell_type": "code",
      "metadata": {
        "id": "OG9-ZiSjW6Q4"
      },
      "source": [
        "rules[ (rules['antecedent_len'] >= 2) &\n",
        "       (rules['confidence'] > 0.75) &\n",
        "       (rules['lift'] > 1.2) ]"
      ],
      "execution_count": null,
      "outputs": []
    },
    {
      "cell_type": "code",
      "metadata": {
        "id": "JetHc4FGW8xz"
      },
      "source": [
        "rules[rules['antecedents'] == {'Porotos', 'Cebollas'}]"
      ],
      "execution_count": null,
      "outputs": []
    },
    {
      "cell_type": "markdown",
      "metadata": {
        "id": "_ZQLb-TbY2Rn"
      },
      "source": [
        "# Laboratorio"
      ]
    },
    {
      "cell_type": "markdown",
      "metadata": {
        "id": "lc0Pr9y3oYvI"
      },
      "source": [
        "Vamos a cargar un dataset que corresponde a las respuestas a un cuestionario hecho a personas en un mall en San Francisco en los años 80.\n",
        "\n",
        "La descripción completa del dataset se encuentra acá:\n",
        "https://web.stanford.edu/~hastie/ElemStatLearn/datasets/marketing.info.txt\n",
        "\n",
        "Cada columna del dataset corresponde a una pregunta en particular, por ejemplo, la primera (columna `income`) corresponde al rango de ingreso del grupo familiar. Los datos son nominales y ordinales (por ejemplo, `income` es ordinal, mientras que `sex` es nominal o categórico).\n",
        "\n"
      ]
    },
    {
      "cell_type": "code",
      "metadata": {
        "id": "t0SvWcBRW-Xs"
      },
      "source": [
        "column_names = ['income', 'sex', 'age', 'education', 'occupation', 'years-sfo', 'dual-income', 'people', 'children', 'house-status', 'home-type', 'ethnic', 'lang']\n",
        "\n",
        "survey = pd.read_table('https://web.stanford.edu/~hastie/ElemStatLearn/datasets/marketing.data', \n",
        "                       delim_whitespace=True, \n",
        "                       header=None,\n",
        "                       index_col=False,\n",
        "                       names=column_names)\n",
        "\n",
        "survey"
      ],
      "execution_count": null,
      "outputs": []
    },
    {
      "cell_type": "markdown",
      "metadata": {
        "id": "GHebP3-6pHsp"
      },
      "source": [
        "Vamos a eliminar todas las filas que tengan algún dato faltante y a considerar todas las columnas como enteros (para evitar datos con decimales, aunque todos los valores sean números enteros, esto nos será útil más abajo)."
      ]
    },
    {
      "cell_type": "code",
      "metadata": {
        "id": "T5H2WPxTYzVD"
      },
      "source": [
        "survey = survey.dropna(axis=0, how='any')\n",
        "survey = survey.astype('int')\n",
        "survey"
      ],
      "execution_count": null,
      "outputs": []
    },
    {
      "cell_type": "markdown",
      "metadata": {
        "id": "ykYcDe2DpOu1"
      },
      "source": [
        "Vamos a hacer one-hot-encoding de los datos de forma de tener valores binarios en las celdas.\n",
        "\n",
        "Cada fila es una transacción, y cada item será la respuesta específica a cada pregunta, donde se representará como una fila con un `1` en la columna correspondiente a la respuesta a una pregunta."
      ]
    },
    {
      "cell_type": "code",
      "metadata": {
        "id": "_iLrBPplZdgv"
      },
      "source": [
        "from sklearn.preprocessing import OneHotEncoder\n",
        "\n",
        "enc = OneHotEncoder()\n",
        "survey_cat = enc.fit_transform(survey)\n",
        "\n",
        "\n",
        "# estos son los nombres de las columnas o items\n",
        "# cada item es la respuesta específica a una pregunta\n",
        "enc.get_feature_names(column_names)"
      ],
      "execution_count": null,
      "outputs": []
    },
    {
      "cell_type": "markdown",
      "metadata": {
        "id": "EP0sZaxJqT4X"
      },
      "source": [
        "El resultado de `enc.fit_transform` es una matriz \"esparsa\" (sparse matrix), una matriz con muchos 0, que se representa como una estructura de datos distinta a una lista de listas con 0 y 1.\n",
        "\n",
        "Es posible usar la librería con datos representados como sparse matrix, pero en este caso vamos a \"densificar\" la matriz convirtiéndola en un DataFrame tal como los hemos conocido hasta ahora."
      ]
    },
    {
      "cell_type": "code",
      "metadata": {
        "id": "bBQ4bBG3ckUT"
      },
      "source": [
        "survey_sp = pd.DataFrame.sparse.from_spmatrix(survey_cat, columns=enc.get_feature_names(column_names))\n",
        "survey_sp = survey_sp.astype('category')\n",
        "\n",
        "survey_sp"
      ],
      "execution_count": null,
      "outputs": []
    },
    {
      "cell_type": "markdown",
      "metadata": {
        "id": "G8GxSy7JqvfW"
      },
      "source": [
        "Ahora generamos itemset frecuentes con support de al menos 10%:"
      ]
    },
    {
      "cell_type": "code",
      "metadata": {
        "id": "ImkKsFraZ65U"
      },
      "source": [
        "frequent_itemsets = apriori(survey_sp, min_support=0.1, use_colnames=True)\n",
        "\n",
        "frequent_itemsets"
      ],
      "execution_count": null,
      "outputs": []
    },
    {
      "cell_type": "markdown",
      "metadata": {
        "id": "Mti0favKq0NQ"
      },
      "source": [
        "Finalmente, generamos reglas. En este caso usaremos un umbral de `confidence` del 70% y agregaremos la columna correspondiente para el largo del antecedente y del consecuente."
      ]
    },
    {
      "cell_type": "code",
      "metadata": {
        "id": "-EAd8RmLd4Z_"
      },
      "source": [
        "rules = association_rules(frequent_itemsets, metric=\"confidence\", min_threshold=0.7)\n",
        "rules[\"antecedent_len\"] = rules[\"antecedents\"].apply(lambda x: len(x))\n",
        "rules[\"consequent_len\"] = rules[\"consequents\"].apply(lambda x: len(x))\n",
        "\n",
        "rules"
      ],
      "execution_count": null,
      "outputs": []
    },
    {
      "cell_type": "code",
      "metadata": {
        "id": "615572nkeMJr"
      },
      "source": [
        "rules[ (rules['antecedent_len'] >= 2) &\n",
        "       (rules['confidence'] > 0.75) &\n",
        "       (rules['lift'] > 1.2) ]"
      ],
      "execution_count": null,
      "outputs": []
    },
    {
      "cell_type": "markdown",
      "metadata": {
        "id": "UE0CXJjgrbeJ"
      },
      "source": [
        "**Pregunta**\n",
        "\n",
        "\n",
        "Haga una exploración de estos datos.\n",
        "\n",
        "Modifique el código arriba o escriba nuevo código. Consulte [la especificación de los datos](https://web.stanford.edu/~hastie/ElemStatLearn/datasets/marketing.info.txt). Puede manipular o procesar los datos como estime conveniente. Debe documentar cualquier procesamiento adicional que haga sobre los datos.\n",
        "\n",
        "Plantee una pregunta \"no trivial\" (por ejemplo: ¿familias con niños ganan más que familias sin niños?) y haga una exploración de las reglas que permitan responder la pregunta. Incluya el código que usó para sustentar sus conclusiones. "
      ]
    },
    {
      "cell_type": "markdown",
      "metadata": {
        "id": "AkcjCQFprbhO"
      },
      "source": [
        ""
      ]
    },
    {
      "cell_type": "code",
      "metadata": {
        "id": "hcs__jc6edhU"
      },
      "source": [
        ""
      ],
      "execution_count": null,
      "outputs": []
    }
  ]
}