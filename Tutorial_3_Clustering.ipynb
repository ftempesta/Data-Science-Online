{
  "nbformat": 4,
  "nbformat_minor": 0,
  "metadata": {
    "colab": {
      "name": "Tutorial 3 - Clustering",
      "provenance": [],
      "include_colab_link": true
    },
    "kernelspec": {
      "name": "python3",
      "display_name": "Python 3"
    },
    "language_info": {
      "name": "python"
    }
  },
  "cells": [
    {
      "cell_type": "markdown",
      "metadata": {
        "id": "view-in-github",
        "colab_type": "text"
      },
      "source": [
        "<a href=\"https://colab.research.google.com/github/ftempesta/Data-Science-Online/blob/master/Tutorial_3_Clustering.ipynb\" target=\"_parent\"><img src=\"https://colab.research.google.com/assets/colab-badge.svg\" alt=\"Open In Colab\"/></a>"
      ]
    },
    {
      "cell_type": "code",
      "metadata": {
        "id": "rnrusqQ8DG6Q"
      },
      "source": [
        "import pandas as pd"
      ],
      "execution_count": null,
      "outputs": []
    },
    {
      "cell_type": "markdown",
      "metadata": {
        "id": "jzqoUV_8gKQL"
      },
      "source": [
        "# K-Means"
      ]
    },
    {
      "cell_type": "markdown",
      "metadata": {
        "id": "rDYc993vWYiO"
      },
      "source": [
        "Crearemos los datos de evaluaciones de películas:\n",
        "\n",
        "Cada observación corresponde a los ratings que un usuario dio a ciertas películas, por lo que cada atributo es el rating de una película en particular:"
      ]
    },
    {
      "cell_type": "code",
      "metadata": {
        "id": "9inrrtAQDJRY"
      },
      "source": [
        "ratings = [['john', 5, 5, 2, 1], \n",
        "           ['mary', 4, 5, 3, 2],\n",
        "           ['bob', 4, 4, 4, 3],\n",
        "           ['lisa', 2, 2, 4, 5],\n",
        "           ['lee', 1, 2, 3, 4],\n",
        "           ['harry', 2, 1, 5, 5]]\n",
        "\n",
        "titles = ['user', 'Jaws', 'Star Wars', 'Exorcist', 'Omen']\n",
        "movies = pd.DataFrame(ratings, columns=titles)\n",
        "movies"
      ],
      "execution_count": null,
      "outputs": []
    },
    {
      "cell_type": "markdown",
      "metadata": {
        "id": "mxSiU5a9XQuH"
      },
      "source": [
        "**¿Cuántos clusters observamos?**\n",
        "\n",
        "---"
      ]
    },
    {
      "cell_type": "markdown",
      "metadata": {
        "id": "7r70K_HFWjcz"
      },
      "source": [
        "Vamos a hacer k-means sobre estos datos. Para ello, quitamos la columna `user`, ya que es sólo un identificador.\n",
        "\n",
        "También podemos usar el índice del DataFrame para identificar al usuario, en vez de usar una columna específica para ello."
      ]
    },
    {
      "cell_type": "code",
      "metadata": {
        "id": "wLj-SiyEDU8K"
      },
      "source": [
        "from sklearn import cluster\n",
        "\n",
        "data = movies.drop('user', axis=1)\n",
        "k_means = cluster.KMeans(n_clusters=2, max_iter=50, random_state=1)\n",
        "k_means.fit(data)\n",
        "\n",
        "labels = k_means.labels_\n",
        "pd.DataFrame(labels, index=movies.user, columns=['Cluster ID'])"
      ],
      "execution_count": null,
      "outputs": []
    },
    {
      "cell_type": "markdown",
      "metadata": {
        "id": "K6WO2N91W2J5"
      },
      "source": [
        "Podemos inspeccionar los centroides resultantes del clustering:"
      ]
    },
    {
      "cell_type": "code",
      "metadata": {
        "id": "78m19OWWDYrZ"
      },
      "source": [
        "centroids = k_means.cluster_centers_\n",
        "pd.DataFrame(centroids, columns=data.columns)"
      ],
      "execution_count": null,
      "outputs": []
    },
    {
      "cell_type": "markdown",
      "metadata": {
        "id": "rDJcugLZW5V7"
      },
      "source": [
        "Y podemos incluir una nueva columna con el ID del cluster que obtuvimos para cada usuario."
      ]
    },
    {
      "cell_type": "code",
      "metadata": {
        "id": "rPAvTVFTDcL3"
      },
      "source": [
        "movies['Cluster ID'] = labels\n",
        "movies"
      ],
      "execution_count": null,
      "outputs": []
    },
    {
      "cell_type": "markdown",
      "metadata": {
        "id": "iteEdcTrW9tQ"
      },
      "source": [
        "Ahora que tenemos un clustering, podríamos usarlo con datos nuevos, es decir, le podríamos pasar nuevas evaluaciones de películas y el clustering nos diría a cuál cluster corresponden, similar a la clasificación:"
      ]
    },
    {
      "cell_type": "code",
      "metadata": {
        "id": "AxkPrbWWDf51"
      },
      "source": [
        "import numpy as np\n",
        "\n",
        "testData = np.array(\n",
        "    [[4, 5, 1, 2],\n",
        "     [3, 2, 4, 4],\n",
        "     [2, 3, 4, 1],\n",
        "     [3, 2, 3, 3],\n",
        "     [5, 4, 1, 4]])\n",
        "\n",
        "labels = k_means.predict(testData)\n",
        "labels"
      ],
      "execution_count": null,
      "outputs": []
    },
    {
      "cell_type": "code",
      "metadata": {
        "id": "3o4v9y-wDvGy"
      },
      "source": [
        "newusers = pd.DataFrame(testData)\n",
        "newusers['user'] = ['paul', 'kim', 'liz', 'tom', 'bill']\n",
        "newusers['Cluster ID'] = labels\n",
        "\n",
        "newusers = newusers[['user', 0, 1, 2, 3, 'Cluster ID']]\n",
        "newusers.columns = movies.columns\n",
        "\n",
        "newusers"
      ],
      "execution_count": null,
      "outputs": []
    },
    {
      "cell_type": "markdown",
      "metadata": {
        "id": "H2G5vbFuXKBH"
      },
      "source": [
        "¿Podría haber más de dos clusters?\n",
        "\n",
        "Usemos el método del codo para determinar si dos clusters fue una decisión acertada."
      ]
    },
    {
      "cell_type": "code",
      "metadata": {
        "id": "RmnFKYKOD6lu"
      },
      "source": [
        "import matplotlib.pyplot as plt\n",
        "%matplotlib inline\n",
        "\n",
        "numClusters = [1,2,3,4,5,6]\n",
        "SSE = []\n",
        "for k in numClusters:\n",
        "    k_means = cluster.KMeans(n_clusters=k, n_init=10)\n",
        "    k_means.fit(data)\n",
        "    SSE.append(k_means.inertia_)\n",
        "\n",
        "plt.plot(numClusters, SSE)\n",
        "plt.xlabel('Number of Clusters')\n",
        "plt.ylabel('SSE')\n",
        "plt.show()"
      ],
      "execution_count": null,
      "outputs": []
    },
    {
      "cell_type": "markdown",
      "metadata": {
        "id": "dR5UGgnvXgaM"
      },
      "source": [
        "Observamos que el \"codo\" se encuentra claramente marcado en dos clusters."
      ]
    },
    {
      "cell_type": "markdown",
      "metadata": {
        "id": "gFkSEd2_Xj5J"
      },
      "source": [
        "# Clustering Jerárquico Aglomerativo"
      ]
    },
    {
      "cell_type": "markdown",
      "metadata": {
        "id": "MHtGVdM_Xnlc"
      },
      "source": [
        "Carguemos los datos de animales nuevamente:"
      ]
    },
    {
      "cell_type": "code",
      "metadata": {
        "id": "n15KGshhObBA"
      },
      "source": [
        "ver = pd.read_csv('http://www.cse.msu.edu/~ptan/dmbook/tutorials/tutorial8/vertebrate.csv')\n",
        "ver"
      ],
      "execution_count": null,
      "outputs": []
    },
    {
      "cell_type": "markdown",
      "metadata": {
        "id": "LTprypsEXpn_"
      },
      "source": [
        "Vamos a visualizar los dendogramas de distintos \"linkages\" o criterios para clustering jerárquicos.\n",
        "\n",
        "Acá la variable `Z` se llama el \"linkage\". Es la matriz de similitud con la información de los clusters que encontró el algoritmo."
      ]
    },
    {
      "cell_type": "code",
      "metadata": {
        "id": "uILiy_1kO_qH"
      },
      "source": [
        "from scipy.cluster import hierarchy\n",
        "import matplotlib.pyplot as plt\n",
        "%matplotlib inline\n",
        "\n",
        "names = ver['Name']\n",
        "Y = ver['Class']\n",
        "X = ver.drop(['Name','Class'], axis=1)\n",
        "Z = hierarchy.linkage(X.values, 'single')\n",
        "dn = hierarchy.dendrogram(Z, labels=names.tolist(), orientation='right')"
      ],
      "execution_count": null,
      "outputs": []
    },
    {
      "cell_type": "code",
      "metadata": {
        "id": "UYaetGqDPDiF"
      },
      "source": [
        "Z = hierarchy.linkage(X.values, 'complete')\n",
        "dn = hierarchy.dendrogram(Z,labels=names.tolist(),orientation='right')"
      ],
      "execution_count": null,
      "outputs": []
    },
    {
      "cell_type": "code",
      "metadata": {
        "id": "XM3Lz72xPYZP"
      },
      "source": [
        "Z = hierarchy.linkage(X.values, 'average')\n",
        "dn = hierarchy.dendrogram(Z,labels=names.tolist(), orientation='right')"
      ],
      "execution_count": null,
      "outputs": []
    },
    {
      "cell_type": "markdown",
      "metadata": {
        "id": "VvuAo667X4Li"
      },
      "source": [
        "# DBScan"
      ]
    },
    {
      "cell_type": "markdown",
      "metadata": {
        "id": "tVvvXZqeX7hA"
      },
      "source": [
        "Carguemos los siguientes datos en dos dimensiones y grafiquémoslos:"
      ]
    },
    {
      "cell_type": "code",
      "metadata": {
        "id": "5V2nCyfrPZpr"
      },
      "source": [
        "cam = pd.read_csv('http://www.cse.msu.edu/~ptan/dmbook/tutorials/tutorial8/chameleon.data', delimiter=' ', names=['x', 'y'])\n",
        "cam"
      ],
      "execution_count": null,
      "outputs": []
    },
    {
      "cell_type": "code",
      "metadata": {
        "id": "bBXsA7ySPf_v"
      },
      "source": [
        "cam.plot(x='x', y='y', kind='scatter')"
      ],
      "execution_count": null,
      "outputs": []
    },
    {
      "cell_type": "markdown",
      "metadata": {
        "id": "Y0I8D5q_YB19"
      },
      "source": [
        "Aplicaremos DBScan con valores eps=15.5 y minPts=5:\n",
        "\n",
        "Esta implementación asocia los puntos de ruido al cluster ID con valor `-1`."
      ]
    },
    {
      "cell_type": "code",
      "metadata": {
        "id": "sWavZ2phPjwb"
      },
      "source": [
        "from sklearn.cluster import DBSCAN\n",
        "\n",
        "db = DBSCAN(eps=15.5, min_samples=5).fit(cam)"
      ],
      "execution_count": null,
      "outputs": []
    },
    {
      "cell_type": "code",
      "metadata": {
        "id": "pS13Bn74Ye4G"
      },
      "source": [
        "cam['Cluster ID'] = db.labels_\n",
        "\n",
        "cam"
      ],
      "execution_count": null,
      "outputs": []
    },
    {
      "cell_type": "code",
      "metadata": {
        "id": "LSHj8zSVYLZO"
      },
      "source": [
        "cam.plot(x='x', y='y', c='Cluster ID', colormap='jet', kind='scatter')"
      ],
      "execution_count": null,
      "outputs": []
    },
    {
      "cell_type": "markdown",
      "metadata": {
        "id": "QslDg5ArhpE3"
      },
      "source": [
        "# Preprocesamiento"
      ]
    },
    {
      "cell_type": "code",
      "metadata": {
        "id": "MxnH-lZQhq8C"
      },
      "source": [
        "from sklearn import preprocessing "
      ],
      "execution_count": null,
      "outputs": []
    },
    {
      "cell_type": "code",
      "metadata": {
        "id": "ofGsWXuShx0D"
      },
      "source": [
        "cam = cam.drop(columns=['Cluster ID'])\n",
        "cam.describe()"
      ],
      "execution_count": null,
      "outputs": []
    },
    {
      "cell_type": "code",
      "metadata": {
        "id": "stv4iosPh0hQ"
      },
      "source": [
        "scaler = preprocessing.StandardScaler()\n",
        "\n",
        "scaler.fit(cam)\n",
        "cam2 = scaler.transform(cam)\n",
        "\n",
        "cam2_df = pd.DataFrame(cam2)\n",
        "cam2_df.describe()"
      ],
      "execution_count": null,
      "outputs": []
    },
    {
      "cell_type": "code",
      "metadata": {
        "id": "WqRrtBP0iAMW"
      },
      "source": [
        "cam2_df.plot(x=0, y=1, colormap='jet', kind='scatter')"
      ],
      "execution_count": null,
      "outputs": []
    },
    {
      "cell_type": "code",
      "metadata": {
        "id": "pqC95KA_ipEH"
      },
      "source": [
        ""
      ],
      "execution_count": null,
      "outputs": []
    }
  ]
}