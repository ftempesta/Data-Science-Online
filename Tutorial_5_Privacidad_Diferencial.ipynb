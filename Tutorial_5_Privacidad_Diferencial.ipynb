{
  "nbformat": 4,
  "nbformat_minor": 0,
  "metadata": {
    "colab": {
      "name": "Tutorial 5 - Privacidad Diferencial",
      "provenance": [],
      "toc_visible": true,
      "include_colab_link": true
    },
    "kernelspec": {
      "name": "python3",
      "display_name": "Python 3"
    },
    "language_info": {
      "name": "python"
    }
  },
  "cells": [
    {
      "cell_type": "markdown",
      "metadata": {
        "id": "view-in-github",
        "colab_type": "text"
      },
      "source": [
        "<a href=\"https://colab.research.google.com/github/ftempesta/Data-Science-Online/blob/master/Tutorial_5_Privacidad_Diferencial.ipynb\" target=\"_parent\"><img src=\"https://colab.research.google.com/assets/colab-badge.svg\" alt=\"Open In Colab\"/></a>"
      ]
    },
    {
      "cell_type": "markdown",
      "metadata": {
        "id": "Ir1Ex4ieRg1I"
      },
      "source": [
        "# Preámbulo"
      ]
    },
    {
      "cell_type": "code",
      "metadata": {
        "id": "jYbJUmTPEulM"
      },
      "source": [
        "!wget https://github.com/uvm-plaid/programming-dp/raw/master/notebooks/adult_with_pii.csv"
      ],
      "execution_count": null,
      "outputs": []
    },
    {
      "cell_type": "code",
      "metadata": {
        "id": "APWZ2NW5CHZA"
      },
      "source": [
        "import pandas as pd\n",
        "import numpy as np\n",
        "import matplotlib.pyplot as plt\n",
        "\n",
        "%matplotlib inline\n",
        "\n",
        "adult = pd.read_csv('adult_with_pii.csv')\n",
        "adult.head()"
      ],
      "execution_count": null,
      "outputs": []
    },
    {
      "cell_type": "markdown",
      "metadata": {
        "id": "Oy6_IFm8RgJg"
      },
      "source": [
        "**Qué atributos del dataset son:**\n",
        "\n",
        "- Identificadores o PII (*personally identifiable information*)\n",
        "- No identificadores\n",
        "- Cuasi-identificadores\n",
        "\n",
        "¿Cómo des-identificamos la información? Eliminando las columnas!"
      ]
    },
    {
      "cell_type": "code",
      "metadata": {
        "id": "F5mvfPpdSgE8"
      },
      "source": [
        "to_remove = ['Name', 'SSN']\n",
        "adult_pii = adult[['Name', 'SSN', 'DOB', 'Zip']]\n",
        "\n",
        "adult_data = adult.copy().drop(columns=to_remove)\n",
        "adult_data.head()"
      ],
      "execution_count": null,
      "outputs": []
    },
    {
      "cell_type": "markdown",
      "metadata": {
        "id": "GNVxxxLoTJ_z"
      },
      "source": [
        "Tras esta acción, ¿podemos *re-identificar* datos?\n",
        "\n",
        "Supongamos que conocemos a una persona, llamada Karrie Trusslove, y sabemos algunos de sus datos, como su ZIP code (o código postal) y su fecha de nacimiento."
      ]
    },
    {
      "cell_type": "code",
      "metadata": {
        "id": "m07FPrnATRzM"
      },
      "source": [
        "karries_row = adult_pii[adult_pii['Name'] == 'Karrie Trusslove']\n",
        "known_cols = []\n",
        "\n",
        "pd.merge(karries_row, adult_data, left_on=known_cols, right_on=known_cols)"
      ],
      "execution_count": null,
      "outputs": []
    },
    {
      "cell_type": "markdown",
      "metadata": {
        "id": "n9lrmR-NUpFg"
      },
      "source": [
        "**¿A cuántas personas podemos re-identificar?**"
      ]
    },
    {
      "cell_type": "code",
      "metadata": {
        "id": "iy9jjtJgUrlA"
      },
      "source": [
        "adult_pii['DOB'].value_counts() .hist()\n",
        "plt.xlabel('Fechas de nacimiento')\n",
        "plt.ylabel('Frecuencia');"
      ],
      "execution_count": null,
      "outputs": []
    },
    {
      "cell_type": "markdown",
      "metadata": {
        "id": "DcY9ZrPQU8cm"
      },
      "source": [
        "**¿Qué podemos hacer?**\n",
        "\n",
        "- Podemos hacer agregaciones y sólo divulgar información agregada. ¿Qué problema tiene esto?\n",
        "\n",
        "- Podemos aplicar medidas sobre los datos, como k-anonimity, o differential privacy."
      ]
    },
    {
      "cell_type": "markdown",
      "metadata": {
        "id": "w5fscZBeGWBt"
      },
      "source": [
        "# Privacidad Diferencial\n",
        "\n",
        "Decimos que una función (también llamada *mecanismo*) $F$ es $\\epsilon$-diferencialmente privado si:\n",
        "\n",
        "$$\\frac{\\Pr[F(D) = S]}{\\Pr[F(D') = S]} \\leq e^\\epsilon$$\n",
        "\n",
        "Donde $F$ aplica a un dataset $D$ o $D'$.\n",
        "\n",
        "Esto nos dice que si modificamos un poco el dataset, y que al hacerlo, la función retorna el mismo resultado con probabilidad $e^\\epsilon$, entonces la función es $\\epsilon$ privada.\n",
        "\n",
        "Por ejemplo, una función $F$ puede ser simplemente contar bajo una condición, como veremos a continuación."
      ]
    },
    {
      "cell_type": "markdown",
      "metadata": {
        "id": "f1yKhoIDF1OR"
      },
      "source": [
        "**¿Cuántas personas tienen más de 40 años?**"
      ]
    },
    {
      "cell_type": "code",
      "metadata": {
        "id": "mp8-L1ruEt1S"
      },
      "source": [
        "# con .shape[0] obtenemos el número de filas del data frame resultante\n",
        "\n",
        "adult.loc[adult['Age'] >= 40].shape[0]"
      ],
      "execution_count": null,
      "outputs": []
    },
    {
      "cell_type": "markdown",
      "metadata": {
        "id": "nsWa8BPRFZf6"
      },
      "source": [
        "# Mecanismo de Laplace\n",
        "\n",
        "La siguiente función satisface $\\epsilon$-differential privacy:\n",
        "\n",
        "$$F(x) = f(x) + \\text{Laplace}(\\frac{s}{\\epsilon})$$\n",
        "\n",
        "Donde $\\text{Laplace}(S)$ retorna un valor al azar de una distribución de Laplace con centro 0 y escala $S$.\n",
        "\n",
        "$s$ se conoce como la *sensitividad*. El valor $s=1$ es suficiente cuando queremos hacer consultas de conteo.\n",
        "\n",
        "Usaremos $\\epsilon=0.1$ y $s=1$ y consultamos nuevamente:"
      ]
    },
    {
      "cell_type": "code",
      "metadata": {
        "id": "v1KiAOSLElGt"
      },
      "source": [
        "sensitivity = 1\n",
        "epsilon = 0.1\n",
        "\n",
        "adult[adult['Age'] >= 40].shape[0] + np.random.laplace(loc=0, scale=sensitivity/epsilon)"
      ],
      "execution_count": null,
      "outputs": []
    },
    {
      "cell_type": "markdown",
      "metadata": {
        "id": "2sUSUhU-P6wA"
      },
      "source": [
        "Varíe el valor de `epsilon` y observe cómo cambian los resultados."
      ]
    },
    {
      "cell_type": "markdown",
      "metadata": {
        "id": "tI0Stu3qHEkX"
      },
      "source": [
        "Ahora no podemos saber exactamente cuántas personas tienen edad mayor o igual a 40 años.\n",
        "\n",
        "\n",
        "**¿Qué pasa si hacemos una consulta de conteo tal que sólo se obtenga 1 resultado?**"
      ]
    },
    {
      "cell_type": "code",
      "metadata": {
        "id": "VtCQOAxCFWw4"
      },
      "source": [
        "karries_row = adult[adult['Name'] == 'Karrie Trusslove']\n",
        "karries_row[karries_row['Target'] == '<=50K'].shape[0]"
      ],
      "execution_count": null,
      "outputs": []
    },
    {
      "cell_type": "markdown",
      "metadata": {
        "id": "p4hwqAhFHyEb"
      },
      "source": [
        "Ahora ya sabemos cómo \"proteger\" este tipo de consultas usando un mecanismo de Laplace:"
      ]
    },
    {
      "cell_type": "code",
      "metadata": {
        "id": "bu-CB_wiHOee"
      },
      "source": [
        "sensitivity = 1\n",
        "epsilon = 0.1\n",
        "\n",
        "karries_row = adult[adult['Name'] == 'Karrie Trusslove']\n",
        "karries_row[karries_row['Target'] == '<=50K'].shape[0] + \\\n",
        "  np.random.laplace(loc=0, scale=sensitivity/epsilon)"
      ],
      "execution_count": null,
      "outputs": []
    },
    {
      "cell_type": "markdown",
      "metadata": {
        "id": "IiTWxekhH4X5"
      },
      "source": [
        "# Privacidad diferencial \"aproximada\"\n",
        "\n",
        "También es llamada $(\\epsilon,\\delta)$-differential privacy. Un mecanismo $F$ satisface esta definición si:\n",
        "\n",
        "$$\\Pr[F(D) = S] \\leq e^\\epsilon\\Pr[F(D') = S] + \\delta$$\n",
        "\n",
        "Es decir, estamos permitiendo que con una probabilidad $\\delta$ no se cumpla la definición de $\\epsilon$-differential privacy, y sí con probabilidad $1-\\delta$.\n",
        "\n",
        "Generalmente uno utiliza un $\\delta$ muy pequeño, como $1/N^2$, donde $N$ es el tamaño del dataset. "
      ]
    },
    {
      "cell_type": "markdown",
      "metadata": {
        "id": "ChC1sNatIumD"
      },
      "source": [
        "# Mecanismo Gaussiano\n",
        "\n",
        "El mecanismo Gaussiano añade \"ruido normal\" a los datos. Este mecanismo no satisface $\\epsilon$-differential privacy, pero sí $(\\epsilon,\\delta)$-differential privacy.\n",
        "\n",
        "$$F(x) = f(x) + \\mathcal{N}(\\sigma^2)$$\n",
        "\n",
        "donde $$\\sigma^2 = \\frac{2s^2\\log(1.25/\\delta)}{\\epsilon^2}$$\n",
        "\n",
        "y $s$ es la \"sensibilidad\" o \"sensitividad\" y $\\mathcal{N}(\\sigma^2)$ denota una distribución normal con media 0 y varianza $\\sigma^2$\n",
        "\n",
        "Veamos cómo se comportan los mecanismos vistos hasta ahora, usando $\\epsilon=1$ y $\\delta=10^{-5}$."
      ]
    },
    {
      "cell_type": "code",
      "metadata": {
        "id": "dWGAuTBsH6Oa"
      },
      "source": [
        "epsilon = 1\n",
        "vals_laplace = [np.random.laplace(loc=0, scale=1/epsilon) for x in range(100000)]\n",
        "\n",
        "delta = 10e-5\n",
        "sigma = np.sqrt(2 * np.log(1.25 / delta)) * 1 / epsilon\n",
        "vals_gauss = [np.random.normal(loc=0, scale=sigma) for x in range(100000)]\n",
        "\n",
        "plt.hist(vals_laplace, bins=50, label='Laplace')\n",
        "plt.hist(vals_gauss, bins=50, alpha=.7, label='Gaussian');\n",
        "plt.legend();\n"
      ],
      "execution_count": null,
      "outputs": []
    },
    {
      "cell_type": "markdown",
      "metadata": {
        "id": "3UpHBZijJ8Re"
      },
      "source": [
        "Viendo las dos distribuciones. ¿Cómo se comparan? ¿En qué casos podría usar un mecanismo u el otro?"
      ]
    },
    {
      "cell_type": "markdown",
      "metadata": {
        "id": "KKV9AA4ZQHnu"
      },
      "source": [
        "# Formas de uso\n",
        "\n",
        "- Entregar una interfaz de acceso a los datos con mecanismos, y un \"budget\" de cantidad de consultas a realizar. (¿Por qué es necesario un budget?)\n",
        "\n",
        "- Aplicar mecanismos a los datos y liberar el dataset con privacidad diferencial."
      ]
    },
    {
      "cell_type": "markdown",
      "metadata": {
        "id": "rfVAEYXEM3Uu"
      },
      "source": [
        "# Clasificación con DP"
      ]
    },
    {
      "cell_type": "markdown",
      "metadata": {
        "id": "hPBuhcygNAkZ"
      },
      "source": [
        "Usaremos la implementación de IBM https://github.com/IBM/differential-privacy-library"
      ]
    },
    {
      "cell_type": "code",
      "metadata": {
        "id": "o7AYYV78NAyx"
      },
      "source": [
        "!pip install diffprivlib"
      ],
      "execution_count": null,
      "outputs": []
    },
    {
      "cell_type": "markdown",
      "metadata": {
        "id": "PE7AK6HXOvoc"
      },
      "source": [
        "## Cargar datos"
      ]
    },
    {
      "cell_type": "code",
      "metadata": {
        "id": "Ga1mIH-dJeba"
      },
      "source": [
        "import numpy as np\n",
        "import sklearn as sk\n",
        "from sklearn.pipeline import Pipeline\n",
        "\n",
        "from diffprivlib import models"
      ],
      "execution_count": null,
      "outputs": []
    },
    {
      "cell_type": "code",
      "metadata": {
        "id": "nL3ae4eXNDpN"
      },
      "source": [
        "X_train = np.loadtxt(\"https://archive.ics.uci.edu/ml/machine-learning-databases/adult/adult.data\",\n",
        "                        usecols=(0, 4, 10, 11, 12), delimiter=\", \")\n",
        "y_train = np.loadtxt(\"https://archive.ics.uci.edu/ml/machine-learning-databases/adult/adult.data\",\n",
        "                        usecols=14, dtype=str, delimiter=\", \")\n",
        "\n",
        "\n",
        "X_test = np.loadtxt(\"https://archive.ics.uci.edu/ml/machine-learning-databases/adult/adult.test\",\n",
        "                        usecols=(0, 4, 10, 11, 12), delimiter=\", \", skiprows=1)\n",
        "\n",
        "y_test = np.loadtxt(\"https://archive.ics.uci.edu/ml/machine-learning-databases/adult/adult.test\",\n",
        "                        usecols=14, dtype=str, delimiter=\", \", skiprows=1)\n",
        "\n",
        "# cada valor tiene un punto \".\" al final, por lo que se lo sacamos\n",
        "y_test = np.array([a[:-1] for a in y_test])"
      ],
      "execution_count": null,
      "outputs": []
    },
    {
      "cell_type": "markdown",
      "metadata": {
        "id": "uo8DzprROxmr"
      },
      "source": [
        "## Pipeline sin DP\n",
        "\n",
        "Aplicamos pre-procesamiento a los datos y luego entrenamos una regresión logística estándar:"
      ]
    },
    {
      "cell_type": "code",
      "metadata": {
        "id": "G6VHNMaoNHe_"
      },
      "source": [
        "# sin DP:\n",
        "\n",
        "pipe = Pipeline([\n",
        "    ('scaler', sk.preprocessing.StandardScaler()),\n",
        "    ('pca', sk.decomposition.PCA(2)),\n",
        "    ('lr', sk.linear_model.LogisticRegression(solver=\"lbfgs\"))\n",
        "])\n",
        "\n",
        "pipe.fit(X_train, y_train)\n",
        "baseline = pipe.score(X_test, y_test)\n",
        "print(\"Accuracy en test-set, sin DP:\", (baseline))"
      ],
      "execution_count": null,
      "outputs": []
    },
    {
      "cell_type": "markdown",
      "metadata": {
        "id": "Aqsr9U8yO48J"
      },
      "source": [
        "## Pipeline con DP\n",
        "\n",
        "La librería es compatible con sklearn, por lo que la interfaz es muy similar.\n",
        "\n",
        "Los hiperparámetros fueron elegidos a mano abajo, pero deben ser seleccionados idealmente en base a información no-privada del dataset (ver [ejemplos](https://github.com/IBM/differential-privacy-library/tree/main/notebooks) de la librería)"
      ]
    },
    {
      "cell_type": "code",
      "metadata": {
        "id": "y1hJxn3PNI7u"
      },
      "source": [
        "# con DP\n",
        "\n",
        "dp_pipe = Pipeline([\n",
        "    ('scaler', models.StandardScaler(bounds=([17, 1, 0, 0, 1], [90, 160, 10000, 4356, 99]))),\n",
        "    ('pca', models.PCA(2, data_norm=5, centered=True)),\n",
        "    ('lr', models.LogisticRegression(data_norm=5))\n",
        "])\n",
        "\n",
        "dp_pipe.fit(X_train, y_train)\n",
        "print(\"Accuracy en el test-set, con DP (epsilon=3):\", (dp_pipe.score(X_test, y_test)))"
      ],
      "execution_count": null,
      "outputs": []
    },
    {
      "cell_type": "code",
      "metadata": {
        "id": "-g4L4AvvNKWe"
      },
      "source": [
        "epsilons = np.logspace(-3, 0, 500)\n",
        "pipe_accuracy = []\n",
        "\n",
        "for epsilon in epsilons:\n",
        "    _eps = epsilon / 3\n",
        "    dp_pipe.set_params(scaler__epsilon=_eps, pca__epsilon=_eps, lr__epsilon=_eps)\n",
        "    \n",
        "    dp_pipe.fit(X_train, y_train)\n",
        "    pipe_accuracy.append(dp_pipe.score(X_test, y_test))"
      ],
      "execution_count": null,
      "outputs": []
    },
    {
      "cell_type": "code",
      "metadata": {
        "id": "M_lwgGiXNNh4"
      },
      "source": [
        "plt.semilogx(epsilons, pipe_accuracy, label=\"Pipeline con DP\", zorder=10)\n",
        "plt.plot(epsilons, np.ones_like(epsilons) * baseline, dashes=[2,2], label=\"Pipeline sin DP\", zorder=5)\n",
        "plt.title(\"Accuracy con DP\")\n",
        "plt.xlabel(\"epsilon\")\n",
        "plt.ylabel(\"Accuracy\")\n",
        "plt.ylim(0, 1)\n",
        "plt.xlim(epsilons[0], epsilons[-1])\n",
        "plt.legend(loc=4)\n",
        "plt.show()"
      ],
      "execution_count": null,
      "outputs": []
    },
    {
      "cell_type": "markdown",
      "metadata": {
        "id": "Z8kmQy9DPOaE"
      },
      "source": [
        "Podemos observar que a partir de $\\epsilon=0.1$ el accuracy comienza a estabilizarse alrededor del accuracy obtenido con los datos originales."
      ]
    },
    {
      "cell_type": "markdown",
      "metadata": {
        "id": "ble7d3JwTagn"
      },
      "source": [
        "# Referencias\n",
        "\n",
        "- Programming Differential Privacy book: https://uvm-plaid.github.io/programming-dp/intro.html\n",
        "- Differential Privacy library: https://github.com/IBM/differential-privacy-library/tree/main/notebooks\n",
        "- https://desfontain.es/privacy/k-anonymity.html"
      ]
    },
    {
      "cell_type": "code",
      "metadata": {
        "id": "mIGrIGzZTh2L"
      },
      "source": [
        ""
      ],
      "execution_count": null,
      "outputs": []
    }
  ]
}