{
  "nbformat": 4,
  "nbformat_minor": 0,
  "metadata": {
    "colab": {
      "name": "Tutorial Datos.ipynb",
      "provenance": [],
      "include_colab_link": true
    },
    "kernelspec": {
      "name": "python3",
      "display_name": "Python 3"
    },
    "language_info": {
      "name": "python"
    }
  },
  "cells": [
    {
      "cell_type": "markdown",
      "metadata": {
        "id": "view-in-github",
        "colab_type": "text"
      },
      "source": [
        "<a href=\"https://colab.research.google.com/github/ftempesta/Data-Science-Online/blob/master/Tutorial_Datos.ipynb\" target=\"_parent\"><img src=\"https://colab.research.google.com/assets/colab-badge.svg\" alt=\"Open In Colab\"/></a>"
      ]
    },
    {
      "cell_type": "markdown",
      "metadata": {
        "id": "0i1tISwj3469"
      },
      "source": [
        "# Introducción\n",
        "\n",
        "1. Haz una copia de este notebook en `File -> Save a copy in Drive`. Esto guardará el notebook bajo tu cuenta.\n",
        "\n",
        "2. Para ejecutar una celda, haz click en el ícono ▶️   al lado izquierdo de cada celda (donde aparecen los corchetes `[ ]`), o presiona Shift+Enter al posicionar el cursor en la celda.\n",
        "\n",
        "3. Puedes editar las celdas como quieras, pero cuidado con mantener el orden de la ejecución de tus celdas!"
      ]
    },
    {
      "cell_type": "code",
      "metadata": {
        "colab": {
          "base_uri": "https://localhost:8080/"
        },
        "id": "6v5G5zCY4a_q",
        "outputId": "4bfdb469-855f-4638-e0ba-835f86a5da64"
      },
      "source": [
        "# ejecuta esta celda\n",
        "print(\"Hola!\")"
      ],
      "execution_count": null,
      "outputs": [
        {
          "output_type": "stream",
          "text": [
            "Hola!\n"
          ],
          "name": "stdout"
        }
      ]
    },
    {
      "cell_type": "code",
      "metadata": {
        "id": "pPQmurXn6_Bd"
      },
      "source": [
        "# esto es un comentario, no se ejecuta"
      ],
      "execution_count": null,
      "outputs": []
    },
    {
      "cell_type": "code",
      "metadata": {
        "colab": {
          "base_uri": "https://localhost:8080/"
        },
        "id": "vvtqnCMB7Cdl",
        "outputId": "7f5d6f30-ca32-482e-ace0-3f8886990057"
      },
      "source": [
        "# la última variable que escribes en un bloque es la que se va a mostrar en el \"output\" de la celda\n",
        "x = 1\n",
        "y = 2\n",
        "\n",
        "x"
      ],
      "execution_count": null,
      "outputs": [
        {
          "output_type": "execute_result",
          "data": {
            "text/plain": [
              "1"
            ]
          },
          "metadata": {
            "tags": []
          },
          "execution_count": 11
        }
      ]
    },
    {
      "cell_type": "code",
      "metadata": {
        "colab": {
          "base_uri": "https://localhost:8080/"
        },
        "id": "PFLgisPJ7Kgp",
        "outputId": "3167e370-6da5-4643-d370-1121cbe64d53"
      },
      "source": [
        "# llamar a `print` no retorna nada, pero escribe en pantalla de todas maneras\n",
        "\n",
        "print(\"hola\")\n",
        "x"
      ],
      "execution_count": null,
      "outputs": [
        {
          "output_type": "stream",
          "text": [
            "hola\n"
          ],
          "name": "stdout"
        },
        {
          "output_type": "execute_result",
          "data": {
            "text/plain": [
              "1"
            ]
          },
          "metadata": {
            "tags": []
          },
          "execution_count": 12
        }
      ]
    },
    {
      "cell_type": "code",
      "metadata": {
        "id": "U2Xr5zgL4533"
      },
      "source": [
        "a = 1"
      ],
      "execution_count": null,
      "outputs": []
    },
    {
      "cell_type": "code",
      "metadata": {
        "colab": {
          "base_uri": "https://localhost:8080/"
        },
        "id": "_2R6IKwJ4q0D",
        "outputId": "bdf4ae7a-bf25-42f4-9885-4d560140d9f5"
      },
      "source": [
        "print(\"la variable `a` tiene el valor\", a)"
      ],
      "execution_count": null,
      "outputs": [
        {
          "output_type": "stream",
          "text": [
            "la variable `a` tiene el valor 1\n"
          ],
          "name": "stdout"
        }
      ]
    },
    {
      "cell_type": "code",
      "metadata": {
        "colab": {
          "base_uri": "https://localhost:8080/"
        },
        "id": "kfr_JsFH40Nk",
        "outputId": "1b8cb5cd-6bf1-4b28-f814-3bedbd144b3b"
      },
      "source": [
        "a = 5\n",
        "print(\"la variable `a` ahora tiene el valor\", a)"
      ],
      "execution_count": null,
      "outputs": [
        {
          "output_type": "stream",
          "text": [
            "la variable `a` ahora tiene el valor 5\n"
          ],
          "name": "stdout"
        }
      ]
    },
    {
      "cell_type": "markdown",
      "metadata": {
        "id": "fTokToak4d2t"
      },
      "source": [
        "# Manipulación de datos con Pandas\n",
        "\n",
        "Si no has usado Colab y pandas antes, tienes que instalar la librería. Para ello ejecuta el siguiente bloque:"
      ]
    },
    {
      "cell_type": "code",
      "metadata": {
        "id": "dXN_kQV65dBH"
      },
      "source": [
        "!pip install --upgrade pandas"
      ],
      "execution_count": null,
      "outputs": []
    },
    {
      "cell_type": "code",
      "metadata": {
        "id": "KkU3u8Ie2TeR"
      },
      "source": [
        "import pandas as pd"
      ],
      "execution_count": null,
      "outputs": []
    },
    {
      "cell_type": "code",
      "metadata": {
        "id": "L_bx725i2gJ5"
      },
      "source": [
        "# df es un DataFrame de pandas\n",
        "# pd.read_csv va a buscar el archivo csv, lo lee, y lo convierte en un DataFrame\n",
        "df = pd.read_csv('https://users.dcc.uchile.cl/~mquezada/diplomado-2018/accidentes-2010-2011.csv')\n",
        "\n",
        "df"
      ],
      "execution_count": null,
      "outputs": []
    },
    {
      "cell_type": "code",
      "metadata": {
        "id": "8OU9Nr1r2qb9"
      },
      "source": [
        "df.describe()"
      ],
      "execution_count": null,
      "outputs": []
    },
    {
      "cell_type": "markdown",
      "metadata": {
        "id": "cuLKEsOL6EJ3"
      },
      "source": [
        "## Series\n",
        "\n",
        "Una Series es un \"arreglo\" de pandas, que representa una secuencia de datos con un sólo atributo (un arreglo 1-dimensional).\n",
        "\n",
        "Podemos seleccionar columnas del DataFrame. Una columna es una Series."
      ]
    },
    {
      "cell_type": "code",
      "metadata": {
        "colab": {
          "base_uri": "https://localhost:8080/"
        },
        "id": "QHpsHG-G29Eb",
        "outputId": "8ef64025-625d-4a2a-f54b-70569dd018fe"
      },
      "source": [
        "df['Año']"
      ],
      "execution_count": null,
      "outputs": [
        {
          "output_type": "execute_result",
          "data": {
            "text/plain": [
              "0      2010\n",
              "1      2011\n",
              "2      2010\n",
              "3      2011\n",
              "4      2010\n",
              "       ... \n",
              "711    2011\n",
              "712    2010\n",
              "713    2011\n",
              "714    2010\n",
              "715    2011\n",
              "Name: Año, Length: 716, dtype: int64"
            ]
          },
          "metadata": {
            "tags": []
          },
          "execution_count": 4
        }
      ]
    },
    {
      "cell_type": "markdown",
      "metadata": {
        "id": "_U0YYJst6kyZ"
      },
      "source": [
        "Una Series tiene un *índice* y *valores*:"
      ]
    },
    {
      "cell_type": "code",
      "metadata": {
        "colab": {
          "base_uri": "https://localhost:8080/"
        },
        "id": "yJnIweGB6efE",
        "outputId": "dd14b8b6-dba5-41fb-8f0d-9da1996a4ec6"
      },
      "source": [
        "s = df['Atropello']\n",
        "s.index"
      ],
      "execution_count": null,
      "outputs": [
        {
          "output_type": "execute_result",
          "data": {
            "text/plain": [
              "RangeIndex(start=0, stop=716, step=1)"
            ]
          },
          "metadata": {
            "tags": []
          },
          "execution_count": 5
        }
      ]
    },
    {
      "cell_type": "code",
      "metadata": {
        "id": "oDRT8RUJ6roJ"
      },
      "source": [
        "s.values"
      ],
      "execution_count": null,
      "outputs": []
    },
    {
      "cell_type": "markdown",
      "metadata": {
        "id": "wbTUsWX-6-EZ"
      },
      "source": [
        "Un DataFrame también tiene un índice, pero además de valores, tiene *columnas*"
      ]
    },
    {
      "cell_type": "code",
      "metadata": {
        "colab": {
          "base_uri": "https://localhost:8080/"
        },
        "id": "t0Xm4LkM6t6M",
        "outputId": "1e4ad760-4fad-4608-c9d3-1ec91550ee02"
      },
      "source": [
        "df.index"
      ],
      "execution_count": null,
      "outputs": [
        {
          "output_type": "execute_result",
          "data": {
            "text/plain": [
              "RangeIndex(start=0, stop=716, step=1)"
            ]
          },
          "metadata": {
            "tags": []
          },
          "execution_count": 16
        }
      ]
    },
    {
      "cell_type": "code",
      "metadata": {
        "colab": {
          "base_uri": "https://localhost:8080/"
        },
        "id": "5Ad6v-eH6z5U",
        "outputId": "d52f15cf-bb69-4bbe-9930-fa261ca6f872"
      },
      "source": [
        "df.values"
      ],
      "execution_count": null,
      "outputs": [
        {
          "output_type": "execute_result",
          "data": {
            "text/plain": [
              "array([['Nacional', 'Nacional', 2010, ..., 4321, 41744, nan],\n",
              "       ['Nacional', 'Nacional', 2011, ..., 4454, 43034, nan],\n",
              "       ['Regional', 'XV Región Arica y Parinacota', 2010, ..., 70, 444,\n",
              "        nan],\n",
              "       ...,\n",
              "       ['Comunal', 'PADRE HURTADO', 2011, ..., 7, 87, nan],\n",
              "       ['Comunal', 'PENAFLOR', 2010, ..., 31, 249, nan],\n",
              "       ['Comunal', 'PENAFLOR', 2011, ..., 37, 298, nan]], dtype=object)"
            ]
          },
          "metadata": {
            "tags": []
          },
          "execution_count": 17
        }
      ]
    },
    {
      "cell_type": "code",
      "metadata": {
        "colab": {
          "base_uri": "https://localhost:8080/"
        },
        "id": "FcxiwgXY7pfq",
        "outputId": "ca05514d-709a-4f6d-e990-60c522ee752a"
      },
      "source": [
        "df.columns"
      ],
      "execution_count": null,
      "outputs": [
        {
          "output_type": "execute_result",
          "data": {
            "text/plain": [
              "Index(['Muestra', 'Descripcion Muestra', 'Año', 'Atropello', 'Caída',\n",
              "       'Colisión', 'Choque', 'Volcadura', 'Otros ', 'Muertos',\n",
              "       'Lesionados Graves', 'Lesionados Menos Graves', 'Lesionados Leves',\n",
              "       '(Incorporar Otra Columna Si es Necesario)'],\n",
              "      dtype='object')"
            ]
          },
          "metadata": {
            "tags": []
          },
          "execution_count": 18
        }
      ]
    },
    {
      "cell_type": "markdown",
      "metadata": {
        "id": "GeCBEKpm75TO"
      },
      "source": [
        "## Selección y filtros\n",
        "\n",
        "Para seleccionar más de una columna (es decir, para convertir el DataFrame en otro dataFrame), podemos usar doble [["
      ]
    },
    {
      "cell_type": "code",
      "metadata": {
        "colab": {
          "base_uri": "https://localhost:8080/",
          "height": 419
        },
        "id": "Vxdj6c1z7scN",
        "outputId": "f5aff744-285c-49ed-f842-d470c0194912"
      },
      "source": [
        "df[['Año', 'Atropello', 'Choque']]"
      ],
      "execution_count": null,
      "outputs": [
        {
          "output_type": "execute_result",
          "data": {
            "text/html": [
              "<div>\n",
              "<style scoped>\n",
              "    .dataframe tbody tr th:only-of-type {\n",
              "        vertical-align: middle;\n",
              "    }\n",
              "\n",
              "    .dataframe tbody tr th {\n",
              "        vertical-align: top;\n",
              "    }\n",
              "\n",
              "    .dataframe thead th {\n",
              "        text-align: right;\n",
              "    }\n",
              "</style>\n",
              "<table border=\"1\" class=\"dataframe\">\n",
              "  <thead>\n",
              "    <tr style=\"text-align: right;\">\n",
              "      <th></th>\n",
              "      <th>Año</th>\n",
              "      <th>Atropello</th>\n",
              "      <th>Choque</th>\n",
              "    </tr>\n",
              "  </thead>\n",
              "  <tbody>\n",
              "    <tr>\n",
              "      <th>0</th>\n",
              "      <td>2010</td>\n",
              "      <td>8247</td>\n",
              "      <td>14558</td>\n",
              "    </tr>\n",
              "    <tr>\n",
              "      <th>1</th>\n",
              "      <td>2011</td>\n",
              "      <td>8339</td>\n",
              "      <td>16312</td>\n",
              "    </tr>\n",
              "    <tr>\n",
              "      <th>2</th>\n",
              "      <td>2010</td>\n",
              "      <td>115</td>\n",
              "      <td>151</td>\n",
              "    </tr>\n",
              "    <tr>\n",
              "      <th>3</th>\n",
              "      <td>2011</td>\n",
              "      <td>159</td>\n",
              "      <td>342</td>\n",
              "    </tr>\n",
              "    <tr>\n",
              "      <th>4</th>\n",
              "      <td>2010</td>\n",
              "      <td>115</td>\n",
              "      <td>142</td>\n",
              "    </tr>\n",
              "    <tr>\n",
              "      <th>...</th>\n",
              "      <td>...</td>\n",
              "      <td>...</td>\n",
              "      <td>...</td>\n",
              "    </tr>\n",
              "    <tr>\n",
              "      <th>711</th>\n",
              "      <td>2011</td>\n",
              "      <td>17</td>\n",
              "      <td>11</td>\n",
              "    </tr>\n",
              "    <tr>\n",
              "      <th>712</th>\n",
              "      <td>2010</td>\n",
              "      <td>16</td>\n",
              "      <td>29</td>\n",
              "    </tr>\n",
              "    <tr>\n",
              "      <th>713</th>\n",
              "      <td>2011</td>\n",
              "      <td>11</td>\n",
              "      <td>9</td>\n",
              "    </tr>\n",
              "    <tr>\n",
              "      <th>714</th>\n",
              "      <td>2010</td>\n",
              "      <td>47</td>\n",
              "      <td>50</td>\n",
              "    </tr>\n",
              "    <tr>\n",
              "      <th>715</th>\n",
              "      <td>2011</td>\n",
              "      <td>63</td>\n",
              "      <td>29</td>\n",
              "    </tr>\n",
              "  </tbody>\n",
              "</table>\n",
              "<p>716 rows × 3 columns</p>\n",
              "</div>"
            ],
            "text/plain": [
              "      Año  Atropello  Choque\n",
              "0    2010       8247   14558\n",
              "1    2011       8339   16312\n",
              "2    2010        115     151\n",
              "3    2011        159     342\n",
              "4    2010        115     142\n",
              "..    ...        ...     ...\n",
              "711  2011         17      11\n",
              "712  2010         16      29\n",
              "713  2011         11       9\n",
              "714  2010         47      50\n",
              "715  2011         63      29\n",
              "\n",
              "[716 rows x 3 columns]"
            ]
          },
          "metadata": {
            "tags": []
          },
          "execution_count": 19
        }
      ]
    },
    {
      "cell_type": "markdown",
      "metadata": {
        "id": "BL07Rn2p8KC7"
      },
      "source": [
        "Si queremos seleccionar filas, podemos usar dos formas, por índice o por posición.\n",
        "\n",
        "### Por índice\n",
        "\n",
        "Ya vimos que un DataFrame y una Series tienen índice. Podemos usarlo para seleccionar filas:"
      ]
    },
    {
      "cell_type": "code",
      "metadata": {
        "colab": {
          "base_uri": "https://localhost:8080/"
        },
        "id": "aI5ilZSR8GOD",
        "outputId": "12f1ca1e-7a65-45e9-ea3c-7fd6a9daa057"
      },
      "source": [
        "# seleccionamos la fila cuyo valor del índice sea == 0\n",
        "# al usar [0, ] le decimos que nos devuelva todas las columnas\n",
        "\n",
        "df.loc[0, ]"
      ],
      "execution_count": null,
      "outputs": [
        {
          "output_type": "execute_result",
          "data": {
            "text/plain": [
              "Muestra                                      Nacional\n",
              "Descripcion Muestra                          Nacional\n",
              "Año                                              2010\n",
              "Atropello                                        8247\n",
              "Caída                                            1478\n",
              "Colisión                                        29127\n",
              "Choque                                          14558\n",
              "Volcadura                                        3629\n",
              "Otros                                             707\n",
              "Muertos                                          1595\n",
              "Lesionados Graves                                6899\n",
              "Lesionados Menos Graves                          4321\n",
              "Lesionados Leves                                41744\n",
              "(Incorporar Otra Columna Si es Necesario)         NaN\n",
              "Name: 0, dtype: object"
            ]
          },
          "metadata": {
            "tags": []
          },
          "execution_count": 26
        }
      ]
    },
    {
      "cell_type": "code",
      "metadata": {
        "colab": {
          "base_uri": "https://localhost:8080/"
        },
        "id": "lsI4dN1D8zxh",
        "outputId": "703aa86c-75e3-4d50-f2d7-50e7e430c71c"
      },
      "source": [
        "# no poner la coma es equivalente a elegir todas las columnas:\n",
        "\n",
        "df.loc[0]"
      ],
      "execution_count": null,
      "outputs": [
        {
          "output_type": "execute_result",
          "data": {
            "text/plain": [
              "Muestra                                      Nacional\n",
              "Descripcion Muestra                          Nacional\n",
              "Año                                              2010\n",
              "Atropello                                        8247\n",
              "Caída                                            1478\n",
              "Colisión                                        29127\n",
              "Choque                                          14558\n",
              "Volcadura                                        3629\n",
              "Otros                                             707\n",
              "Muertos                                          1595\n",
              "Lesionados Graves                                6899\n",
              "Lesionados Menos Graves                          4321\n",
              "Lesionados Leves                                41744\n",
              "(Incorporar Otra Columna Si es Necesario)         NaN\n",
              "Name: 0, dtype: object"
            ]
          },
          "metadata": {
            "tags": []
          },
          "execution_count": 27
        }
      ]
    },
    {
      "cell_type": "code",
      "metadata": {
        "colab": {
          "base_uri": "https://localhost:8080/"
        },
        "id": "vTvJrQ9y8cSE",
        "outputId": "1b5036ba-6fdd-4ce9-81ac-b6739c9624ba"
      },
      "source": [
        "df.loc[300, 'Año']"
      ],
      "execution_count": null,
      "outputs": [
        {
          "output_type": "execute_result",
          "data": {
            "text/plain": [
              "2010"
            ]
          },
          "metadata": {
            "tags": []
          },
          "execution_count": 22
        }
      ]
    },
    {
      "cell_type": "code",
      "metadata": {
        "colab": {
          "base_uri": "https://localhost:8080/"
        },
        "id": "0aoBfOw68nug",
        "outputId": "5f849bd6-1b9b-48a7-f165-060b02a7637b"
      },
      "source": [
        "df.loc[300, ['Año', 'Descripcion Muestra']]"
      ],
      "execution_count": null,
      "outputs": [
        {
          "output_type": "execute_result",
          "data": {
            "text/plain": [
              "Año                          2010\n",
              "Descripcion Muestra    SAN JAVIER\n",
              "Name: 300, dtype: object"
            ]
          },
          "metadata": {
            "tags": []
          },
          "execution_count": 23
        }
      ]
    },
    {
      "cell_type": "markdown",
      "metadata": {
        "id": "mckMiFt18tM6"
      },
      "source": [
        "### Por posición\n",
        "\n",
        "`iloc` nos permite seleccionar por la posición en la tabla:"
      ]
    },
    {
      "cell_type": "code",
      "metadata": {
        "colab": {
          "base_uri": "https://localhost:8080/"
        },
        "id": "RjJ5rSdO8rjc",
        "outputId": "a8d0d0a6-b05a-4dc3-c6c8-55b8587a9631"
      },
      "source": [
        "df.iloc[0, ]"
      ],
      "execution_count": null,
      "outputs": [
        {
          "output_type": "execute_result",
          "data": {
            "text/plain": [
              "Muestra                                      Nacional\n",
              "Descripcion Muestra                          Nacional\n",
              "Año                                              2010\n",
              "Atropello                                        8247\n",
              "Caída                                            1478\n",
              "Colisión                                        29127\n",
              "Choque                                          14558\n",
              "Volcadura                                        3629\n",
              "Otros                                             707\n",
              "Muertos                                          1595\n",
              "Lesionados Graves                                6899\n",
              "Lesionados Menos Graves                          4321\n",
              "Lesionados Leves                                41744\n",
              "(Incorporar Otra Columna Si es Necesario)         NaN\n",
              "Name: 0, dtype: object"
            ]
          },
          "metadata": {
            "tags": []
          },
          "execution_count": 25
        }
      ]
    },
    {
      "cell_type": "markdown",
      "metadata": {
        "id": "XUIsLXo685eJ"
      },
      "source": [
        "¿Cuál es la diferencia?\n",
        "\n",
        "Si decidimos *alterar* el índice, el índice y la posición ya no serán iguales.\n",
        "\n",
        "Por ejemplo, podemos filtrar no sólo por el valor del índice, sino que también por alguna condición en las columnas:"
      ]
    },
    {
      "cell_type": "code",
      "metadata": {
        "colab": {
          "base_uri": "https://localhost:8080/",
          "height": 419
        },
        "id": "mDevW9PS8x--",
        "outputId": "7014eb40-e292-4dc1-f647-703851265e8a"
      },
      "source": [
        "# todas las filas cuyo valor de \"Año\" sea 2010\n",
        "# el índice se **preserva**\n",
        "df.loc[df['Año'] == 2010]"
      ],
      "execution_count": null,
      "outputs": [
        {
          "output_type": "execute_result",
          "data": {
            "text/html": [
              "<div>\n",
              "<style scoped>\n",
              "    .dataframe tbody tr th:only-of-type {\n",
              "        vertical-align: middle;\n",
              "    }\n",
              "\n",
              "    .dataframe tbody tr th {\n",
              "        vertical-align: top;\n",
              "    }\n",
              "\n",
              "    .dataframe thead th {\n",
              "        text-align: right;\n",
              "    }\n",
              "</style>\n",
              "<table border=\"1\" class=\"dataframe\">\n",
              "  <thead>\n",
              "    <tr style=\"text-align: right;\">\n",
              "      <th></th>\n",
              "      <th>Muestra</th>\n",
              "      <th>Descripcion Muestra</th>\n",
              "      <th>Año</th>\n",
              "      <th>Atropello</th>\n",
              "      <th>Caída</th>\n",
              "      <th>Colisión</th>\n",
              "      <th>Choque</th>\n",
              "      <th>Volcadura</th>\n",
              "      <th>Otros</th>\n",
              "      <th>Muertos</th>\n",
              "      <th>Lesionados Graves</th>\n",
              "      <th>Lesionados Menos Graves</th>\n",
              "      <th>Lesionados Leves</th>\n",
              "      <th>(Incorporar Otra Columna Si es Necesario)</th>\n",
              "    </tr>\n",
              "  </thead>\n",
              "  <tbody>\n",
              "    <tr>\n",
              "      <th>0</th>\n",
              "      <td>Nacional</td>\n",
              "      <td>Nacional</td>\n",
              "      <td>2010</td>\n",
              "      <td>8247</td>\n",
              "      <td>1478</td>\n",
              "      <td>29127</td>\n",
              "      <td>14558</td>\n",
              "      <td>3629</td>\n",
              "      <td>707</td>\n",
              "      <td>1595</td>\n",
              "      <td>6899</td>\n",
              "      <td>4321</td>\n",
              "      <td>41744</td>\n",
              "      <td>NaN</td>\n",
              "    </tr>\n",
              "    <tr>\n",
              "      <th>2</th>\n",
              "      <td>Regional</td>\n",
              "      <td>XV Región Arica y Parinacota</td>\n",
              "      <td>2010</td>\n",
              "      <td>115</td>\n",
              "      <td>6</td>\n",
              "      <td>265</td>\n",
              "      <td>151</td>\n",
              "      <td>55</td>\n",
              "      <td>6</td>\n",
              "      <td>28</td>\n",
              "      <td>87</td>\n",
              "      <td>70</td>\n",
              "      <td>444</td>\n",
              "      <td>NaN</td>\n",
              "    </tr>\n",
              "    <tr>\n",
              "      <th>4</th>\n",
              "      <td>Comunal</td>\n",
              "      <td>ARICA</td>\n",
              "      <td>2010</td>\n",
              "      <td>115</td>\n",
              "      <td>6</td>\n",
              "      <td>259</td>\n",
              "      <td>142</td>\n",
              "      <td>24</td>\n",
              "      <td>4</td>\n",
              "      <td>24</td>\n",
              "      <td>75</td>\n",
              "      <td>64</td>\n",
              "      <td>407</td>\n",
              "      <td>NaN</td>\n",
              "    </tr>\n",
              "    <tr>\n",
              "      <th>6</th>\n",
              "      <td>Comunal</td>\n",
              "      <td>CAMARONES</td>\n",
              "      <td>2010</td>\n",
              "      <td>0</td>\n",
              "      <td>0</td>\n",
              "      <td>2</td>\n",
              "      <td>4</td>\n",
              "      <td>5</td>\n",
              "      <td>0</td>\n",
              "      <td>2</td>\n",
              "      <td>4</td>\n",
              "      <td>3</td>\n",
              "      <td>5</td>\n",
              "      <td>NaN</td>\n",
              "    </tr>\n",
              "    <tr>\n",
              "      <th>8</th>\n",
              "      <td>Comunal</td>\n",
              "      <td>PUTRE</td>\n",
              "      <td>2010</td>\n",
              "      <td>0</td>\n",
              "      <td>0</td>\n",
              "      <td>4</td>\n",
              "      <td>5</td>\n",
              "      <td>26</td>\n",
              "      <td>2</td>\n",
              "      <td>2</td>\n",
              "      <td>8</td>\n",
              "      <td>3</td>\n",
              "      <td>32</td>\n",
              "      <td>NaN</td>\n",
              "    </tr>\n",
              "    <tr>\n",
              "      <th>...</th>\n",
              "      <td>...</td>\n",
              "      <td>...</td>\n",
              "      <td>...</td>\n",
              "      <td>...</td>\n",
              "      <td>...</td>\n",
              "      <td>...</td>\n",
              "      <td>...</td>\n",
              "      <td>...</td>\n",
              "      <td>...</td>\n",
              "      <td>...</td>\n",
              "      <td>...</td>\n",
              "      <td>...</td>\n",
              "      <td>...</td>\n",
              "      <td>...</td>\n",
              "    </tr>\n",
              "    <tr>\n",
              "      <th>706</th>\n",
              "      <td>Comunal</td>\n",
              "      <td>TALAGANTE</td>\n",
              "      <td>2010</td>\n",
              "      <td>46</td>\n",
              "      <td>15</td>\n",
              "      <td>116</td>\n",
              "      <td>77</td>\n",
              "      <td>18</td>\n",
              "      <td>4</td>\n",
              "      <td>31</td>\n",
              "      <td>59</td>\n",
              "      <td>27</td>\n",
              "      <td>279</td>\n",
              "      <td>NaN</td>\n",
              "    </tr>\n",
              "    <tr>\n",
              "      <th>708</th>\n",
              "      <td>Comunal</td>\n",
              "      <td>EL MONTE</td>\n",
              "      <td>2010</td>\n",
              "      <td>21</td>\n",
              "      <td>5</td>\n",
              "      <td>37</td>\n",
              "      <td>15</td>\n",
              "      <td>3</td>\n",
              "      <td>2</td>\n",
              "      <td>3</td>\n",
              "      <td>12</td>\n",
              "      <td>14</td>\n",
              "      <td>86</td>\n",
              "      <td>NaN</td>\n",
              "    </tr>\n",
              "    <tr>\n",
              "      <th>710</th>\n",
              "      <td>Comunal</td>\n",
              "      <td>ISLA DE MAIPO</td>\n",
              "      <td>2010</td>\n",
              "      <td>11</td>\n",
              "      <td>4</td>\n",
              "      <td>58</td>\n",
              "      <td>20</td>\n",
              "      <td>6</td>\n",
              "      <td>2</td>\n",
              "      <td>3</td>\n",
              "      <td>15</td>\n",
              "      <td>12</td>\n",
              "      <td>112</td>\n",
              "      <td>NaN</td>\n",
              "    </tr>\n",
              "    <tr>\n",
              "      <th>712</th>\n",
              "      <td>Comunal</td>\n",
              "      <td>PADRE HURTADO</td>\n",
              "      <td>2010</td>\n",
              "      <td>16</td>\n",
              "      <td>13</td>\n",
              "      <td>36</td>\n",
              "      <td>29</td>\n",
              "      <td>4</td>\n",
              "      <td>1</td>\n",
              "      <td>1</td>\n",
              "      <td>7</td>\n",
              "      <td>10</td>\n",
              "      <td>98</td>\n",
              "      <td>NaN</td>\n",
              "    </tr>\n",
              "    <tr>\n",
              "      <th>714</th>\n",
              "      <td>Comunal</td>\n",
              "      <td>PENAFLOR</td>\n",
              "      <td>2010</td>\n",
              "      <td>47</td>\n",
              "      <td>16</td>\n",
              "      <td>141</td>\n",
              "      <td>50</td>\n",
              "      <td>9</td>\n",
              "      <td>5</td>\n",
              "      <td>5</td>\n",
              "      <td>26</td>\n",
              "      <td>31</td>\n",
              "      <td>249</td>\n",
              "      <td>NaN</td>\n",
              "    </tr>\n",
              "  </tbody>\n",
              "</table>\n",
              "<p>358 rows × 14 columns</p>\n",
              "</div>"
            ],
            "text/plain": [
              "      Muestra  ... (Incorporar Otra Columna Si es Necesario)\n",
              "0    Nacional  ...                                       NaN\n",
              "2    Regional  ...                                       NaN\n",
              "4     Comunal  ...                                       NaN\n",
              "6     Comunal  ...                                       NaN\n",
              "8     Comunal  ...                                       NaN\n",
              "..        ...  ...                                       ...\n",
              "706   Comunal  ...                                       NaN\n",
              "708   Comunal  ...                                       NaN\n",
              "710   Comunal  ...                                       NaN\n",
              "712   Comunal  ...                                       NaN\n",
              "714   Comunal  ...                                       NaN\n",
              "\n",
              "[358 rows x 14 columns]"
            ]
          },
          "metadata": {
            "tags": []
          },
          "execution_count": 28
        }
      ]
    },
    {
      "cell_type": "code",
      "metadata": {
        "colab": {
          "base_uri": "https://localhost:8080/"
        },
        "id": "OkC-0PmY9FPS",
        "outputId": "d617fd1d-4997-4120-ca79-1051c5e03f1f"
      },
      "source": [
        "a2010 = df.loc[df['Año'] == 2010]\n",
        "\n",
        "#a2010.loc[0]\n",
        "#a2010.loc[1]\n",
        "#a2010.iloc[0]\n",
        "#a2010.iloc[1]"
      ],
      "execution_count": null,
      "outputs": [
        {
          "output_type": "execute_result",
          "data": {
            "text/plain": [
              "Muestra                                                          Regional\n",
              "Descripcion Muestra                          XV Región Arica y Parinacota\n",
              "Año                                                                  2010\n",
              "Atropello                                                             115\n",
              "Caída                                                                   6\n",
              "Colisión                                                              265\n",
              "Choque                                                                151\n",
              "Volcadura                                                              55\n",
              "Otros                                                                   6\n",
              "Muertos                                                                28\n",
              "Lesionados Graves                                                      87\n",
              "Lesionados Menos Graves                                                70\n",
              "Lesionados Leves                                                      444\n",
              "(Incorporar Otra Columna Si es Necesario)                             NaN\n",
              "Name: 2, dtype: object"
            ]
          },
          "metadata": {
            "tags": []
          },
          "execution_count": 31
        }
      ]
    },
    {
      "cell_type": "code",
      "metadata": {
        "colab": {
          "base_uri": "https://localhost:8080/",
          "height": 1000
        },
        "id": "wa4WzyLs9OVV",
        "outputId": "3015b804-de35-4265-8def-7454906995da"
      },
      "source": [
        "## más filtros:\n",
        "\n",
        "# para hacer un AND de las condiciones (ej. año 2010 y muestra Nacional),\n",
        "# se usa & (ampersand o et)\n",
        "# **siempre** encerrar cada condición entre paréntesis\n",
        "df.loc[(df['Año'] == 2010) & (df['Muestra'] == 'Nacional')]\n",
        "\n",
        "# para hacer un OR se ocupa el símbolo | (pipe o tubería)\n",
        "df.loc[(df['Atropello'] < 10) | (df['Muertos'] < 5)]\n",
        "\n",
        "# desigual (!=), mayor o igual (>=), menor o igual (<=), mayor (>), menor (<)\n",
        "df.loc[df['Muestra'] != 'Comunal']"
      ],
      "execution_count": null,
      "outputs": [
        {
          "output_type": "execute_result",
          "data": {
            "text/html": [
              "<div>\n",
              "<style scoped>\n",
              "    .dataframe tbody tr th:only-of-type {\n",
              "        vertical-align: middle;\n",
              "    }\n",
              "\n",
              "    .dataframe tbody tr th {\n",
              "        vertical-align: top;\n",
              "    }\n",
              "\n",
              "    .dataframe thead th {\n",
              "        text-align: right;\n",
              "    }\n",
              "</style>\n",
              "<table border=\"1\" class=\"dataframe\">\n",
              "  <thead>\n",
              "    <tr style=\"text-align: right;\">\n",
              "      <th></th>\n",
              "      <th>Muestra</th>\n",
              "      <th>Descripcion Muestra</th>\n",
              "      <th>Año</th>\n",
              "      <th>Atropello</th>\n",
              "      <th>Caída</th>\n",
              "      <th>Colisión</th>\n",
              "      <th>Choque</th>\n",
              "      <th>Volcadura</th>\n",
              "      <th>Otros</th>\n",
              "      <th>Muertos</th>\n",
              "      <th>Lesionados Graves</th>\n",
              "      <th>Lesionados Menos Graves</th>\n",
              "      <th>Lesionados Leves</th>\n",
              "      <th>(Incorporar Otra Columna Si es Necesario)</th>\n",
              "    </tr>\n",
              "  </thead>\n",
              "  <tbody>\n",
              "    <tr>\n",
              "      <th>0</th>\n",
              "      <td>Nacional</td>\n",
              "      <td>Nacional</td>\n",
              "      <td>2010</td>\n",
              "      <td>8247</td>\n",
              "      <td>1478</td>\n",
              "      <td>29127</td>\n",
              "      <td>14558</td>\n",
              "      <td>3629</td>\n",
              "      <td>707</td>\n",
              "      <td>1595</td>\n",
              "      <td>6899</td>\n",
              "      <td>4321</td>\n",
              "      <td>41744</td>\n",
              "      <td>NaN</td>\n",
              "    </tr>\n",
              "    <tr>\n",
              "      <th>1</th>\n",
              "      <td>Nacional</td>\n",
              "      <td>Nacional</td>\n",
              "      <td>2011</td>\n",
              "      <td>8339</td>\n",
              "      <td>1488</td>\n",
              "      <td>31487</td>\n",
              "      <td>16312</td>\n",
              "      <td>3985</td>\n",
              "      <td>1223</td>\n",
              "      <td>1573</td>\n",
              "      <td>6724</td>\n",
              "      <td>4454</td>\n",
              "      <td>43034</td>\n",
              "      <td>NaN</td>\n",
              "    </tr>\n",
              "    <tr>\n",
              "      <th>2</th>\n",
              "      <td>Regional</td>\n",
              "      <td>XV Región Arica y Parinacota</td>\n",
              "      <td>2010</td>\n",
              "      <td>115</td>\n",
              "      <td>6</td>\n",
              "      <td>265</td>\n",
              "      <td>151</td>\n",
              "      <td>55</td>\n",
              "      <td>6</td>\n",
              "      <td>28</td>\n",
              "      <td>87</td>\n",
              "      <td>70</td>\n",
              "      <td>444</td>\n",
              "      <td>NaN</td>\n",
              "    </tr>\n",
              "    <tr>\n",
              "      <th>3</th>\n",
              "      <td>Regional</td>\n",
              "      <td>XV Región Arica y Parinacota</td>\n",
              "      <td>2011</td>\n",
              "      <td>159</td>\n",
              "      <td>13</td>\n",
              "      <td>426</td>\n",
              "      <td>342</td>\n",
              "      <td>68</td>\n",
              "      <td>10</td>\n",
              "      <td>33</td>\n",
              "      <td>99</td>\n",
              "      <td>80</td>\n",
              "      <td>679</td>\n",
              "      <td>NaN</td>\n",
              "    </tr>\n",
              "    <tr>\n",
              "      <th>12</th>\n",
              "      <td>Regional</td>\n",
              "      <td>I Región de Tarapacá</td>\n",
              "      <td>2010</td>\n",
              "      <td>168</td>\n",
              "      <td>6</td>\n",
              "      <td>397</td>\n",
              "      <td>134</td>\n",
              "      <td>158</td>\n",
              "      <td>7</td>\n",
              "      <td>32</td>\n",
              "      <td>142</td>\n",
              "      <td>110</td>\n",
              "      <td>957</td>\n",
              "      <td>NaN</td>\n",
              "    </tr>\n",
              "    <tr>\n",
              "      <th>13</th>\n",
              "      <td>Regional</td>\n",
              "      <td>I Región de Tarapacá</td>\n",
              "      <td>2011</td>\n",
              "      <td>202</td>\n",
              "      <td>13</td>\n",
              "      <td>416</td>\n",
              "      <td>231</td>\n",
              "      <td>134</td>\n",
              "      <td>4</td>\n",
              "      <td>56</td>\n",
              "      <td>153</td>\n",
              "      <td>119</td>\n",
              "      <td>869</td>\n",
              "      <td>NaN</td>\n",
              "    </tr>\n",
              "    <tr>\n",
              "      <th>28</th>\n",
              "      <td>Regional</td>\n",
              "      <td>II Región de Antofagasta</td>\n",
              "      <td>2010</td>\n",
              "      <td>290</td>\n",
              "      <td>32</td>\n",
              "      <td>949</td>\n",
              "      <td>454</td>\n",
              "      <td>199</td>\n",
              "      <td>14</td>\n",
              "      <td>67</td>\n",
              "      <td>250</td>\n",
              "      <td>154</td>\n",
              "      <td>1883</td>\n",
              "      <td>NaN</td>\n",
              "    </tr>\n",
              "    <tr>\n",
              "      <th>29</th>\n",
              "      <td>Regional</td>\n",
              "      <td>II Región de Antofagasta</td>\n",
              "      <td>2011</td>\n",
              "      <td>280</td>\n",
              "      <td>57</td>\n",
              "      <td>1118</td>\n",
              "      <td>506</td>\n",
              "      <td>206</td>\n",
              "      <td>19</td>\n",
              "      <td>87</td>\n",
              "      <td>260</td>\n",
              "      <td>146</td>\n",
              "      <td>1851</td>\n",
              "      <td>NaN</td>\n",
              "    </tr>\n",
              "    <tr>\n",
              "      <th>48</th>\n",
              "      <td>Regional</td>\n",
              "      <td>III Región de Atacama</td>\n",
              "      <td>2010</td>\n",
              "      <td>91</td>\n",
              "      <td>6</td>\n",
              "      <td>274</td>\n",
              "      <td>141</td>\n",
              "      <td>124</td>\n",
              "      <td>13</td>\n",
              "      <td>26</td>\n",
              "      <td>131</td>\n",
              "      <td>78</td>\n",
              "      <td>725</td>\n",
              "      <td>NaN</td>\n",
              "    </tr>\n",
              "    <tr>\n",
              "      <th>49</th>\n",
              "      <td>Regional</td>\n",
              "      <td>III Región de Atacama</td>\n",
              "      <td>2011</td>\n",
              "      <td>113</td>\n",
              "      <td>4</td>\n",
              "      <td>326</td>\n",
              "      <td>156</td>\n",
              "      <td>161</td>\n",
              "      <td>10</td>\n",
              "      <td>53</td>\n",
              "      <td>127</td>\n",
              "      <td>89</td>\n",
              "      <td>925</td>\n",
              "      <td>NaN</td>\n",
              "    </tr>\n",
              "    <tr>\n",
              "      <th>68</th>\n",
              "      <td>Regional</td>\n",
              "      <td>IV Región de Coquimbo</td>\n",
              "      <td>2010</td>\n",
              "      <td>241</td>\n",
              "      <td>22</td>\n",
              "      <td>891</td>\n",
              "      <td>560</td>\n",
              "      <td>213</td>\n",
              "      <td>20</td>\n",
              "      <td>75</td>\n",
              "      <td>317</td>\n",
              "      <td>224</td>\n",
              "      <td>2016</td>\n",
              "      <td>NaN</td>\n",
              "    </tr>\n",
              "    <tr>\n",
              "      <th>69</th>\n",
              "      <td>Regional</td>\n",
              "      <td>IV Región de Coquimbo</td>\n",
              "      <td>2011</td>\n",
              "      <td>228</td>\n",
              "      <td>17</td>\n",
              "      <td>1016</td>\n",
              "      <td>790</td>\n",
              "      <td>218</td>\n",
              "      <td>24</td>\n",
              "      <td>73</td>\n",
              "      <td>263</td>\n",
              "      <td>197</td>\n",
              "      <td>1969</td>\n",
              "      <td>NaN</td>\n",
              "    </tr>\n",
              "    <tr>\n",
              "      <th>100</th>\n",
              "      <td>Regional</td>\n",
              "      <td>V Región de Valparaíso</td>\n",
              "      <td>2010</td>\n",
              "      <td>931</td>\n",
              "      <td>153</td>\n",
              "      <td>3122</td>\n",
              "      <td>2301</td>\n",
              "      <td>402</td>\n",
              "      <td>114</td>\n",
              "      <td>134</td>\n",
              "      <td>785</td>\n",
              "      <td>441</td>\n",
              "      <td>5196</td>\n",
              "      <td>NaN</td>\n",
              "    </tr>\n",
              "    <tr>\n",
              "      <th>101</th>\n",
              "      <td>Regional</td>\n",
              "      <td>V Región de Valparaíso</td>\n",
              "      <td>2011</td>\n",
              "      <td>918</td>\n",
              "      <td>174</td>\n",
              "      <td>3622</td>\n",
              "      <td>2474</td>\n",
              "      <td>415</td>\n",
              "      <td>121</td>\n",
              "      <td>151</td>\n",
              "      <td>746</td>\n",
              "      <td>499</td>\n",
              "      <td>5459</td>\n",
              "      <td>NaN</td>\n",
              "    </tr>\n",
              "    <tr>\n",
              "      <th>176</th>\n",
              "      <td>Regional</td>\n",
              "      <td>VI Región del Lib. Bdo. O´Higgins</td>\n",
              "      <td>2010</td>\n",
              "      <td>404</td>\n",
              "      <td>49</td>\n",
              "      <td>1654</td>\n",
              "      <td>1026</td>\n",
              "      <td>239</td>\n",
              "      <td>36</td>\n",
              "      <td>134</td>\n",
              "      <td>429</td>\n",
              "      <td>361</td>\n",
              "      <td>2195</td>\n",
              "      <td>NaN</td>\n",
              "    </tr>\n",
              "    <tr>\n",
              "      <th>177</th>\n",
              "      <td>Regional</td>\n",
              "      <td>VI Región del Lib. Bdo. O´Higgins</td>\n",
              "      <td>2011</td>\n",
              "      <td>371</td>\n",
              "      <td>32</td>\n",
              "      <td>1832</td>\n",
              "      <td>1022</td>\n",
              "      <td>234</td>\n",
              "      <td>51</td>\n",
              "      <td>135</td>\n",
              "      <td>389</td>\n",
              "      <td>305</td>\n",
              "      <td>2099</td>\n",
              "      <td>NaN</td>\n",
              "    </tr>\n",
              "    <tr>\n",
              "      <th>244</th>\n",
              "      <td>Regional</td>\n",
              "      <td>VII Región del Maule</td>\n",
              "      <td>2010</td>\n",
              "      <td>501</td>\n",
              "      <td>60</td>\n",
              "      <td>2278</td>\n",
              "      <td>1308</td>\n",
              "      <td>344</td>\n",
              "      <td>50</td>\n",
              "      <td>165</td>\n",
              "      <td>490</td>\n",
              "      <td>340</td>\n",
              "      <td>2827</td>\n",
              "      <td>NaN</td>\n",
              "    </tr>\n",
              "    <tr>\n",
              "      <th>245</th>\n",
              "      <td>Regional</td>\n",
              "      <td>VII Región del Maule</td>\n",
              "      <td>2011</td>\n",
              "      <td>447</td>\n",
              "      <td>46</td>\n",
              "      <td>2288</td>\n",
              "      <td>1251</td>\n",
              "      <td>297</td>\n",
              "      <td>61</td>\n",
              "      <td>148</td>\n",
              "      <td>440</td>\n",
              "      <td>298</td>\n",
              "      <td>2892</td>\n",
              "      <td>NaN</td>\n",
              "    </tr>\n",
              "    <tr>\n",
              "      <th>306</th>\n",
              "      <td>Regional</td>\n",
              "      <td>VIII Región del Bio-Bio</td>\n",
              "      <td>2010</td>\n",
              "      <td>1169</td>\n",
              "      <td>164</td>\n",
              "      <td>2753</td>\n",
              "      <td>1435</td>\n",
              "      <td>528</td>\n",
              "      <td>79</td>\n",
              "      <td>230</td>\n",
              "      <td>1056</td>\n",
              "      <td>680</td>\n",
              "      <td>5856</td>\n",
              "      <td>NaN</td>\n",
              "    </tr>\n",
              "    <tr>\n",
              "      <th>307</th>\n",
              "      <td>Regional</td>\n",
              "      <td>VII Región del Bio-Bio</td>\n",
              "      <td>2011</td>\n",
              "      <td>1224</td>\n",
              "      <td>163</td>\n",
              "      <td>2874</td>\n",
              "      <td>1622</td>\n",
              "      <td>696</td>\n",
              "      <td>64</td>\n",
              "      <td>205</td>\n",
              "      <td>1063</td>\n",
              "      <td>676</td>\n",
              "      <td>6397</td>\n",
              "      <td>NaN</td>\n",
              "    </tr>\n",
              "    <tr>\n",
              "      <th>416</th>\n",
              "      <td>Regional</td>\n",
              "      <td>IX Región de la Araucanía</td>\n",
              "      <td>2010</td>\n",
              "      <td>487</td>\n",
              "      <td>64</td>\n",
              "      <td>1748</td>\n",
              "      <td>849</td>\n",
              "      <td>335</td>\n",
              "      <td>31</td>\n",
              "      <td>130</td>\n",
              "      <td>522</td>\n",
              "      <td>278</td>\n",
              "      <td>2692</td>\n",
              "      <td>NaN</td>\n",
              "    </tr>\n",
              "    <tr>\n",
              "      <th>417</th>\n",
              "      <td>Regional</td>\n",
              "      <td>IX Región de la Araucanía</td>\n",
              "      <td>2011</td>\n",
              "      <td>519</td>\n",
              "      <td>60</td>\n",
              "      <td>1927</td>\n",
              "      <td>1092</td>\n",
              "      <td>351</td>\n",
              "      <td>36</td>\n",
              "      <td>109</td>\n",
              "      <td>427</td>\n",
              "      <td>333</td>\n",
              "      <td>2758</td>\n",
              "      <td>NaN</td>\n",
              "    </tr>\n",
              "    <tr>\n",
              "      <th>482</th>\n",
              "      <td>Regional</td>\n",
              "      <td>XIV Región de Los Ríos</td>\n",
              "      <td>2010</td>\n",
              "      <td>251</td>\n",
              "      <td>18</td>\n",
              "      <td>423</td>\n",
              "      <td>176</td>\n",
              "      <td>113</td>\n",
              "      <td>12</td>\n",
              "      <td>35</td>\n",
              "      <td>152</td>\n",
              "      <td>141</td>\n",
              "      <td>1084</td>\n",
              "      <td>NaN</td>\n",
              "    </tr>\n",
              "    <tr>\n",
              "      <th>483</th>\n",
              "      <td>Regional</td>\n",
              "      <td>XIV Región de Los Ríos</td>\n",
              "      <td>2011</td>\n",
              "      <td>192</td>\n",
              "      <td>14</td>\n",
              "      <td>612</td>\n",
              "      <td>235</td>\n",
              "      <td>125</td>\n",
              "      <td>2</td>\n",
              "      <td>40</td>\n",
              "      <td>142</td>\n",
              "      <td>174</td>\n",
              "      <td>1192</td>\n",
              "      <td>NaN</td>\n",
              "    </tr>\n",
              "    <tr>\n",
              "      <th>508</th>\n",
              "      <td>Regional</td>\n",
              "      <td>X Región de Los Lagos</td>\n",
              "      <td>2010</td>\n",
              "      <td>544</td>\n",
              "      <td>36</td>\n",
              "      <td>1082</td>\n",
              "      <td>638</td>\n",
              "      <td>250</td>\n",
              "      <td>35</td>\n",
              "      <td>96</td>\n",
              "      <td>384</td>\n",
              "      <td>228</td>\n",
              "      <td>2279</td>\n",
              "      <td>NaN</td>\n",
              "    </tr>\n",
              "    <tr>\n",
              "      <th>509</th>\n",
              "      <td>Regional</td>\n",
              "      <td>X Región de Los Lagos</td>\n",
              "      <td>2011</td>\n",
              "      <td>572</td>\n",
              "      <td>29</td>\n",
              "      <td>1296</td>\n",
              "      <td>740</td>\n",
              "      <td>280</td>\n",
              "      <td>48</td>\n",
              "      <td>85</td>\n",
              "      <td>418</td>\n",
              "      <td>251</td>\n",
              "      <td>2332</td>\n",
              "      <td>NaN</td>\n",
              "    </tr>\n",
              "    <tr>\n",
              "      <th>570</th>\n",
              "      <td>Regional</td>\n",
              "      <td>XI Región de Aysén</td>\n",
              "      <td>2010</td>\n",
              "      <td>96</td>\n",
              "      <td>3</td>\n",
              "      <td>249</td>\n",
              "      <td>188</td>\n",
              "      <td>78</td>\n",
              "      <td>4</td>\n",
              "      <td>8</td>\n",
              "      <td>50</td>\n",
              "      <td>35</td>\n",
              "      <td>379</td>\n",
              "      <td>NaN</td>\n",
              "    </tr>\n",
              "    <tr>\n",
              "      <th>571</th>\n",
              "      <td>Regional</td>\n",
              "      <td>XI Región de Aysén</td>\n",
              "      <td>2011</td>\n",
              "      <td>76</td>\n",
              "      <td>0</td>\n",
              "      <td>264</td>\n",
              "      <td>169</td>\n",
              "      <td>88</td>\n",
              "      <td>1</td>\n",
              "      <td>16</td>\n",
              "      <td>72</td>\n",
              "      <td>43</td>\n",
              "      <td>387</td>\n",
              "      <td>NaN</td>\n",
              "    </tr>\n",
              "    <tr>\n",
              "      <th>590</th>\n",
              "      <td>Regional</td>\n",
              "      <td>XII Región de Magallanes</td>\n",
              "      <td>2010</td>\n",
              "      <td>125</td>\n",
              "      <td>3</td>\n",
              "      <td>598</td>\n",
              "      <td>400</td>\n",
              "      <td>116</td>\n",
              "      <td>17</td>\n",
              "      <td>18</td>\n",
              "      <td>88</td>\n",
              "      <td>64</td>\n",
              "      <td>832</td>\n",
              "      <td>NaN</td>\n",
              "    </tr>\n",
              "    <tr>\n",
              "      <th>591</th>\n",
              "      <td>Regional</td>\n",
              "      <td>XII Región de Magallanes</td>\n",
              "      <td>2011</td>\n",
              "      <td>139</td>\n",
              "      <td>2</td>\n",
              "      <td>411</td>\n",
              "      <td>329</td>\n",
              "      <td>99</td>\n",
              "      <td>40</td>\n",
              "      <td>22</td>\n",
              "      <td>117</td>\n",
              "      <td>44</td>\n",
              "      <td>884</td>\n",
              "      <td>NaN</td>\n",
              "    </tr>\n",
              "    <tr>\n",
              "      <th>610</th>\n",
              "      <td>Regional</td>\n",
              "      <td>Región Metropolitana</td>\n",
              "      <td>2010</td>\n",
              "      <td>2834</td>\n",
              "      <td>856</td>\n",
              "      <td>12444</td>\n",
              "      <td>4797</td>\n",
              "      <td>475</td>\n",
              "      <td>269</td>\n",
              "      <td>417</td>\n",
              "      <td>2016</td>\n",
              "      <td>1117</td>\n",
              "      <td>12379</td>\n",
              "      <td>NaN</td>\n",
              "    </tr>\n",
              "    <tr>\n",
              "      <th>611</th>\n",
              "      <td>Regional</td>\n",
              "      <td>Región Metropolitana</td>\n",
              "      <td>2011</td>\n",
              "      <td>2899</td>\n",
              "      <td>864</td>\n",
              "      <td>13059</td>\n",
              "      <td>5353</td>\n",
              "      <td>613</td>\n",
              "      <td>732</td>\n",
              "      <td>360</td>\n",
              "      <td>2008</td>\n",
              "      <td>1200</td>\n",
              "      <td>12341</td>\n",
              "      <td>NaN</td>\n",
              "    </tr>\n",
              "  </tbody>\n",
              "</table>\n",
              "</div>"
            ],
            "text/plain": [
              "      Muestra  ... (Incorporar Otra Columna Si es Necesario)\n",
              "0    Nacional  ...                                       NaN\n",
              "1    Nacional  ...                                       NaN\n",
              "2    Regional  ...                                       NaN\n",
              "3    Regional  ...                                       NaN\n",
              "12   Regional  ...                                       NaN\n",
              "13   Regional  ...                                       NaN\n",
              "28   Regional  ...                                       NaN\n",
              "29   Regional  ...                                       NaN\n",
              "48   Regional  ...                                       NaN\n",
              "49   Regional  ...                                       NaN\n",
              "68   Regional  ...                                       NaN\n",
              "69   Regional  ...                                       NaN\n",
              "100  Regional  ...                                       NaN\n",
              "101  Regional  ...                                       NaN\n",
              "176  Regional  ...                                       NaN\n",
              "177  Regional  ...                                       NaN\n",
              "244  Regional  ...                                       NaN\n",
              "245  Regional  ...                                       NaN\n",
              "306  Regional  ...                                       NaN\n",
              "307  Regional  ...                                       NaN\n",
              "416  Regional  ...                                       NaN\n",
              "417  Regional  ...                                       NaN\n",
              "482  Regional  ...                                       NaN\n",
              "483  Regional  ...                                       NaN\n",
              "508  Regional  ...                                       NaN\n",
              "509  Regional  ...                                       NaN\n",
              "570  Regional  ...                                       NaN\n",
              "571  Regional  ...                                       NaN\n",
              "590  Regional  ...                                       NaN\n",
              "591  Regional  ...                                       NaN\n",
              "610  Regional  ...                                       NaN\n",
              "611  Regional  ...                                       NaN\n",
              "\n",
              "[32 rows x 14 columns]"
            ]
          },
          "metadata": {
            "tags": []
          },
          "execution_count": 38
        }
      ]
    },
    {
      "cell_type": "markdown",
      "metadata": {
        "id": "nox3ZkvQ-P_o"
      },
      "source": [
        "## Algunas operaciones útiles"
      ]
    },
    {
      "cell_type": "markdown",
      "metadata": {
        "id": "TOqIOweK-VD_"
      },
      "source": [
        "### Explorar rápidamente los datos"
      ]
    },
    {
      "cell_type": "code",
      "metadata": {
        "colab": {
          "base_uri": "https://localhost:8080/"
        },
        "id": "k6jMBXkM_o02",
        "outputId": "0d9898a6-321f-4dcb-8a87-2f454a0338bb"
      },
      "source": [
        "# cuántas columnas:\n",
        "# len(df.columns)\n",
        "\n",
        "df.columns"
      ],
      "execution_count": null,
      "outputs": [
        {
          "output_type": "execute_result",
          "data": {
            "text/plain": [
              "Index(['Muestra', 'Descripcion Muestra', 'Año', 'Atropello', 'Caída',\n",
              "       'Colisión', 'Choque', 'Volcadura', 'Otros ', 'Muertos',\n",
              "       'Lesionados Graves', 'Lesionados Menos Graves', 'Lesionados Leves',\n",
              "       '(Incorporar Otra Columna Si es Necesario)'],\n",
              "      dtype='object')"
            ]
          },
          "metadata": {
            "tags": []
          },
          "execution_count": 54
        }
      ]
    },
    {
      "cell_type": "code",
      "metadata": {
        "colab": {
          "base_uri": "https://localhost:8080/"
        },
        "id": "rwBam9ol_u4d",
        "outputId": "7f8f22d5-2e71-4cd1-c62f-496d8094e63d"
      },
      "source": [
        "# cuántas filas\n",
        "len(df.index)"
      ],
      "execution_count": null,
      "outputs": [
        {
          "output_type": "execute_result",
          "data": {
            "text/plain": [
              "716"
            ]
          },
          "metadata": {
            "tags": []
          },
          "execution_count": 110
        }
      ]
    },
    {
      "cell_type": "code",
      "metadata": {
        "colab": {
          "base_uri": "https://localhost:8080/"
        },
        "id": "pWpb2_LuG4HU",
        "outputId": "655d4f35-7575-4083-e03d-2f2f966a37e4"
      },
      "source": [
        "# o bien, usar el atributo shape del dataset\n",
        "\n",
        "df.shape"
      ],
      "execution_count": null,
      "outputs": [
        {
          "output_type": "execute_result",
          "data": {
            "text/plain": [
              "(716, 14)"
            ]
          },
          "metadata": {
            "tags": []
          },
          "execution_count": 111
        }
      ]
    },
    {
      "cell_type": "code",
      "metadata": {
        "colab": {
          "base_uri": "https://localhost:8080/",
          "height": 297
        },
        "id": "pN5Wy1Sv9jbq",
        "outputId": "f0392410-4908-4711-ffc0-20f429294721"
      },
      "source": [
        "# estadísticas descriptivas de las columnas numéricas\n",
        "df.describe()"
      ],
      "execution_count": null,
      "outputs": [
        {
          "output_type": "execute_result",
          "data": {
            "text/html": [
              "<div>\n",
              "<style scoped>\n",
              "    .dataframe tbody tr th:only-of-type {\n",
              "        vertical-align: middle;\n",
              "    }\n",
              "\n",
              "    .dataframe tbody tr th {\n",
              "        vertical-align: top;\n",
              "    }\n",
              "\n",
              "    .dataframe thead th {\n",
              "        text-align: right;\n",
              "    }\n",
              "</style>\n",
              "<table border=\"1\" class=\"dataframe\">\n",
              "  <thead>\n",
              "    <tr style=\"text-align: right;\">\n",
              "      <th></th>\n",
              "      <th>Año</th>\n",
              "      <th>Atropello</th>\n",
              "      <th>Caída</th>\n",
              "      <th>Colisión</th>\n",
              "      <th>Choque</th>\n",
              "      <th>Volcadura</th>\n",
              "      <th>Otros</th>\n",
              "      <th>Muertos</th>\n",
              "      <th>Lesionados Graves</th>\n",
              "      <th>Lesionados Menos Graves</th>\n",
              "      <th>Lesionados Leves</th>\n",
              "      <th>(Incorporar Otra Columna Si es Necesario)</th>\n",
              "    </tr>\n",
              "  </thead>\n",
              "  <tbody>\n",
              "    <tr>\n",
              "      <th>count</th>\n",
              "      <td>716.00000</td>\n",
              "      <td>716.000000</td>\n",
              "      <td>716.000000</td>\n",
              "      <td>716.000000</td>\n",
              "      <td>716.000000</td>\n",
              "      <td>716.000000</td>\n",
              "      <td>716.000000</td>\n",
              "      <td>716.000000</td>\n",
              "      <td>716.000000</td>\n",
              "      <td>716.000000</td>\n",
              "      <td>716.000000</td>\n",
              "      <td>0.0</td>\n",
              "    </tr>\n",
              "    <tr>\n",
              "      <th>mean</th>\n",
              "      <td>2010.50000</td>\n",
              "      <td>69.494413</td>\n",
              "      <td>12.427374</td>\n",
              "      <td>253.969274</td>\n",
              "      <td>129.343575</td>\n",
              "      <td>31.902235</td>\n",
              "      <td>8.086592</td>\n",
              "      <td>13.273743</td>\n",
              "      <td>57.079609</td>\n",
              "      <td>36.766760</td>\n",
              "      <td>355.215084</td>\n",
              "      <td>NaN</td>\n",
              "    </tr>\n",
              "    <tr>\n",
              "      <th>std</th>\n",
              "      <td>0.50035</td>\n",
              "      <td>472.251419</td>\n",
              "      <td>91.730170</td>\n",
              "      <td>1760.897492</td>\n",
              "      <td>878.244536</td>\n",
              "      <td>208.982266</td>\n",
              "      <td>61.353004</td>\n",
              "      <td>87.971963</td>\n",
              "      <td>382.902764</td>\n",
              "      <td>244.908278</td>\n",
              "      <td>2381.442727</td>\n",
              "      <td>NaN</td>\n",
              "    </tr>\n",
              "    <tr>\n",
              "      <th>min</th>\n",
              "      <td>2010.00000</td>\n",
              "      <td>0.000000</td>\n",
              "      <td>0.000000</td>\n",
              "      <td>0.000000</td>\n",
              "      <td>0.000000</td>\n",
              "      <td>0.000000</td>\n",
              "      <td>0.000000</td>\n",
              "      <td>0.000000</td>\n",
              "      <td>0.000000</td>\n",
              "      <td>0.000000</td>\n",
              "      <td>0.000000</td>\n",
              "      <td>NaN</td>\n",
              "    </tr>\n",
              "    <tr>\n",
              "      <th>25%</th>\n",
              "      <td>2010.00000</td>\n",
              "      <td>2.000000</td>\n",
              "      <td>0.000000</td>\n",
              "      <td>5.000000</td>\n",
              "      <td>3.000000</td>\n",
              "      <td>4.000000</td>\n",
              "      <td>0.000000</td>\n",
              "      <td>1.000000</td>\n",
              "      <td>4.000000</td>\n",
              "      <td>3.000000</td>\n",
              "      <td>18.000000</td>\n",
              "      <td>NaN</td>\n",
              "    </tr>\n",
              "    <tr>\n",
              "      <th>50%</th>\n",
              "      <td>2010.50000</td>\n",
              "      <td>6.000000</td>\n",
              "      <td>0.000000</td>\n",
              "      <td>18.000000</td>\n",
              "      <td>11.000000</td>\n",
              "      <td>8.000000</td>\n",
              "      <td>1.000000</td>\n",
              "      <td>3.000000</td>\n",
              "      <td>10.000000</td>\n",
              "      <td>7.000000</td>\n",
              "      <td>48.000000</td>\n",
              "      <td>NaN</td>\n",
              "    </tr>\n",
              "    <tr>\n",
              "      <th>75%</th>\n",
              "      <td>2011.00000</td>\n",
              "      <td>31.250000</td>\n",
              "      <td>4.000000</td>\n",
              "      <td>105.500000</td>\n",
              "      <td>50.000000</td>\n",
              "      <td>15.250000</td>\n",
              "      <td>2.250000</td>\n",
              "      <td>7.000000</td>\n",
              "      <td>27.000000</td>\n",
              "      <td>18.000000</td>\n",
              "      <td>149.250000</td>\n",
              "      <td>NaN</td>\n",
              "    </tr>\n",
              "    <tr>\n",
              "      <th>max</th>\n",
              "      <td>2011.00000</td>\n",
              "      <td>8339.000000</td>\n",
              "      <td>1488.000000</td>\n",
              "      <td>31487.000000</td>\n",
              "      <td>16312.000000</td>\n",
              "      <td>3985.000000</td>\n",
              "      <td>1223.000000</td>\n",
              "      <td>1595.000000</td>\n",
              "      <td>6899.000000</td>\n",
              "      <td>4454.000000</td>\n",
              "      <td>43034.000000</td>\n",
              "      <td>NaN</td>\n",
              "    </tr>\n",
              "  </tbody>\n",
              "</table>\n",
              "</div>"
            ],
            "text/plain": [
              "              Año  ...  (Incorporar Otra Columna Si es Necesario)\n",
              "count   716.00000  ...                                        0.0\n",
              "mean   2010.50000  ...                                        NaN\n",
              "std       0.50035  ...                                        NaN\n",
              "min    2010.00000  ...                                        NaN\n",
              "25%    2010.00000  ...                                        NaN\n",
              "50%    2010.50000  ...                                        NaN\n",
              "75%    2011.00000  ...                                        NaN\n",
              "max    2011.00000  ...                                        NaN\n",
              "\n",
              "[8 rows x 12 columns]"
            ]
          },
          "metadata": {
            "tags": []
          },
          "execution_count": 34
        }
      ]
    },
    {
      "cell_type": "code",
      "metadata": {
        "colab": {
          "base_uri": "https://localhost:8080/"
        },
        "id": "sndpe0tP-Yib",
        "outputId": "ac7eeef9-1e71-4b85-b49d-ddb26f7886e1"
      },
      "source": [
        "# ¿cuántos valores distintos?\n",
        "df['Año'].value_counts()"
      ],
      "execution_count": null,
      "outputs": [
        {
          "output_type": "execute_result",
          "data": {
            "text/plain": [
              "2010    358\n",
              "2011    358\n",
              "Name: Año, dtype: int64"
            ]
          },
          "metadata": {
            "tags": []
          },
          "execution_count": 35
        }
      ]
    },
    {
      "cell_type": "code",
      "metadata": {
        "colab": {
          "base_uri": "https://localhost:8080/"
        },
        "id": "XnHmPUXZ_dnl",
        "outputId": "a799cdd8-d4c5-41e2-8e6c-4192022ed8f0"
      },
      "source": [
        "df['Atropello'].mean()"
      ],
      "execution_count": null,
      "outputs": [
        {
          "output_type": "execute_result",
          "data": {
            "text/plain": [
              "69.49441340782123"
            ]
          },
          "metadata": {
            "tags": []
          },
          "execution_count": 47
        }
      ]
    },
    {
      "cell_type": "code",
      "metadata": {
        "colab": {
          "base_uri": "https://localhost:8080/"
        },
        "id": "Ap-0-hrg_hCO",
        "outputId": "ff1ccc6e-0a55-4fc4-9529-3969d5d92c8f"
      },
      "source": [
        "df['Atropello'].median()"
      ],
      "execution_count": null,
      "outputs": [
        {
          "output_type": "execute_result",
          "data": {
            "text/plain": [
              "6.0"
            ]
          },
          "metadata": {
            "tags": []
          },
          "execution_count": 48
        }
      ]
    },
    {
      "cell_type": "code",
      "metadata": {
        "colab": {
          "base_uri": "https://localhost:8080/"
        },
        "id": "SJqwt8wF_hEq",
        "outputId": "6e1763b4-c684-4f37-c406-270fb252bc9d"
      },
      "source": [
        "df['Atropello'].std()"
      ],
      "execution_count": null,
      "outputs": [
        {
          "output_type": "execute_result",
          "data": {
            "text/plain": [
              "472.25141901951804"
            ]
          },
          "metadata": {
            "tags": []
          },
          "execution_count": 49
        }
      ]
    },
    {
      "cell_type": "code",
      "metadata": {
        "colab": {
          "base_uri": "https://localhost:8080/"
        },
        "id": "hGxtPnc__hGv",
        "outputId": "5268187c-52c0-419b-8eed-1d811cc4d0d0"
      },
      "source": [
        "df['Atropello'].min(), df['Atropello'].max()"
      ],
      "execution_count": null,
      "outputs": [
        {
          "output_type": "execute_result",
          "data": {
            "text/plain": [
              "(0, 8339)"
            ]
          },
          "metadata": {
            "tags": []
          },
          "execution_count": 50
        }
      ]
    },
    {
      "cell_type": "code",
      "metadata": {
        "id": "jargfzyb_9No"
      },
      "source": [
        "# no se usar una funcion\n",
        "s = df['Atropello']\n",
        "\n",
        "s.quantile?\n",
        "# o help(s.quantile)"
      ],
      "execution_count": null,
      "outputs": []
    },
    {
      "cell_type": "code",
      "metadata": {
        "colab": {
          "base_uri": "https://localhost:8080/"
        },
        "id": "epx6BL8IAL3r",
        "outputId": "d194393d-128b-41cd-bcc5-d740f28e51a5"
      },
      "source": [
        "# ¿qué me dice el percentil 99?\n",
        "\n",
        "s.quantile(q=0.99)"
      ],
      "execution_count": null,
      "outputs": [
        {
          "output_type": "execute_result",
          "data": {
            "text/plain": [
              "866.1000000000079"
            ]
          },
          "metadata": {
            "tags": []
          },
          "execution_count": 66
        }
      ]
    },
    {
      "cell_type": "code",
      "metadata": {
        "colab": {
          "base_uri": "https://localhost:8080/",
          "height": 419
        },
        "id": "CHDqzB9vBSL6",
        "outputId": "82c6929a-fcc2-4383-cadb-bdfe9139ce5a"
      },
      "source": [
        "# eliminar filas o columnas con datos faltantes\n",
        "\n",
        "# axis==0 => filas\n",
        "# axis==1 => columnas\n",
        "# how=='any' indica que si la fila o columna tiene al menos 1 dato faltante (NA o nan),\n",
        "#  se borra la fila/columna completa\n",
        "df2 = df.dropna(axis=1, how='any')\n",
        "\n",
        "## muchas de las operaciones de pandas entregan un resultado (un output)\n",
        "## sin embargo, algunas de estas operaciones son \"in place\", es decir, modifican el data frame\n",
        "## en vez de entregar uno nuevo.\n",
        "\n",
        "## ***Es recomendable usar distintas variables para no sobreescribir los datos que estás usando.***\n",
        "## (siempre que puedas)\n",
        "df2"
      ],
      "execution_count": null,
      "outputs": [
        {
          "output_type": "execute_result",
          "data": {
            "text/html": [
              "<div>\n",
              "<style scoped>\n",
              "    .dataframe tbody tr th:only-of-type {\n",
              "        vertical-align: middle;\n",
              "    }\n",
              "\n",
              "    .dataframe tbody tr th {\n",
              "        vertical-align: top;\n",
              "    }\n",
              "\n",
              "    .dataframe thead th {\n",
              "        text-align: right;\n",
              "    }\n",
              "</style>\n",
              "<table border=\"1\" class=\"dataframe\">\n",
              "  <thead>\n",
              "    <tr style=\"text-align: right;\">\n",
              "      <th></th>\n",
              "      <th>Muestra</th>\n",
              "      <th>Descripcion Muestra</th>\n",
              "      <th>Año</th>\n",
              "      <th>Atropello</th>\n",
              "      <th>Caída</th>\n",
              "      <th>Colisión</th>\n",
              "      <th>Choque</th>\n",
              "      <th>Volcadura</th>\n",
              "      <th>Otros</th>\n",
              "      <th>Muertos</th>\n",
              "      <th>Lesionados Graves</th>\n",
              "      <th>Lesionados Menos Graves</th>\n",
              "      <th>Lesionados Leves</th>\n",
              "    </tr>\n",
              "  </thead>\n",
              "  <tbody>\n",
              "    <tr>\n",
              "      <th>0</th>\n",
              "      <td>Nacional</td>\n",
              "      <td>Nacional</td>\n",
              "      <td>2010</td>\n",
              "      <td>8247</td>\n",
              "      <td>1478</td>\n",
              "      <td>29127</td>\n",
              "      <td>14558</td>\n",
              "      <td>3629</td>\n",
              "      <td>707</td>\n",
              "      <td>1595</td>\n",
              "      <td>6899</td>\n",
              "      <td>4321</td>\n",
              "      <td>41744</td>\n",
              "    </tr>\n",
              "    <tr>\n",
              "      <th>1</th>\n",
              "      <td>Nacional</td>\n",
              "      <td>Nacional</td>\n",
              "      <td>2011</td>\n",
              "      <td>8339</td>\n",
              "      <td>1488</td>\n",
              "      <td>31487</td>\n",
              "      <td>16312</td>\n",
              "      <td>3985</td>\n",
              "      <td>1223</td>\n",
              "      <td>1573</td>\n",
              "      <td>6724</td>\n",
              "      <td>4454</td>\n",
              "      <td>43034</td>\n",
              "    </tr>\n",
              "    <tr>\n",
              "      <th>2</th>\n",
              "      <td>Regional</td>\n",
              "      <td>XV Región Arica y Parinacota</td>\n",
              "      <td>2010</td>\n",
              "      <td>115</td>\n",
              "      <td>6</td>\n",
              "      <td>265</td>\n",
              "      <td>151</td>\n",
              "      <td>55</td>\n",
              "      <td>6</td>\n",
              "      <td>28</td>\n",
              "      <td>87</td>\n",
              "      <td>70</td>\n",
              "      <td>444</td>\n",
              "    </tr>\n",
              "    <tr>\n",
              "      <th>3</th>\n",
              "      <td>Regional</td>\n",
              "      <td>XV Región Arica y Parinacota</td>\n",
              "      <td>2011</td>\n",
              "      <td>159</td>\n",
              "      <td>13</td>\n",
              "      <td>426</td>\n",
              "      <td>342</td>\n",
              "      <td>68</td>\n",
              "      <td>10</td>\n",
              "      <td>33</td>\n",
              "      <td>99</td>\n",
              "      <td>80</td>\n",
              "      <td>679</td>\n",
              "    </tr>\n",
              "    <tr>\n",
              "      <th>4</th>\n",
              "      <td>Comunal</td>\n",
              "      <td>ARICA</td>\n",
              "      <td>2010</td>\n",
              "      <td>115</td>\n",
              "      <td>6</td>\n",
              "      <td>259</td>\n",
              "      <td>142</td>\n",
              "      <td>24</td>\n",
              "      <td>4</td>\n",
              "      <td>24</td>\n",
              "      <td>75</td>\n",
              "      <td>64</td>\n",
              "      <td>407</td>\n",
              "    </tr>\n",
              "    <tr>\n",
              "      <th>...</th>\n",
              "      <td>...</td>\n",
              "      <td>...</td>\n",
              "      <td>...</td>\n",
              "      <td>...</td>\n",
              "      <td>...</td>\n",
              "      <td>...</td>\n",
              "      <td>...</td>\n",
              "      <td>...</td>\n",
              "      <td>...</td>\n",
              "      <td>...</td>\n",
              "      <td>...</td>\n",
              "      <td>...</td>\n",
              "      <td>...</td>\n",
              "    </tr>\n",
              "    <tr>\n",
              "      <th>711</th>\n",
              "      <td>Comunal</td>\n",
              "      <td>ISLA DE MAIPO</td>\n",
              "      <td>2011</td>\n",
              "      <td>17</td>\n",
              "      <td>5</td>\n",
              "      <td>39</td>\n",
              "      <td>11</td>\n",
              "      <td>15</td>\n",
              "      <td>2</td>\n",
              "      <td>2</td>\n",
              "      <td>27</td>\n",
              "      <td>19</td>\n",
              "      <td>113</td>\n",
              "    </tr>\n",
              "    <tr>\n",
              "      <th>712</th>\n",
              "      <td>Comunal</td>\n",
              "      <td>PADRE HURTADO</td>\n",
              "      <td>2010</td>\n",
              "      <td>16</td>\n",
              "      <td>13</td>\n",
              "      <td>36</td>\n",
              "      <td>29</td>\n",
              "      <td>4</td>\n",
              "      <td>1</td>\n",
              "      <td>1</td>\n",
              "      <td>7</td>\n",
              "      <td>10</td>\n",
              "      <td>98</td>\n",
              "    </tr>\n",
              "    <tr>\n",
              "      <th>713</th>\n",
              "      <td>Comunal</td>\n",
              "      <td>PADRE HURTADO</td>\n",
              "      <td>2011</td>\n",
              "      <td>11</td>\n",
              "      <td>8</td>\n",
              "      <td>29</td>\n",
              "      <td>9</td>\n",
              "      <td>6</td>\n",
              "      <td>2</td>\n",
              "      <td>5</td>\n",
              "      <td>14</td>\n",
              "      <td>7</td>\n",
              "      <td>87</td>\n",
              "    </tr>\n",
              "    <tr>\n",
              "      <th>714</th>\n",
              "      <td>Comunal</td>\n",
              "      <td>PENAFLOR</td>\n",
              "      <td>2010</td>\n",
              "      <td>47</td>\n",
              "      <td>16</td>\n",
              "      <td>141</td>\n",
              "      <td>50</td>\n",
              "      <td>9</td>\n",
              "      <td>5</td>\n",
              "      <td>5</td>\n",
              "      <td>26</td>\n",
              "      <td>31</td>\n",
              "      <td>249</td>\n",
              "    </tr>\n",
              "    <tr>\n",
              "      <th>715</th>\n",
              "      <td>Comunal</td>\n",
              "      <td>PENAFLOR</td>\n",
              "      <td>2011</td>\n",
              "      <td>63</td>\n",
              "      <td>25</td>\n",
              "      <td>99</td>\n",
              "      <td>29</td>\n",
              "      <td>20</td>\n",
              "      <td>14</td>\n",
              "      <td>7</td>\n",
              "      <td>32</td>\n",
              "      <td>37</td>\n",
              "      <td>298</td>\n",
              "    </tr>\n",
              "  </tbody>\n",
              "</table>\n",
              "<p>716 rows × 13 columns</p>\n",
              "</div>"
            ],
            "text/plain": [
              "      Muestra  ... Lesionados Leves\n",
              "0    Nacional  ...            41744\n",
              "1    Nacional  ...            43034\n",
              "2    Regional  ...              444\n",
              "3    Regional  ...              679\n",
              "4     Comunal  ...              407\n",
              "..        ...  ...              ...\n",
              "711   Comunal  ...              113\n",
              "712   Comunal  ...               98\n",
              "713   Comunal  ...               87\n",
              "714   Comunal  ...              249\n",
              "715   Comunal  ...              298\n",
              "\n",
              "[716 rows x 13 columns]"
            ]
          },
          "metadata": {
            "tags": []
          },
          "execution_count": 77
        }
      ]
    },
    {
      "cell_type": "markdown",
      "metadata": {
        "id": "MmKwIG1K_LJP"
      },
      "source": [
        "### Agregaciones"
      ]
    },
    {
      "cell_type": "code",
      "metadata": {
        "colab": {
          "base_uri": "https://localhost:8080/",
          "height": 222
        },
        "id": "aOdje5CK-bnS",
        "outputId": "c0401101-2360-492e-9977-ee423b93c2c2"
      },
      "source": [
        "by_year = df.groupby('Año')\n",
        "\n",
        "by_year.describe()"
      ],
      "execution_count": null,
      "outputs": [
        {
          "output_type": "execute_result",
          "data": {
            "text/html": [
              "<div>\n",
              "<style scoped>\n",
              "    .dataframe tbody tr th:only-of-type {\n",
              "        vertical-align: middle;\n",
              "    }\n",
              "\n",
              "    .dataframe tbody tr th {\n",
              "        vertical-align: top;\n",
              "    }\n",
              "\n",
              "    .dataframe thead tr th {\n",
              "        text-align: left;\n",
              "    }\n",
              "\n",
              "    .dataframe thead tr:last-of-type th {\n",
              "        text-align: right;\n",
              "    }\n",
              "</style>\n",
              "<table border=\"1\" class=\"dataframe\">\n",
              "  <thead>\n",
              "    <tr>\n",
              "      <th></th>\n",
              "      <th colspan=\"8\" halign=\"left\">Atropello</th>\n",
              "      <th colspan=\"8\" halign=\"left\">Caída</th>\n",
              "      <th colspan=\"8\" halign=\"left\">Colisión</th>\n",
              "      <th colspan=\"8\" halign=\"left\">Choque</th>\n",
              "      <th colspan=\"8\" halign=\"left\">Volcadura</th>\n",
              "      <th>...</th>\n",
              "      <th colspan=\"8\" halign=\"left\">Muertos</th>\n",
              "      <th colspan=\"8\" halign=\"left\">Lesionados Graves</th>\n",
              "      <th colspan=\"8\" halign=\"left\">Lesionados Menos Graves</th>\n",
              "      <th colspan=\"8\" halign=\"left\">Lesionados Leves</th>\n",
              "      <th colspan=\"8\" halign=\"left\">(Incorporar Otra Columna Si es Necesario)</th>\n",
              "    </tr>\n",
              "    <tr>\n",
              "      <th></th>\n",
              "      <th>count</th>\n",
              "      <th>mean</th>\n",
              "      <th>std</th>\n",
              "      <th>min</th>\n",
              "      <th>25%</th>\n",
              "      <th>50%</th>\n",
              "      <th>75%</th>\n",
              "      <th>max</th>\n",
              "      <th>count</th>\n",
              "      <th>mean</th>\n",
              "      <th>std</th>\n",
              "      <th>min</th>\n",
              "      <th>25%</th>\n",
              "      <th>50%</th>\n",
              "      <th>75%</th>\n",
              "      <th>max</th>\n",
              "      <th>count</th>\n",
              "      <th>mean</th>\n",
              "      <th>std</th>\n",
              "      <th>min</th>\n",
              "      <th>25%</th>\n",
              "      <th>50%</th>\n",
              "      <th>75%</th>\n",
              "      <th>max</th>\n",
              "      <th>count</th>\n",
              "      <th>mean</th>\n",
              "      <th>std</th>\n",
              "      <th>min</th>\n",
              "      <th>25%</th>\n",
              "      <th>50%</th>\n",
              "      <th>75%</th>\n",
              "      <th>max</th>\n",
              "      <th>count</th>\n",
              "      <th>mean</th>\n",
              "      <th>std</th>\n",
              "      <th>min</th>\n",
              "      <th>25%</th>\n",
              "      <th>50%</th>\n",
              "      <th>75%</th>\n",
              "      <th>max</th>\n",
              "      <th>...</th>\n",
              "      <th>count</th>\n",
              "      <th>mean</th>\n",
              "      <th>std</th>\n",
              "      <th>min</th>\n",
              "      <th>25%</th>\n",
              "      <th>50%</th>\n",
              "      <th>75%</th>\n",
              "      <th>max</th>\n",
              "      <th>count</th>\n",
              "      <th>mean</th>\n",
              "      <th>std</th>\n",
              "      <th>min</th>\n",
              "      <th>25%</th>\n",
              "      <th>50%</th>\n",
              "      <th>75%</th>\n",
              "      <th>max</th>\n",
              "      <th>count</th>\n",
              "      <th>mean</th>\n",
              "      <th>std</th>\n",
              "      <th>min</th>\n",
              "      <th>25%</th>\n",
              "      <th>50%</th>\n",
              "      <th>75%</th>\n",
              "      <th>max</th>\n",
              "      <th>count</th>\n",
              "      <th>mean</th>\n",
              "      <th>std</th>\n",
              "      <th>min</th>\n",
              "      <th>25%</th>\n",
              "      <th>50%</th>\n",
              "      <th>75%</th>\n",
              "      <th>max</th>\n",
              "      <th>count</th>\n",
              "      <th>mean</th>\n",
              "      <th>std</th>\n",
              "      <th>min</th>\n",
              "      <th>25%</th>\n",
              "      <th>50%</th>\n",
              "      <th>75%</th>\n",
              "      <th>max</th>\n",
              "    </tr>\n",
              "    <tr>\n",
              "      <th>Año</th>\n",
              "      <th></th>\n",
              "      <th></th>\n",
              "      <th></th>\n",
              "      <th></th>\n",
              "      <th></th>\n",
              "      <th></th>\n",
              "      <th></th>\n",
              "      <th></th>\n",
              "      <th></th>\n",
              "      <th></th>\n",
              "      <th></th>\n",
              "      <th></th>\n",
              "      <th></th>\n",
              "      <th></th>\n",
              "      <th></th>\n",
              "      <th></th>\n",
              "      <th></th>\n",
              "      <th></th>\n",
              "      <th></th>\n",
              "      <th></th>\n",
              "      <th></th>\n",
              "      <th></th>\n",
              "      <th></th>\n",
              "      <th></th>\n",
              "      <th></th>\n",
              "      <th></th>\n",
              "      <th></th>\n",
              "      <th></th>\n",
              "      <th></th>\n",
              "      <th></th>\n",
              "      <th></th>\n",
              "      <th></th>\n",
              "      <th></th>\n",
              "      <th></th>\n",
              "      <th></th>\n",
              "      <th></th>\n",
              "      <th></th>\n",
              "      <th></th>\n",
              "      <th></th>\n",
              "      <th></th>\n",
              "      <th></th>\n",
              "      <th></th>\n",
              "      <th></th>\n",
              "      <th></th>\n",
              "      <th></th>\n",
              "      <th></th>\n",
              "      <th></th>\n",
              "      <th></th>\n",
              "      <th></th>\n",
              "      <th></th>\n",
              "      <th></th>\n",
              "      <th></th>\n",
              "      <th></th>\n",
              "      <th></th>\n",
              "      <th></th>\n",
              "      <th></th>\n",
              "      <th></th>\n",
              "      <th></th>\n",
              "      <th></th>\n",
              "      <th></th>\n",
              "      <th></th>\n",
              "      <th></th>\n",
              "      <th></th>\n",
              "      <th></th>\n",
              "      <th></th>\n",
              "      <th></th>\n",
              "      <th></th>\n",
              "      <th></th>\n",
              "      <th></th>\n",
              "      <th></th>\n",
              "      <th></th>\n",
              "      <th></th>\n",
              "      <th></th>\n",
              "      <th></th>\n",
              "      <th></th>\n",
              "      <th></th>\n",
              "      <th></th>\n",
              "      <th></th>\n",
              "      <th></th>\n",
              "      <th></th>\n",
              "      <th></th>\n",
              "    </tr>\n",
              "  </thead>\n",
              "  <tbody>\n",
              "    <tr>\n",
              "      <th>2010</th>\n",
              "      <td>358.0</td>\n",
              "      <td>69.108939</td>\n",
              "      <td>469.646421</td>\n",
              "      <td>0.0</td>\n",
              "      <td>2.0</td>\n",
              "      <td>6.0</td>\n",
              "      <td>26.75</td>\n",
              "      <td>8247.0</td>\n",
              "      <td>358.0</td>\n",
              "      <td>12.385475</td>\n",
              "      <td>91.449927</td>\n",
              "      <td>0.0</td>\n",
              "      <td>0.0</td>\n",
              "      <td>0.0</td>\n",
              "      <td>4.0</td>\n",
              "      <td>1478.0</td>\n",
              "      <td>358.0</td>\n",
              "      <td>244.081006</td>\n",
              "      <td>1695.993051</td>\n",
              "      <td>0.0</td>\n",
              "      <td>5.0</td>\n",
              "      <td>17.5</td>\n",
              "      <td>92.75</td>\n",
              "      <td>29127.0</td>\n",
              "      <td>358.0</td>\n",
              "      <td>121.994413</td>\n",
              "      <td>828.510780</td>\n",
              "      <td>0.0</td>\n",
              "      <td>3.0</td>\n",
              "      <td>10.0</td>\n",
              "      <td>43.75</td>\n",
              "      <td>14558.0</td>\n",
              "      <td>358.0</td>\n",
              "      <td>30.410615</td>\n",
              "      <td>198.721013</td>\n",
              "      <td>0.0</td>\n",
              "      <td>3.0</td>\n",
              "      <td>7.0</td>\n",
              "      <td>15.0</td>\n",
              "      <td>3629.0</td>\n",
              "      <td>...</td>\n",
              "      <td>358.0</td>\n",
              "      <td>13.365922</td>\n",
              "      <td>88.990905</td>\n",
              "      <td>0.0</td>\n",
              "      <td>1.0</td>\n",
              "      <td>3.0</td>\n",
              "      <td>7.0</td>\n",
              "      <td>1595.0</td>\n",
              "      <td>358.0</td>\n",
              "      <td>57.812849</td>\n",
              "      <td>387.884279</td>\n",
              "      <td>0.0</td>\n",
              "      <td>4.0</td>\n",
              "      <td>9.5</td>\n",
              "      <td>26.75</td>\n",
              "      <td>6899.0</td>\n",
              "      <td>358.0</td>\n",
              "      <td>36.209497</td>\n",
              "      <td>241.150831</td>\n",
              "      <td>0.0</td>\n",
              "      <td>3.00</td>\n",
              "      <td>6.0</td>\n",
              "      <td>17.00</td>\n",
              "      <td>4321.0</td>\n",
              "      <td>358.0</td>\n",
              "      <td>349.810056</td>\n",
              "      <td>2348.925569</td>\n",
              "      <td>0.0</td>\n",
              "      <td>17.0</td>\n",
              "      <td>45.0</td>\n",
              "      <td>148.0</td>\n",
              "      <td>41744.0</td>\n",
              "      <td>0.0</td>\n",
              "      <td>NaN</td>\n",
              "      <td>NaN</td>\n",
              "      <td>NaN</td>\n",
              "      <td>NaN</td>\n",
              "      <td>NaN</td>\n",
              "      <td>NaN</td>\n",
              "      <td>NaN</td>\n",
              "    </tr>\n",
              "    <tr>\n",
              "      <th>2011</th>\n",
              "      <td>358.0</td>\n",
              "      <td>69.879888</td>\n",
              "      <td>475.499165</td>\n",
              "      <td>0.0</td>\n",
              "      <td>2.0</td>\n",
              "      <td>6.0</td>\n",
              "      <td>32.00</td>\n",
              "      <td>8339.0</td>\n",
              "      <td>358.0</td>\n",
              "      <td>12.469274</td>\n",
              "      <td>92.137535</td>\n",
              "      <td>0.0</td>\n",
              "      <td>0.0</td>\n",
              "      <td>0.0</td>\n",
              "      <td>4.0</td>\n",
              "      <td>1488.0</td>\n",
              "      <td>358.0</td>\n",
              "      <td>263.857542</td>\n",
              "      <td>1825.819549</td>\n",
              "      <td>0.0</td>\n",
              "      <td>6.0</td>\n",
              "      <td>18.5</td>\n",
              "      <td>115.75</td>\n",
              "      <td>31487.0</td>\n",
              "      <td>358.0</td>\n",
              "      <td>136.692737</td>\n",
              "      <td>926.417313</td>\n",
              "      <td>0.0</td>\n",
              "      <td>4.0</td>\n",
              "      <td>13.0</td>\n",
              "      <td>58.00</td>\n",
              "      <td>16312.0</td>\n",
              "      <td>358.0</td>\n",
              "      <td>33.393855</td>\n",
              "      <td>219.031977</td>\n",
              "      <td>0.0</td>\n",
              "      <td>4.0</td>\n",
              "      <td>9.0</td>\n",
              "      <td>16.0</td>\n",
              "      <td>3985.0</td>\n",
              "      <td>...</td>\n",
              "      <td>358.0</td>\n",
              "      <td>13.181564</td>\n",
              "      <td>87.065563</td>\n",
              "      <td>0.0</td>\n",
              "      <td>1.0</td>\n",
              "      <td>3.0</td>\n",
              "      <td>7.0</td>\n",
              "      <td>1573.0</td>\n",
              "      <td>358.0</td>\n",
              "      <td>56.346369</td>\n",
              "      <td>378.397206</td>\n",
              "      <td>0.0</td>\n",
              "      <td>4.0</td>\n",
              "      <td>10.0</td>\n",
              "      <td>27.00</td>\n",
              "      <td>6724.0</td>\n",
              "      <td>358.0</td>\n",
              "      <td>37.324022</td>\n",
              "      <td>248.945363</td>\n",
              "      <td>0.0</td>\n",
              "      <td>2.25</td>\n",
              "      <td>7.0</td>\n",
              "      <td>18.75</td>\n",
              "      <td>4454.0</td>\n",
              "      <td>358.0</td>\n",
              "      <td>360.620112</td>\n",
              "      <td>2416.798483</td>\n",
              "      <td>0.0</td>\n",
              "      <td>20.0</td>\n",
              "      <td>53.0</td>\n",
              "      <td>154.5</td>\n",
              "      <td>43034.0</td>\n",
              "      <td>0.0</td>\n",
              "      <td>NaN</td>\n",
              "      <td>NaN</td>\n",
              "      <td>NaN</td>\n",
              "      <td>NaN</td>\n",
              "      <td>NaN</td>\n",
              "      <td>NaN</td>\n",
              "      <td>NaN</td>\n",
              "    </tr>\n",
              "  </tbody>\n",
              "</table>\n",
              "<p>2 rows × 88 columns</p>\n",
              "</div>"
            ],
            "text/plain": [
              "     Atropello                                        ... (Incorporar Otra Columna Si es Necesario)                    \n",
              "         count       mean         std  min  25%  50%  ...                                       std min 25% 50% 75% max\n",
              "Año                                                   ...                                                              \n",
              "2010     358.0  69.108939  469.646421  0.0  2.0  6.0  ...                                       NaN NaN NaN NaN NaN NaN\n",
              "2011     358.0  69.879888  475.499165  0.0  2.0  6.0  ...                                       NaN NaN NaN NaN NaN NaN\n",
              "\n",
              "[2 rows x 88 columns]"
            ]
          },
          "metadata": {
            "tags": []
          },
          "execution_count": 44
        }
      ]
    },
    {
      "cell_type": "code",
      "metadata": {
        "colab": {
          "base_uri": "https://localhost:8080/"
        },
        "id": "HvWAnUXU-eis",
        "outputId": "5edf52f0-c3cc-4a75-8f02-532e6e2080d8"
      },
      "source": [
        "by_year.ngroups"
      ],
      "execution_count": null,
      "outputs": [
        {
          "output_type": "execute_result",
          "data": {
            "text/plain": [
              "2"
            ]
          },
          "metadata": {
            "tags": []
          },
          "execution_count": 45
        }
      ]
    },
    {
      "cell_type": "code",
      "metadata": {
        "colab": {
          "base_uri": "https://localhost:8080/",
          "height": 142
        },
        "id": "cW2PKlqj-5m6",
        "outputId": "289cf077-331d-4350-b0a6-d73ed2793b99"
      },
      "source": [
        "by_year.sum()"
      ],
      "execution_count": null,
      "outputs": [
        {
          "output_type": "execute_result",
          "data": {
            "text/html": [
              "<div>\n",
              "<style scoped>\n",
              "    .dataframe tbody tr th:only-of-type {\n",
              "        vertical-align: middle;\n",
              "    }\n",
              "\n",
              "    .dataframe tbody tr th {\n",
              "        vertical-align: top;\n",
              "    }\n",
              "\n",
              "    .dataframe thead th {\n",
              "        text-align: right;\n",
              "    }\n",
              "</style>\n",
              "<table border=\"1\" class=\"dataframe\">\n",
              "  <thead>\n",
              "    <tr style=\"text-align: right;\">\n",
              "      <th></th>\n",
              "      <th>Atropello</th>\n",
              "      <th>Caída</th>\n",
              "      <th>Colisión</th>\n",
              "      <th>Choque</th>\n",
              "      <th>Volcadura</th>\n",
              "      <th>Otros</th>\n",
              "      <th>Muertos</th>\n",
              "      <th>Lesionados Graves</th>\n",
              "      <th>Lesionados Menos Graves</th>\n",
              "      <th>Lesionados Leves</th>\n",
              "      <th>(Incorporar Otra Columna Si es Necesario)</th>\n",
              "    </tr>\n",
              "    <tr>\n",
              "      <th>Año</th>\n",
              "      <th></th>\n",
              "      <th></th>\n",
              "      <th></th>\n",
              "      <th></th>\n",
              "      <th></th>\n",
              "      <th></th>\n",
              "      <th></th>\n",
              "      <th></th>\n",
              "      <th></th>\n",
              "      <th></th>\n",
              "      <th></th>\n",
              "    </tr>\n",
              "  </thead>\n",
              "  <tbody>\n",
              "    <tr>\n",
              "      <th>2010</th>\n",
              "      <td>24741</td>\n",
              "      <td>4434</td>\n",
              "      <td>87381</td>\n",
              "      <td>43674</td>\n",
              "      <td>10887</td>\n",
              "      <td>2121</td>\n",
              "      <td>4785</td>\n",
              "      <td>20697</td>\n",
              "      <td>12963</td>\n",
              "      <td>125232</td>\n",
              "      <td>0.0</td>\n",
              "    </tr>\n",
              "    <tr>\n",
              "      <th>2011</th>\n",
              "      <td>25017</td>\n",
              "      <td>4464</td>\n",
              "      <td>94461</td>\n",
              "      <td>48936</td>\n",
              "      <td>11955</td>\n",
              "      <td>3669</td>\n",
              "      <td>4719</td>\n",
              "      <td>20172</td>\n",
              "      <td>13362</td>\n",
              "      <td>129102</td>\n",
              "      <td>0.0</td>\n",
              "    </tr>\n",
              "  </tbody>\n",
              "</table>\n",
              "</div>"
            ],
            "text/plain": [
              "      Atropello  ...  (Incorporar Otra Columna Si es Necesario)\n",
              "Año              ...                                           \n",
              "2010      24741  ...                                        0.0\n",
              "2011      25017  ...                                        0.0\n",
              "\n",
              "[2 rows x 11 columns]"
            ]
          },
          "metadata": {
            "tags": []
          },
          "execution_count": 46
        }
      ]
    },
    {
      "cell_type": "code",
      "metadata": {
        "colab": {
          "base_uri": "https://localhost:8080/",
          "height": 266
        },
        "id": "uv1XT9O4_bYm",
        "outputId": "93df4aa9-9bd6-4632-fde9-3ab3036c6b6c"
      },
      "source": [
        "# ¿Qué me está diciendo esta tabla?\n",
        "\n",
        "df.groupby(['Año', 'Muestra']).sum()"
      ],
      "execution_count": null,
      "outputs": [
        {
          "output_type": "execute_result",
          "data": {
            "text/html": [
              "<div>\n",
              "<style scoped>\n",
              "    .dataframe tbody tr th:only-of-type {\n",
              "        vertical-align: middle;\n",
              "    }\n",
              "\n",
              "    .dataframe tbody tr th {\n",
              "        vertical-align: top;\n",
              "    }\n",
              "\n",
              "    .dataframe thead th {\n",
              "        text-align: right;\n",
              "    }\n",
              "</style>\n",
              "<table border=\"1\" class=\"dataframe\">\n",
              "  <thead>\n",
              "    <tr style=\"text-align: right;\">\n",
              "      <th></th>\n",
              "      <th></th>\n",
              "      <th>Atropello</th>\n",
              "      <th>Caída</th>\n",
              "      <th>Colisión</th>\n",
              "      <th>Choque</th>\n",
              "      <th>Volcadura</th>\n",
              "      <th>Otros</th>\n",
              "      <th>Muertos</th>\n",
              "      <th>Lesionados Graves</th>\n",
              "      <th>Lesionados Menos Graves</th>\n",
              "      <th>Lesionados Leves</th>\n",
              "      <th>(Incorporar Otra Columna Si es Necesario)</th>\n",
              "    </tr>\n",
              "    <tr>\n",
              "      <th>Año</th>\n",
              "      <th>Muestra</th>\n",
              "      <th></th>\n",
              "      <th></th>\n",
              "      <th></th>\n",
              "      <th></th>\n",
              "      <th></th>\n",
              "      <th></th>\n",
              "      <th></th>\n",
              "      <th></th>\n",
              "      <th></th>\n",
              "      <th></th>\n",
              "      <th></th>\n",
              "    </tr>\n",
              "  </thead>\n",
              "  <tbody>\n",
              "    <tr>\n",
              "      <th rowspan=\"3\" valign=\"top\">2010</th>\n",
              "      <th>Comunal</th>\n",
              "      <td>8247</td>\n",
              "      <td>1478</td>\n",
              "      <td>29127</td>\n",
              "      <td>14558</td>\n",
              "      <td>3629</td>\n",
              "      <td>707</td>\n",
              "      <td>1595</td>\n",
              "      <td>6899</td>\n",
              "      <td>4321</td>\n",
              "      <td>41744</td>\n",
              "      <td>0.0</td>\n",
              "    </tr>\n",
              "    <tr>\n",
              "      <th>Nacional</th>\n",
              "      <td>8247</td>\n",
              "      <td>1478</td>\n",
              "      <td>29127</td>\n",
              "      <td>14558</td>\n",
              "      <td>3629</td>\n",
              "      <td>707</td>\n",
              "      <td>1595</td>\n",
              "      <td>6899</td>\n",
              "      <td>4321</td>\n",
              "      <td>41744</td>\n",
              "      <td>0.0</td>\n",
              "    </tr>\n",
              "    <tr>\n",
              "      <th>Regional</th>\n",
              "      <td>8247</td>\n",
              "      <td>1478</td>\n",
              "      <td>29127</td>\n",
              "      <td>14558</td>\n",
              "      <td>3629</td>\n",
              "      <td>707</td>\n",
              "      <td>1595</td>\n",
              "      <td>6899</td>\n",
              "      <td>4321</td>\n",
              "      <td>41744</td>\n",
              "      <td>0.0</td>\n",
              "    </tr>\n",
              "    <tr>\n",
              "      <th rowspan=\"3\" valign=\"top\">2011</th>\n",
              "      <th>Comunal</th>\n",
              "      <td>8339</td>\n",
              "      <td>1488</td>\n",
              "      <td>31487</td>\n",
              "      <td>16312</td>\n",
              "      <td>3985</td>\n",
              "      <td>1223</td>\n",
              "      <td>1573</td>\n",
              "      <td>6724</td>\n",
              "      <td>4454</td>\n",
              "      <td>43034</td>\n",
              "      <td>0.0</td>\n",
              "    </tr>\n",
              "    <tr>\n",
              "      <th>Nacional</th>\n",
              "      <td>8339</td>\n",
              "      <td>1488</td>\n",
              "      <td>31487</td>\n",
              "      <td>16312</td>\n",
              "      <td>3985</td>\n",
              "      <td>1223</td>\n",
              "      <td>1573</td>\n",
              "      <td>6724</td>\n",
              "      <td>4454</td>\n",
              "      <td>43034</td>\n",
              "      <td>0.0</td>\n",
              "    </tr>\n",
              "    <tr>\n",
              "      <th>Regional</th>\n",
              "      <td>8339</td>\n",
              "      <td>1488</td>\n",
              "      <td>31487</td>\n",
              "      <td>16312</td>\n",
              "      <td>3985</td>\n",
              "      <td>1223</td>\n",
              "      <td>1573</td>\n",
              "      <td>6724</td>\n",
              "      <td>4454</td>\n",
              "      <td>43034</td>\n",
              "      <td>0.0</td>\n",
              "    </tr>\n",
              "  </tbody>\n",
              "</table>\n",
              "</div>"
            ],
            "text/plain": [
              "               Atropello  ...  (Incorporar Otra Columna Si es Necesario)\n",
              "Año  Muestra              ...                                           \n",
              "2010 Comunal        8247  ...                                        0.0\n",
              "     Nacional       8247  ...                                        0.0\n",
              "     Regional       8247  ...                                        0.0\n",
              "2011 Comunal        8339  ...                                        0.0\n",
              "     Nacional       8339  ...                                        0.0\n",
              "     Regional       8339  ...                                        0.0\n",
              "\n",
              "[6 rows x 11 columns]"
            ]
          },
          "metadata": {
            "tags": []
          },
          "execution_count": 72
        }
      ]
    },
    {
      "cell_type": "code",
      "metadata": {
        "colab": {
          "base_uri": "https://localhost:8080/",
          "height": 368
        },
        "id": "dhN9lekpAwUb",
        "outputId": "4ef2161b-a360-4b84-a706-5952083b75c0"
      },
      "source": [
        "# para usar funciones matemáticas que no están en python base\n",
        "import numpy as np\n",
        "\n",
        "df.groupby(['Año', 'Muestra']).aggregate(np.sum)\n",
        "\n",
        "df.groupby(['Año', 'Muestra']).aggregate([np.sum, np.mean, np.std])"
      ],
      "execution_count": null,
      "outputs": [
        {
          "output_type": "execute_result",
          "data": {
            "text/html": [
              "<div>\n",
              "<style scoped>\n",
              "    .dataframe tbody tr th:only-of-type {\n",
              "        vertical-align: middle;\n",
              "    }\n",
              "\n",
              "    .dataframe tbody tr th {\n",
              "        vertical-align: top;\n",
              "    }\n",
              "\n",
              "    .dataframe thead tr th {\n",
              "        text-align: left;\n",
              "    }\n",
              "\n",
              "    .dataframe thead tr:last-of-type th {\n",
              "        text-align: right;\n",
              "    }\n",
              "</style>\n",
              "<table border=\"1\" class=\"dataframe\">\n",
              "  <thead>\n",
              "    <tr>\n",
              "      <th></th>\n",
              "      <th></th>\n",
              "      <th colspan=\"3\" halign=\"left\">Atropello</th>\n",
              "      <th colspan=\"3\" halign=\"left\">Caída</th>\n",
              "      <th colspan=\"3\" halign=\"left\">Colisión</th>\n",
              "      <th colspan=\"3\" halign=\"left\">Choque</th>\n",
              "      <th colspan=\"3\" halign=\"left\">Volcadura</th>\n",
              "      <th colspan=\"3\" halign=\"left\">Otros</th>\n",
              "      <th colspan=\"3\" halign=\"left\">Muertos</th>\n",
              "      <th colspan=\"3\" halign=\"left\">Lesionados Graves</th>\n",
              "      <th colspan=\"3\" halign=\"left\">Lesionados Menos Graves</th>\n",
              "      <th colspan=\"3\" halign=\"left\">Lesionados Leves</th>\n",
              "      <th colspan=\"3\" halign=\"left\">(Incorporar Otra Columna Si es Necesario)</th>\n",
              "    </tr>\n",
              "    <tr>\n",
              "      <th></th>\n",
              "      <th></th>\n",
              "      <th>sum</th>\n",
              "      <th>mean</th>\n",
              "      <th>std</th>\n",
              "      <th>sum</th>\n",
              "      <th>mean</th>\n",
              "      <th>std</th>\n",
              "      <th>sum</th>\n",
              "      <th>mean</th>\n",
              "      <th>std</th>\n",
              "      <th>sum</th>\n",
              "      <th>mean</th>\n",
              "      <th>std</th>\n",
              "      <th>sum</th>\n",
              "      <th>mean</th>\n",
              "      <th>std</th>\n",
              "      <th>sum</th>\n",
              "      <th>mean</th>\n",
              "      <th>std</th>\n",
              "      <th>sum</th>\n",
              "      <th>mean</th>\n",
              "      <th>std</th>\n",
              "      <th>sum</th>\n",
              "      <th>mean</th>\n",
              "      <th>std</th>\n",
              "      <th>sum</th>\n",
              "      <th>mean</th>\n",
              "      <th>std</th>\n",
              "      <th>sum</th>\n",
              "      <th>mean</th>\n",
              "      <th>std</th>\n",
              "      <th>sum</th>\n",
              "      <th>mean</th>\n",
              "      <th>std</th>\n",
              "    </tr>\n",
              "    <tr>\n",
              "      <th>Año</th>\n",
              "      <th>Muestra</th>\n",
              "      <th></th>\n",
              "      <th></th>\n",
              "      <th></th>\n",
              "      <th></th>\n",
              "      <th></th>\n",
              "      <th></th>\n",
              "      <th></th>\n",
              "      <th></th>\n",
              "      <th></th>\n",
              "      <th></th>\n",
              "      <th></th>\n",
              "      <th></th>\n",
              "      <th></th>\n",
              "      <th></th>\n",
              "      <th></th>\n",
              "      <th></th>\n",
              "      <th></th>\n",
              "      <th></th>\n",
              "      <th></th>\n",
              "      <th></th>\n",
              "      <th></th>\n",
              "      <th></th>\n",
              "      <th></th>\n",
              "      <th></th>\n",
              "      <th></th>\n",
              "      <th></th>\n",
              "      <th></th>\n",
              "      <th></th>\n",
              "      <th></th>\n",
              "      <th></th>\n",
              "      <th></th>\n",
              "      <th></th>\n",
              "      <th></th>\n",
              "    </tr>\n",
              "  </thead>\n",
              "  <tbody>\n",
              "    <tr>\n",
              "      <th rowspan=\"3\" valign=\"top\">2010</th>\n",
              "      <th>Comunal</th>\n",
              "      <td>8247</td>\n",
              "      <td>24.114035</td>\n",
              "      <td>46.856759</td>\n",
              "      <td>1478</td>\n",
              "      <td>4.321637</td>\n",
              "      <td>12.499457</td>\n",
              "      <td>29127</td>\n",
              "      <td>85.166667</td>\n",
              "      <td>174.732116</td>\n",
              "      <td>14558</td>\n",
              "      <td>42.567251</td>\n",
              "      <td>90.053454</td>\n",
              "      <td>3629</td>\n",
              "      <td>10.611111</td>\n",
              "      <td>11.364048</td>\n",
              "      <td>707</td>\n",
              "      <td>2.067251</td>\n",
              "      <td>4.693370</td>\n",
              "      <td>1595</td>\n",
              "      <td>4.663743</td>\n",
              "      <td>5.266597</td>\n",
              "      <td>6899</td>\n",
              "      <td>20.172515</td>\n",
              "      <td>29.283067</td>\n",
              "      <td>4321</td>\n",
              "      <td>12.634503</td>\n",
              "      <td>17.353603</td>\n",
              "      <td>41744</td>\n",
              "      <td>122.058480</td>\n",
              "      <td>208.611278</td>\n",
              "      <td>0.0</td>\n",
              "      <td>NaN</td>\n",
              "      <td>NaN</td>\n",
              "    </tr>\n",
              "    <tr>\n",
              "      <th>Nacional</th>\n",
              "      <td>8247</td>\n",
              "      <td>8247.000000</td>\n",
              "      <td>NaN</td>\n",
              "      <td>1478</td>\n",
              "      <td>1478.000000</td>\n",
              "      <td>NaN</td>\n",
              "      <td>29127</td>\n",
              "      <td>29127.000000</td>\n",
              "      <td>NaN</td>\n",
              "      <td>14558</td>\n",
              "      <td>14558.000000</td>\n",
              "      <td>NaN</td>\n",
              "      <td>3629</td>\n",
              "      <td>3629.000000</td>\n",
              "      <td>NaN</td>\n",
              "      <td>707</td>\n",
              "      <td>707.000000</td>\n",
              "      <td>NaN</td>\n",
              "      <td>1595</td>\n",
              "      <td>1595.000000</td>\n",
              "      <td>NaN</td>\n",
              "      <td>6899</td>\n",
              "      <td>6899.000000</td>\n",
              "      <td>NaN</td>\n",
              "      <td>4321</td>\n",
              "      <td>4321.000000</td>\n",
              "      <td>NaN</td>\n",
              "      <td>41744</td>\n",
              "      <td>41744.000000</td>\n",
              "      <td>NaN</td>\n",
              "      <td>0.0</td>\n",
              "      <td>NaN</td>\n",
              "      <td>NaN</td>\n",
              "    </tr>\n",
              "    <tr>\n",
              "      <th>Regional</th>\n",
              "      <td>8247</td>\n",
              "      <td>549.800000</td>\n",
              "      <td>704.969726</td>\n",
              "      <td>1478</td>\n",
              "      <td>98.533333</td>\n",
              "      <td>215.598790</td>\n",
              "      <td>29127</td>\n",
              "      <td>1941.800000</td>\n",
              "      <td>3051.549658</td>\n",
              "      <td>14558</td>\n",
              "      <td>970.533333</td>\n",
              "      <td>1222.820794</td>\n",
              "      <td>3629</td>\n",
              "      <td>241.933333</td>\n",
              "      <td>146.107332</td>\n",
              "      <td>707</td>\n",
              "      <td>47.133333</td>\n",
              "      <td>68.429178</td>\n",
              "      <td>1595</td>\n",
              "      <td>106.333333</td>\n",
              "      <td>107.121871</td>\n",
              "      <td>6899</td>\n",
              "      <td>459.933333</td>\n",
              "      <td>514.632250</td>\n",
              "      <td>4321</td>\n",
              "      <td>288.066667</td>\n",
              "      <td>287.501669</td>\n",
              "      <td>41744</td>\n",
              "      <td>2782.933333</td>\n",
              "      <td>3103.801344</td>\n",
              "      <td>0.0</td>\n",
              "      <td>NaN</td>\n",
              "      <td>NaN</td>\n",
              "    </tr>\n",
              "    <tr>\n",
              "      <th rowspan=\"3\" valign=\"top\">2011</th>\n",
              "      <th>Comunal</th>\n",
              "      <td>8339</td>\n",
              "      <td>24.383041</td>\n",
              "      <td>47.616036</td>\n",
              "      <td>1488</td>\n",
              "      <td>4.350877</td>\n",
              "      <td>12.195847</td>\n",
              "      <td>31487</td>\n",
              "      <td>92.067251</td>\n",
              "      <td>183.153634</td>\n",
              "      <td>16312</td>\n",
              "      <td>47.695906</td>\n",
              "      <td>96.905196</td>\n",
              "      <td>3985</td>\n",
              "      <td>11.652047</td>\n",
              "      <td>12.233744</td>\n",
              "      <td>1223</td>\n",
              "      <td>3.576023</td>\n",
              "      <td>13.611010</td>\n",
              "      <td>1573</td>\n",
              "      <td>4.599415</td>\n",
              "      <td>5.657404</td>\n",
              "      <td>6724</td>\n",
              "      <td>19.660819</td>\n",
              "      <td>27.793892</td>\n",
              "      <td>4454</td>\n",
              "      <td>13.023392</td>\n",
              "      <td>17.369692</td>\n",
              "      <td>43034</td>\n",
              "      <td>125.830409</td>\n",
              "      <td>201.601769</td>\n",
              "      <td>0.0</td>\n",
              "      <td>NaN</td>\n",
              "      <td>NaN</td>\n",
              "    </tr>\n",
              "    <tr>\n",
              "      <th>Nacional</th>\n",
              "      <td>8339</td>\n",
              "      <td>8339.000000</td>\n",
              "      <td>NaN</td>\n",
              "      <td>1488</td>\n",
              "      <td>1488.000000</td>\n",
              "      <td>NaN</td>\n",
              "      <td>31487</td>\n",
              "      <td>31487.000000</td>\n",
              "      <td>NaN</td>\n",
              "      <td>16312</td>\n",
              "      <td>16312.000000</td>\n",
              "      <td>NaN</td>\n",
              "      <td>3985</td>\n",
              "      <td>3985.000000</td>\n",
              "      <td>NaN</td>\n",
              "      <td>1223</td>\n",
              "      <td>1223.000000</td>\n",
              "      <td>NaN</td>\n",
              "      <td>1573</td>\n",
              "      <td>1573.000000</td>\n",
              "      <td>NaN</td>\n",
              "      <td>6724</td>\n",
              "      <td>6724.000000</td>\n",
              "      <td>NaN</td>\n",
              "      <td>4454</td>\n",
              "      <td>4454.000000</td>\n",
              "      <td>NaN</td>\n",
              "      <td>43034</td>\n",
              "      <td>43034.000000</td>\n",
              "      <td>NaN</td>\n",
              "      <td>0.0</td>\n",
              "      <td>NaN</td>\n",
              "      <td>NaN</td>\n",
              "    </tr>\n",
              "    <tr>\n",
              "      <th>Regional</th>\n",
              "      <td>8339</td>\n",
              "      <td>555.933333</td>\n",
              "      <td>722.810335</td>\n",
              "      <td>1488</td>\n",
              "      <td>99.200000</td>\n",
              "      <td>218.338597</td>\n",
              "      <td>31487</td>\n",
              "      <td>2099.133333</td>\n",
              "      <td>3197.779271</td>\n",
              "      <td>16312</td>\n",
              "      <td>1087.466667</td>\n",
              "      <td>1343.869300</td>\n",
              "      <td>3985</td>\n",
              "      <td>265.666667</td>\n",
              "      <td>187.068615</td>\n",
              "      <td>1223</td>\n",
              "      <td>81.533333</td>\n",
              "      <td>182.742155</td>\n",
              "      <td>1573</td>\n",
              "      <td>104.866667</td>\n",
              "      <td>89.033595</td>\n",
              "      <td>6724</td>\n",
              "      <td>448.266667</td>\n",
              "      <td>509.307859</td>\n",
              "      <td>4454</td>\n",
              "      <td>296.933333</td>\n",
              "      <td>304.938276</td>\n",
              "      <td>43034</td>\n",
              "      <td>2868.933333</td>\n",
              "      <td>3129.379502</td>\n",
              "      <td>0.0</td>\n",
              "      <td>NaN</td>\n",
              "      <td>NaN</td>\n",
              "    </tr>\n",
              "  </tbody>\n",
              "</table>\n",
              "</div>"
            ],
            "text/plain": [
              "              Atropello               ... (Incorporar Otra Columna Si es Necesario)    \n",
              "                    sum         mean  ...                                      mean std\n",
              "Año  Muestra                          ...                                              \n",
              "2010 Comunal       8247    24.114035  ...                                       NaN NaN\n",
              "     Nacional      8247  8247.000000  ...                                       NaN NaN\n",
              "     Regional      8247   549.800000  ...                                       NaN NaN\n",
              "2011 Comunal       8339    24.383041  ...                                       NaN NaN\n",
              "     Nacional      8339  8339.000000  ...                                       NaN NaN\n",
              "     Regional      8339   555.933333  ...                                       NaN NaN\n",
              "\n",
              "[6 rows x 33 columns]"
            ]
          },
          "metadata": {
            "tags": []
          },
          "execution_count": 74
        }
      ]
    },
    {
      "cell_type": "markdown",
      "metadata": {
        "id": "uba_VfUXB-3O"
      },
      "source": [
        "# Visualizaciones simples con pandas"
      ]
    },
    {
      "cell_type": "code",
      "metadata": {
        "colab": {
          "base_uri": "https://localhost:8080/",
          "height": 282
        },
        "id": "LdeTaGekBLpO",
        "outputId": "2d821ed1-836b-4292-8d5f-c56f4985a306"
      },
      "source": [
        "%matplotlib inline\n",
        "\n",
        "df['Atropello'].plot()\n",
        "# df['Atropello'].plot(kind='hist')"
      ],
      "execution_count": null,
      "outputs": [
        {
          "output_type": "execute_result",
          "data": {
            "text/plain": [
              "<matplotlib.axes._subplots.AxesSubplot at 0x7fb13aa4f4d0>"
            ]
          },
          "metadata": {
            "tags": []
          },
          "execution_count": 89
        },
        {
          "output_type": "display_data",
          "data": {
            "image/png": "[encoded data removed]",
            "text/plain": [
              "<Figure size 432x288 with 1 Axes>"
            ]
          },
          "metadata": {
            "tags": [],
            "needs_background": "light"
          }
        }
      ]
    },
    {
      "cell_type": "markdown",
      "metadata": {
        "id": "O6az8kOjC3f4"
      },
      "source": [
        "Algunos ejemplos:\n",
        "\n",
        "- Gráficos de dispersión: para encontrar correlación entre variables posiblemente relacionadas\n",
        "- Gráfico de línea: cuando una variables está estrictamente relacionada con la otra, que es continua (ej. el tiempo)\n",
        "- Gráfico de barras: cuando una de las variables es categórica\n",
        "- Histograma / Boxplot / CDF: para observar la distribución de un atributo."
      ]
    },
    {
      "cell_type": "markdown",
      "metadata": {
        "id": "EG4dzMGODd9l"
      },
      "source": [
        "## Gráfico de dispersión"
      ]
    },
    {
      "cell_type": "code",
      "metadata": {
        "colab": {
          "base_uri": "https://localhost:8080/",
          "height": 296
        },
        "id": "IBsDOt2FCU_q",
        "outputId": "6f72f1e8-9de5-498b-c1ba-88a5fd0ccf56"
      },
      "source": [
        "df_ = df.loc[(df['Año'] == 2010) & (df['Muestra'] == 'Comunal')]\n",
        "\n",
        "df_.plot(x='Atropello', y='Muertos', kind='scatter')"
      ],
      "execution_count": null,
      "outputs": [
        {
          "output_type": "execute_result",
          "data": {
            "text/plain": [
              "<matplotlib.axes._subplots.AxesSubplot at 0x7fb1388ee810>"
            ]
          },
          "metadata": {
            "tags": []
          },
          "execution_count": 94
        },
        {
          "output_type": "display_data",
          "data": {
            "image/png": "[encoded data removed]",
            "text/plain": [
              "<Figure size 432x288 with 1 Axes>"
            ]
          },
          "metadata": {
            "tags": [],
            "needs_background": "light"
          }
        }
      ]
    },
    {
      "cell_type": "markdown",
      "metadata": {
        "id": "mRIKm7ohD4cr"
      },
      "source": [
        "## Gráfico de Línea"
      ]
    },
    {
      "cell_type": "code",
      "metadata": {
        "colab": {
          "base_uri": "https://localhost:8080/",
          "height": 419
        },
        "id": "VZkaFmUsD9Qg",
        "outputId": "4d61d0cb-af07-4c14-9e95-ec4dff703cb5"
      },
      "source": [
        "dolar = pd.read_csv(\"https://www.exchange-rates.org/HistoryExchangeRatesReportDownload.aspx?base_iso_code=USD&iso_code=CLP\")\n",
        "dolar"
      ],
      "execution_count": null,
      "outputs": [
        {
          "output_type": "execute_result",
          "data": {
            "text/html": [
              "<div>\n",
              "<style scoped>\n",
              "    .dataframe tbody tr th:only-of-type {\n",
              "        vertical-align: middle;\n",
              "    }\n",
              "\n",
              "    .dataframe tbody tr th {\n",
              "        vertical-align: top;\n",
              "    }\n",
              "\n",
              "    .dataframe thead th {\n",
              "        text-align: right;\n",
              "    }\n",
              "</style>\n",
              "<table border=\"1\" class=\"dataframe\">\n",
              "  <thead>\n",
              "    <tr style=\"text-align: right;\">\n",
              "      <th></th>\n",
              "      <th>Date</th>\n",
              "      <th>Rate</th>\n",
              "      <th>ISO Code From</th>\n",
              "      <th>ISO Code To</th>\n",
              "    </tr>\n",
              "  </thead>\n",
              "  <tbody>\n",
              "    <tr>\n",
              "      <th>0</th>\n",
              "      <td>11/2/2020 Monday</td>\n",
              "      <td>772.19589</td>\n",
              "      <td>USD</td>\n",
              "      <td>CLP</td>\n",
              "    </tr>\n",
              "    <tr>\n",
              "      <th>1</th>\n",
              "      <td>11/3/2020 Tuesday</td>\n",
              "      <td>760.36230</td>\n",
              "      <td>USD</td>\n",
              "      <td>CLP</td>\n",
              "    </tr>\n",
              "    <tr>\n",
              "      <th>2</th>\n",
              "      <td>11/4/2020 Wednesday</td>\n",
              "      <td>757.10365</td>\n",
              "      <td>USD</td>\n",
              "      <td>CLP</td>\n",
              "    </tr>\n",
              "    <tr>\n",
              "      <th>3</th>\n",
              "      <td>11/5/2020 Thursday</td>\n",
              "      <td>749.27340</td>\n",
              "      <td>USD</td>\n",
              "      <td>CLP</td>\n",
              "    </tr>\n",
              "    <tr>\n",
              "      <th>4</th>\n",
              "      <td>11/6/2020 Friday</td>\n",
              "      <td>756.09598</td>\n",
              "      <td>USD</td>\n",
              "      <td>CLP</td>\n",
              "    </tr>\n",
              "    <tr>\n",
              "      <th>...</th>\n",
              "      <td>...</td>\n",
              "      <td>...</td>\n",
              "      <td>...</td>\n",
              "      <td>...</td>\n",
              "    </tr>\n",
              "    <tr>\n",
              "      <th>125</th>\n",
              "      <td>4/26/2021 Monday</td>\n",
              "      <td>707.14454</td>\n",
              "      <td>USD</td>\n",
              "      <td>CLP</td>\n",
              "    </tr>\n",
              "    <tr>\n",
              "      <th>126</th>\n",
              "      <td>4/27/2021 Tuesday</td>\n",
              "      <td>700.97490</td>\n",
              "      <td>USD</td>\n",
              "      <td>CLP</td>\n",
              "    </tr>\n",
              "    <tr>\n",
              "      <th>127</th>\n",
              "      <td>4/28/2021 Wednesday</td>\n",
              "      <td>696.00604</td>\n",
              "      <td>USD</td>\n",
              "      <td>CLP</td>\n",
              "    </tr>\n",
              "    <tr>\n",
              "      <th>128</th>\n",
              "      <td>4/29/2021 Thursday</td>\n",
              "      <td>711.03749</td>\n",
              "      <td>USD</td>\n",
              "      <td>CLP</td>\n",
              "    </tr>\n",
              "    <tr>\n",
              "      <th>129</th>\n",
              "      <td>4/30/2021 Friday</td>\n",
              "      <td>711.15731</td>\n",
              "      <td>USD</td>\n",
              "      <td>CLP</td>\n",
              "    </tr>\n",
              "  </tbody>\n",
              "</table>\n",
              "<p>130 rows × 4 columns</p>\n",
              "</div>"
            ],
            "text/plain": [
              "                    Date       Rate ISO Code From ISO Code To\n",
              "0       11/2/2020 Monday  772.19589           USD         CLP\n",
              "1      11/3/2020 Tuesday  760.36230           USD         CLP\n",
              "2    11/4/2020 Wednesday  757.10365           USD         CLP\n",
              "3     11/5/2020 Thursday  749.27340           USD         CLP\n",
              "4       11/6/2020 Friday  756.09598           USD         CLP\n",
              "..                   ...        ...           ...         ...\n",
              "125     4/26/2021 Monday  707.14454           USD         CLP\n",
              "126    4/27/2021 Tuesday  700.97490           USD         CLP\n",
              "127  4/28/2021 Wednesday  696.00604           USD         CLP\n",
              "128   4/29/2021 Thursday  711.03749           USD         CLP\n",
              "129     4/30/2021 Friday  711.15731           USD         CLP\n",
              "\n",
              "[130 rows x 4 columns]"
            ]
          },
          "metadata": {
            "tags": []
          },
          "execution_count": 96
        }
      ]
    },
    {
      "cell_type": "code",
      "metadata": {
        "colab": {
          "base_uri": "https://localhost:8080/",
          "height": 308
        },
        "id": "v_Jl2cI8EAaM",
        "outputId": "0f81a440-54b9-4cc8-c7ca-fc33443c0046"
      },
      "source": [
        "# creamos un nuevo atributo con la fecha\n",
        "\n",
        "# formatos de fecha: https://docs.python.org/3/library/datetime.html#strftime-and-strptime-format-codes\n",
        "dolar['Fecha'] = pd.to_datetime(dolar['Date'], format='%m/%d/%Y %A')\n",
        "\n",
        "dolar.plot(kind='line', x='Fecha', y='Rate')"
      ],
      "execution_count": null,
      "outputs": [
        {
          "output_type": "execute_result",
          "data": {
            "text/plain": [
              "<matplotlib.axes._subplots.AxesSubplot at 0x7fb13886f690>"
            ]
          },
          "metadata": {
            "tags": []
          },
          "execution_count": 99
        },
        {
          "output_type": "display_data",
          "data": {
            "image/png": "[encoded data removed]",
            "text/plain": [
              "<Figure size 432x288 with 1 Axes>"
            ]
          },
          "metadata": {
            "tags": [],
            "needs_background": "light"
          }
        }
      ]
    },
    {
      "cell_type": "markdown",
      "metadata": {
        "id": "gfzncwyoEkHc"
      },
      "source": [
        "## Gráfico de barras"
      ]
    },
    {
      "cell_type": "code",
      "metadata": {
        "colab": {
          "base_uri": "https://localhost:8080/",
          "height": 452
        },
        "id": "bLOuMKoUErDQ",
        "outputId": "2f701bbb-72d9-4512-fdf8-86c535987c6e"
      },
      "source": [
        "# equivalente a usar & en una sola instruccion\n",
        "df_ = df.loc[df['Año'] == 2010]\n",
        "df_ = df_.loc[df_['Muestra'] == 'Regional']\n",
        "\n",
        "df_.plot(kind='bar', x='Descripcion Muestra', y='Muertos')"
      ],
      "execution_count": null,
      "outputs": [
        {
          "output_type": "execute_result",
          "data": {
            "text/plain": [
              "<matplotlib.axes._subplots.AxesSubplot at 0x7fb138773950>"
            ]
          },
          "metadata": {
            "tags": []
          },
          "execution_count": 100
        },
        {
          "output_type": "display_data",
          "data": {
            "image/png": "[encoded data removed]",
            "text/plain": [
              "<Figure size 432x288 with 1 Axes>"
            ]
          },
          "metadata": {
            "tags": [],
            "needs_background": "light"
          }
        }
      ]
    },
    {
      "cell_type": "markdown",
      "metadata": {
        "id": "zth31kk2EluT"
      },
      "source": [
        "## Gráfico de distribución"
      ]
    },
    {
      "cell_type": "code",
      "metadata": {
        "colab": {
          "base_uri": "https://localhost:8080/",
          "height": 282
        },
        "id": "UzebFVTtFWHn",
        "outputId": "79bc10cd-5606-400b-edb5-c29e85199879"
      },
      "source": [
        "df_.plot(kind='hist', y='Atropello')"
      ],
      "execution_count": null,
      "outputs": [
        {
          "output_type": "execute_result",
          "data": {
            "text/plain": [
              "<matplotlib.axes._subplots.AxesSubplot at 0x7fb138120410>"
            ]
          },
          "metadata": {
            "tags": []
          },
          "execution_count": 108
        },
        {
          "output_type": "display_data",
          "data": {
            "image/png": "[encoded data removed]",
            "text/plain": [
              "<Figure size 432x288 with 1 Axes>"
            ]
          },
          "metadata": {
            "tags": [],
            "needs_background": "light"
          }
        }
      ]
    },
    {
      "cell_type": "code",
      "metadata": {
        "colab": {
          "base_uri": "https://localhost:8080/",
          "height": 235
        },
        "id": "xCdNr1CsCXpT",
        "outputId": "34a39271-6064-464b-cb28-aafc306413cf"
      },
      "source": [
        "tuplelist = [(2011,45.1,32.4),(2012,42.4,34.5),(2013,47.2,39.2),\n",
        "              (2014,44.2,31.4),(2015,39.9,29.8),(2016,41.5,36.7)]\n",
        "columnNames = ['year','temp','precip']\n",
        "weatherData = pd.DataFrame(tuplelist, columns=columnNames)\n",
        "\n",
        "weatherData"
      ],
      "execution_count": null,
      "outputs": [
        {
          "output_type": "execute_result",
          "data": {
            "text/html": [
              "<div>\n",
              "<style scoped>\n",
              "    .dataframe tbody tr th:only-of-type {\n",
              "        vertical-align: middle;\n",
              "    }\n",
              "\n",
              "    .dataframe tbody tr th {\n",
              "        vertical-align: top;\n",
              "    }\n",
              "\n",
              "    .dataframe thead th {\n",
              "        text-align: right;\n",
              "    }\n",
              "</style>\n",
              "<table border=\"1\" class=\"dataframe\">\n",
              "  <thead>\n",
              "    <tr style=\"text-align: right;\">\n",
              "      <th></th>\n",
              "      <th>year</th>\n",
              "      <th>temp</th>\n",
              "      <th>precip</th>\n",
              "    </tr>\n",
              "  </thead>\n",
              "  <tbody>\n",
              "    <tr>\n",
              "      <th>0</th>\n",
              "      <td>2011</td>\n",
              "      <td>45.1</td>\n",
              "      <td>32.4</td>\n",
              "    </tr>\n",
              "    <tr>\n",
              "      <th>1</th>\n",
              "      <td>2012</td>\n",
              "      <td>42.4</td>\n",
              "      <td>34.5</td>\n",
              "    </tr>\n",
              "    <tr>\n",
              "      <th>2</th>\n",
              "      <td>2013</td>\n",
              "      <td>47.2</td>\n",
              "      <td>39.2</td>\n",
              "    </tr>\n",
              "    <tr>\n",
              "      <th>3</th>\n",
              "      <td>2014</td>\n",
              "      <td>44.2</td>\n",
              "      <td>31.4</td>\n",
              "    </tr>\n",
              "    <tr>\n",
              "      <th>4</th>\n",
              "      <td>2015</td>\n",
              "      <td>39.9</td>\n",
              "      <td>29.8</td>\n",
              "    </tr>\n",
              "    <tr>\n",
              "      <th>5</th>\n",
              "      <td>2016</td>\n",
              "      <td>41.5</td>\n",
              "      <td>36.7</td>\n",
              "    </tr>\n",
              "  </tbody>\n",
              "</table>\n",
              "</div>"
            ],
            "text/plain": [
              "   year  temp  precip\n",
              "0  2011  45.1    32.4\n",
              "1  2012  42.4    34.5\n",
              "2  2013  47.2    39.2\n",
              "3  2014  44.2    31.4\n",
              "4  2015  39.9    29.8\n",
              "5  2016  41.5    36.7"
            ]
          },
          "metadata": {
            "tags": []
          },
          "execution_count": 86
        }
      ]
    },
    {
      "cell_type": "code",
      "metadata": {
        "colab": {
          "base_uri": "https://localhost:8080/",
          "height": 298
        },
        "id": "Nmy0AVFQCnq2",
        "outputId": "b08b0ee8-263d-4b86-ec79-4bc22dc640d8"
      },
      "source": [
        "weatherData[['temp','precip']].plot(kind='box', title='Box plot')"
      ],
      "execution_count": null,
      "outputs": [
        {
          "output_type": "execute_result",
          "data": {
            "text/plain": [
              "<matplotlib.axes._subplots.AxesSubplot at 0x7fb138c00410>"
            ]
          },
          "metadata": {
            "tags": []
          },
          "execution_count": 87
        },
        {
          "output_type": "display_data",
          "data": {
            "image/png": "[encoded data removed]",
            "text/plain": [
              "<Figure size 432x288 with 1 Axes>"
            ]
          },
          "metadata": {
            "tags": [],
            "needs_background": "light"
          }
        }
      ]
    },
    {
      "cell_type": "markdown",
      "metadata": {
        "id": "iwdH35dJF5Yf"
      },
      "source": [
        "# Referencias\n",
        "\n",
        "- https://pandas.pydata.org/docs/user_guide/index.html\n",
        "- http://www.cse.msu.edu/~ptan/dmbook/software/\n",
        "- https://ourworldindata.org/coronavirus-data"
      ]
    },
    {
      "cell_type": "code",
      "metadata": {
        "id": "gaPFOGd-Ckb-"
      },
      "source": [
        ""
      ],
      "execution_count": null,
      "outputs": []
    }
  ]
}